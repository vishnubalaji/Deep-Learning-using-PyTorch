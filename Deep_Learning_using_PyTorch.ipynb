{
  "nbformat": 4,
  "nbformat_minor": 0,
  "metadata": {
    "colab": {
      "name": "Deep Learning using PyTorch.ipynb",
      "provenance": [],
      "collapsed_sections": [],
      "authorship_tag": "ABX9TyP9dp7FNIy/zs7Hvubn/Ngg",
      "include_colab_link": true
    },
    "kernelspec": {
      "name": "python3",
      "display_name": "Python 3"
    },
    "widgets": {
      "application/vnd.jupyter.widget-state+json": {
        "1b9672f22ecb42e3a1256788a631a0f7": {
          "model_module": "@jupyter-widgets/controls",
          "model_name": "HBoxModel",
          "state": {
            "_view_name": "HBoxView",
            "_dom_classes": [],
            "_model_name": "HBoxModel",
            "_view_module": "@jupyter-widgets/controls",
            "_model_module_version": "1.5.0",
            "_view_count": null,
            "_view_module_version": "1.5.0",
            "box_style": "",
            "layout": "IPY_MODEL_acd1255539fe43529180284a3e20aa60",
            "_model_module": "@jupyter-widgets/controls",
            "children": [
              "IPY_MODEL_e77acdf735714ce6850b8014d605a133",
              "IPY_MODEL_d972b33c5d354dd2adfe0286828d1bd2"
            ]
          }
        },
        "acd1255539fe43529180284a3e20aa60": {
          "model_module": "@jupyter-widgets/base",
          "model_name": "LayoutModel",
          "state": {
            "_view_name": "LayoutView",
            "grid_template_rows": null,
            "right": null,
            "justify_content": null,
            "_view_module": "@jupyter-widgets/base",
            "overflow": null,
            "_model_module_version": "1.2.0",
            "_view_count": null,
            "flex_flow": null,
            "width": null,
            "min_width": null,
            "border": null,
            "align_items": null,
            "bottom": null,
            "_model_module": "@jupyter-widgets/base",
            "top": null,
            "grid_column": null,
            "overflow_y": null,
            "overflow_x": null,
            "grid_auto_flow": null,
            "grid_area": null,
            "grid_template_columns": null,
            "flex": null,
            "_model_name": "LayoutModel",
            "justify_items": null,
            "grid_row": null,
            "max_height": null,
            "align_content": null,
            "visibility": null,
            "align_self": null,
            "height": null,
            "min_height": null,
            "padding": null,
            "grid_auto_rows": null,
            "grid_gap": null,
            "max_width": null,
            "order": null,
            "_view_module_version": "1.2.0",
            "grid_template_areas": null,
            "object_position": null,
            "object_fit": null,
            "grid_auto_columns": null,
            "margin": null,
            "display": null,
            "left": null
          }
        },
        "e77acdf735714ce6850b8014d605a133": {
          "model_module": "@jupyter-widgets/controls",
          "model_name": "FloatProgressModel",
          "state": {
            "_view_name": "ProgressView",
            "style": "IPY_MODEL_4c78b68923a04af49423c7b0e608db64",
            "_dom_classes": [],
            "description": "",
            "_model_name": "FloatProgressModel",
            "bar_style": "success",
            "max": 1,
            "_view_module": "@jupyter-widgets/controls",
            "_model_module_version": "1.5.0",
            "value": 1,
            "_view_count": null,
            "_view_module_version": "1.5.0",
            "orientation": "horizontal",
            "min": 0,
            "description_tooltip": null,
            "_model_module": "@jupyter-widgets/controls",
            "layout": "IPY_MODEL_d6ada893d8974f93bb5dd2b913ef773e"
          }
        },
        "d972b33c5d354dd2adfe0286828d1bd2": {
          "model_module": "@jupyter-widgets/controls",
          "model_name": "HTMLModel",
          "state": {
            "_view_name": "HTMLView",
            "style": "IPY_MODEL_326dbd42eab74655a1d3a87d737497a0",
            "_dom_classes": [],
            "description": "",
            "_model_name": "HTMLModel",
            "placeholder": "​",
            "_view_module": "@jupyter-widgets/controls",
            "_model_module_version": "1.5.0",
            "value": " 170500096/? [00:05&lt;00:00, 31366294.07it/s]",
            "_view_count": null,
            "_view_module_version": "1.5.0",
            "description_tooltip": null,
            "_model_module": "@jupyter-widgets/controls",
            "layout": "IPY_MODEL_9a1175fc91344e71b5bd86966e114217"
          }
        },
        "4c78b68923a04af49423c7b0e608db64": {
          "model_module": "@jupyter-widgets/controls",
          "model_name": "ProgressStyleModel",
          "state": {
            "_view_name": "StyleView",
            "_model_name": "ProgressStyleModel",
            "description_width": "initial",
            "_view_module": "@jupyter-widgets/base",
            "_model_module_version": "1.5.0",
            "_view_count": null,
            "_view_module_version": "1.2.0",
            "bar_color": null,
            "_model_module": "@jupyter-widgets/controls"
          }
        },
        "d6ada893d8974f93bb5dd2b913ef773e": {
          "model_module": "@jupyter-widgets/base",
          "model_name": "LayoutModel",
          "state": {
            "_view_name": "LayoutView",
            "grid_template_rows": null,
            "right": null,
            "justify_content": null,
            "_view_module": "@jupyter-widgets/base",
            "overflow": null,
            "_model_module_version": "1.2.0",
            "_view_count": null,
            "flex_flow": null,
            "width": null,
            "min_width": null,
            "border": null,
            "align_items": null,
            "bottom": null,
            "_model_module": "@jupyter-widgets/base",
            "top": null,
            "grid_column": null,
            "overflow_y": null,
            "overflow_x": null,
            "grid_auto_flow": null,
            "grid_area": null,
            "grid_template_columns": null,
            "flex": null,
            "_model_name": "LayoutModel",
            "justify_items": null,
            "grid_row": null,
            "max_height": null,
            "align_content": null,
            "visibility": null,
            "align_self": null,
            "height": null,
            "min_height": null,
            "padding": null,
            "grid_auto_rows": null,
            "grid_gap": null,
            "max_width": null,
            "order": null,
            "_view_module_version": "1.2.0",
            "grid_template_areas": null,
            "object_position": null,
            "object_fit": null,
            "grid_auto_columns": null,
            "margin": null,
            "display": null,
            "left": null
          }
        },
        "326dbd42eab74655a1d3a87d737497a0": {
          "model_module": "@jupyter-widgets/controls",
          "model_name": "DescriptionStyleModel",
          "state": {
            "_view_name": "StyleView",
            "_model_name": "DescriptionStyleModel",
            "description_width": "",
            "_view_module": "@jupyter-widgets/base",
            "_model_module_version": "1.5.0",
            "_view_count": null,
            "_view_module_version": "1.2.0",
            "_model_module": "@jupyter-widgets/controls"
          }
        },
        "9a1175fc91344e71b5bd86966e114217": {
          "model_module": "@jupyter-widgets/base",
          "model_name": "LayoutModel",
          "state": {
            "_view_name": "LayoutView",
            "grid_template_rows": null,
            "right": null,
            "justify_content": null,
            "_view_module": "@jupyter-widgets/base",
            "overflow": null,
            "_model_module_version": "1.2.0",
            "_view_count": null,
            "flex_flow": null,
            "width": null,
            "min_width": null,
            "border": null,
            "align_items": null,
            "bottom": null,
            "_model_module": "@jupyter-widgets/base",
            "top": null,
            "grid_column": null,
            "overflow_y": null,
            "overflow_x": null,
            "grid_auto_flow": null,
            "grid_area": null,
            "grid_template_columns": null,
            "flex": null,
            "_model_name": "LayoutModel",
            "justify_items": null,
            "grid_row": null,
            "max_height": null,
            "align_content": null,
            "visibility": null,
            "align_self": null,
            "height": null,
            "min_height": null,
            "padding": null,
            "grid_auto_rows": null,
            "grid_gap": null,
            "max_width": null,
            "order": null,
            "_view_module_version": "1.2.0",
            "grid_template_areas": null,
            "object_position": null,
            "object_fit": null,
            "grid_auto_columns": null,
            "margin": null,
            "display": null,
            "left": null
          }
        }
      }
    },
    "accelerator": "GPU"
  },
  "cells": [
    {
      "cell_type": "markdown",
      "metadata": {
        "id": "view-in-github",
        "colab_type": "text"
      },
      "source": [
        "<a href=\"https://colab.research.google.com/github/vishnubalaji/Deep-Learning-using-PyTorch/blob/main/Deep_Learning_using_PyTorch.ipynb\" target=\"_parent\"><img src=\"https://colab.research.google.com/assets/colab-badge.svg\" alt=\"Open In Colab\"/></a>"
      ]
    },
    {
      "cell_type": "markdown",
      "metadata": {
        "id": "fAraEoxkI7_8"
      },
      "source": [
        "# Practice ( Loading data from MNIST , training, testing, validating and displaying using helper module)"
      ]
    },
    {
      "cell_type": "code",
      "metadata": {
        "id": "GbI93X7SIkBP"
      },
      "source": [
        "# First and foremost step, import all the packages and necessary classes\n",
        "\n",
        "%matplotlib inline\n",
        "# %config InlineBackend.figure_format = 'retina'\n",
        "import matplotlib.pyplot as plt\n",
        "import torch\n",
        "from torchvision import datasets, transforms\n",
        "from torch import nn,optim\n",
        "from torch.nn import functional as F"
      ],
      "execution_count": null,
      "outputs": []
    },
    {
      "cell_type": "code",
      "metadata": {
        "id": "lR-5M_maI7gO"
      },
      "source": [
        "# Importing all the datasets and splitting it into training and testing\n",
        "\n",
        "transform = transforms.Compose([transforms.ToTensor(),transforms.Normalize((0.5),(0.5))])\n",
        "\n",
        "trainset = datasets.FashionMNIST('~/.pytorch/F_MNIST_data/', download=True, train=True, transform=transform)\n",
        "testset = datasets.FashionMNIST('~/.pytorch/F_MNIST_data/',download=True, train=False, transform=transform)\n",
        "\n",
        "trainloader = torch.utils.data.DataLoader(trainset, batch_size=64, shuffle=True)\n",
        "testloader = torch.utils.data.DataLoader(testset, batch_size=64, shuffle=True)"
      ],
      "execution_count": null,
      "outputs": []
    },
    {
      "cell_type": "code",
      "metadata": {
        "id": "Q-SLcxekJfsR"
      },
      "source": [
        "# Creating the neural network class\n",
        "\n",
        "class Classifier(nn.Module):\n",
        "    def __init__(self):\n",
        "        super().__init__()\n",
        "        self.fc1 = nn.Linear(784,256)\n",
        "        self.fc2 = nn.Linear(256,128)\n",
        "        self.fc3 = nn.Linear(128,64)\n",
        "        self.fc4 = nn.Linear(64,10)\n",
        "        \n",
        "    def forward(self,x):\n",
        "        x=x.view(x.shape[0],-1)\n",
        "        \n",
        "        x=F.relu(self.fc1(x))\n",
        "        x=F.relu(self.fc2(x))\n",
        "        x=F.relu(self.fc3(x))\n",
        "        x=F.log_softmax(self.fc4(x),dim=1)\n",
        "        \n",
        "        return x"
      ],
      "execution_count": null,
      "outputs": []
    },
    {
      "cell_type": "code",
      "metadata": {
        "id": "bSEeNRWSJiuD",
        "colab": {
          "base_uri": "https://localhost:8080/"
        },
        "outputId": "544848ee-004d-4f8a-d490-5d3e4ddad456"
      },
      "source": [
        "model = Classifier()\n",
        "criterion = nn.NLLLoss()\n",
        "optimizer = optim.Adam(model.parameters(),lr=0.003)\n",
        "\n",
        "epochs = 5\n",
        "steps = 0\n",
        "\n",
        "train_losses, test_losses = [],[]\n",
        "for e in range(epochs):\n",
        "    running_loss = 0\n",
        "    for images,labels in trainloader:\n",
        "        optimizer.zero_grad()\n",
        "        log_ps = model(images)\n",
        "        loss = criterion(log_ps,labels)\n",
        "        loss.backward()\n",
        "        optimizer.step()\n",
        "        \n",
        "        running_loss+=loss.item()\n",
        "    else:\n",
        "        test_loss = 0\n",
        "        accuracy = 0\n",
        "        \n",
        "        with torch.no_grad():\n",
        "            for images,labels in testloader:\n",
        "                log_ps = model(images)\n",
        "                test_loss+=criterion(log_ps,labels)\n",
        "                \n",
        "                ps = torch.exp(log_ps)\n",
        "                top_p,top_class = ps.topk(1,dim=1)\n",
        "                equals = top_class==labels.view(top_class.shape)\n",
        "                accuracy += torch.mean(equals.type(torch.FloatTensor))\n",
        "        \n",
        "        model.train()\n",
        "        \n",
        "        train_losses.append(running_loss/len(trainloader))\n",
        "        test_losses.append(test_loss/len(testloader))\n",
        "        \n",
        "        print(\"Epoch {} \".format(e+1),'Training Loss : {} '.format(train_losses[-1]),'Testing Loss {} '.format(test_losses[-1]),'Test Accuracy : {}'.format(accuracy/len(testloader)))"
      ],
      "execution_count": null,
      "outputs": [
        {
          "output_type": "stream",
          "text": [
            "Epoch 1  Training Loss : 0.5139834978846091  Testing Loss 0.49503496289253235  Test Accuracy : 0.8215565085411072\n",
            "Epoch 2  Training Loss : 0.3898848300930788  Testing Loss 0.40840640664100647  Test Accuracy : 0.8563893437385559\n",
            "Epoch 3  Training Loss : 0.3565350735921468  Testing Loss 0.4250194728374481  Test Accuracy : 0.8498208522796631\n",
            "Epoch 4  Training Loss : 0.3332956908211144  Testing Loss 0.3989698886871338  Test Accuracy : 0.8664410710334778\n",
            "Epoch 5  Training Loss : 0.31706569609103175  Testing Loss 0.38199135661125183  Test Accuracy : 0.8650477528572083\n"
          ],
          "name": "stdout"
        }
      ]
    },
    {
      "cell_type": "code",
      "metadata": {
        "id": "lxM2qRZaJk2c",
        "colab": {
          "base_uri": "https://localhost:8080/",
          "height": 282
        },
        "outputId": "052c426e-80fd-41bf-d23b-02a0bb155a39"
      },
      "source": [
        "# Plot the training and testing loss\n",
        "\n",
        "plt.plot(train_losses,label='Training Loss')\n",
        "plt.plot(test_losses,label='Testing Loss')\n",
        "plt.legend(frameon=False)"
      ],
      "execution_count": null,
      "outputs": [
        {
          "output_type": "execute_result",
          "data": {
            "text/plain": [
              "<matplotlib.legend.Legend at 0x7f253dbec0b8>"
            ]
          },
          "metadata": {
            "tags": []
          },
          "execution_count": 6
        },
        {
          "output_type": "display_data",
          "data": {
            "image/png": "[encoded data removed]",
            "text/plain": [
              "<Figure size 432x288 with 1 Axes>"
            ]
          },
          "metadata": {
            "tags": [],
            "needs_background": "light"
          }
        }
      ]
    },
    {
      "cell_type": "code",
      "metadata": {
        "id": "ca9ZGTfhJo2F",
        "colab": {
          "base_uri": "https://localhost:8080/",
          "height": 426
        },
        "outputId": "ee58b307-0872-4ae7-cb50-d966db77489b"
      },
      "source": [
        "# find the probabilities and display the output of the model\n",
        "\n",
        "model.eval()\n",
        "dataiter = iter(testloader)\n",
        "images,labels = dataiter.next()\n",
        "\n",
        "img = images[0]\n",
        "img = img.view(1,784)\n",
        "with torch.no_grad():\n",
        "    output = model(img)\n",
        "\n",
        "labels_string = ['T-shirt/top','Trouser','Pullover','Dress','Coat','Sandal','Shirt','Sneaker','Bag','Ankle Boot']\n",
        "img = img.view(1,28,28).numpy().squeeze()\n",
        "fig , (ax1 , ax2) = plt.subplots(figsize=(23,5),ncols=2)\n",
        "fig.suptitle('Image and probability prediction')\n",
        "ax1.imshow(img)\n",
        "output_prob = torch.exp(output)\n",
        "print(output_prob,'\\n',output_prob.type,'\\n')\n",
        "output_prob = output_prob.numpy().squeeze()\n",
        "ax2.bar(labels_string,output_prob)\n",
        "# print(output_prob)\n",
        "# helper.view_classify(img.view(1,28,28),output_prob)"
      ],
      "execution_count": null,
      "outputs": [
        {
          "output_type": "stream",
          "text": [
            "tensor([[8.6132e-13, 1.5686e-13, 6.5408e-15, 4.4691e-13, 2.0139e-13, 4.6194e-03,\n",
            "         2.8864e-12, 9.9529e-01, 6.4153e-09, 8.7639e-05]]) \n",
            " <built-in method type of Tensor object at 0x7f253cab8900> \n",
            "\n"
          ],
          "name": "stdout"
        },
        {
          "output_type": "execute_result",
          "data": {
            "text/plain": [
              "<BarContainer object of 10 artists>"
            ]
          },
          "metadata": {
            "tags": []
          },
          "execution_count": 13
        },
        {
          "output_type": "display_data",
          "data": {
            "image/png": "[encoded data removed]",
            "text/plain": [
              "<Figure size 1656x360 with 2 Axes>"
            ]
          },
          "metadata": {
            "tags": [],
            "needs_background": "light"
          }
        }
      ]
    },
    {
      "cell_type": "markdown",
      "metadata": {
        "id": "i_XJ5Qp7NM1J"
      },
      "source": [
        "#Saving and Loading Deep Learning Network models"
      ]
    },
    {
      "cell_type": "code",
      "metadata": {
        "id": "PLkD3Ul5ECgs"
      },
      "source": [
        "# print('My model\\n',model)\n",
        "# print('Model state dict keys\\n',model.state_dict().keys())\n",
        "\n",
        "torch.save(model.state_dict(),'Neural_Mind.pth')"
      ],
      "execution_count": null,
      "outputs": []
    },
    {
      "cell_type": "code",
      "metadata": {
        "id": "r5Wd9rZ3O17C",
        "colab": {
          "base_uri": "https://localhost:8080/"
        },
        "outputId": "4c614c85-6f16-4b0e-db54-fd5f2924b807"
      },
      "source": [
        "state_dict_=torch.load('Neural_Mind.pth')\n",
        "state_dict_.keys()"
      ],
      "execution_count": null,
      "outputs": [
        {
          "output_type": "execute_result",
          "data": {
            "text/plain": [
              "odict_keys(['fc1.weight', 'fc1.bias', 'fc2.weight', 'fc2.bias', 'fc3.weight', 'fc3.bias', 'fc4.weight', 'fc4.bias'])"
            ]
          },
          "metadata": {
            "tags": []
          },
          "execution_count": 21
        }
      ]
    },
    {
      "cell_type": "code",
      "metadata": {
        "id": "qNVuEVCdPeV5",
        "colab": {
          "base_uri": "https://localhost:8080/"
        },
        "outputId": "6ad39c02-244a-4e4e-dcbf-79eb843adc45"
      },
      "source": [
        "model.load_state_dict(state_dict_)\n",
        "# print(model.state_dict())\n",
        "# print(model.state_dict().values())"
      ],
      "execution_count": null,
      "outputs": [
        {
          "output_type": "execute_result",
          "data": {
            "text/plain": [
              "<All keys matched successfully>"
            ]
          },
          "metadata": {
            "tags": []
          },
          "execution_count": 28
        }
      ]
    },
    {
      "cell_type": "markdown",
      "metadata": {
        "id": "WmgharRRSSYY"
      },
      "source": [
        "# Loading image data of cats and dogs"
      ]
    },
    {
      "cell_type": "code",
      "metadata": {
        "id": "pHEl3GaISRyV"
      },
      "source": [
        "# First and foremost step, import all the packages and necessary classes\n",
        "\n",
        "%matplotlib inline\n",
        "# %config InlineBackend.figure_format = 'retina'\n",
        "import matplotlib.pyplot as plt\n",
        "import torch\n",
        "from torchvision import datasets, transforms\n",
        "from torch import nn,optim\n",
        "from torch.nn import functional as F"
      ],
      "execution_count": null,
      "outputs": []
    },
    {
      "cell_type": "code",
      "metadata": {
        "id": "vUQR0af4N_ku"
      },
      "source": [
        "transform = transforms.Compose([transforms.Resize(255),transforms.CenterCrop(224),transforms.ToTensor()])\n",
        "dataset = datasets.ImageFolder('Cat_Dog_data/train',transform=transform)"
      ],
      "execution_count": null,
      "outputs": []
    },
    {
      "cell_type": "markdown",
      "metadata": {
        "id": "cLCz0pdM03gR"
      },
      "source": [
        "#Python Engineer PyTorch Tutorial Workouts"
      ]
    },
    {
      "cell_type": "markdown",
      "metadata": {
        "id": "yNfR0JPa7iQp"
      },
      "source": [
        "###1. Gradient Calculation With Autograd"
      ]
    },
    {
      "cell_type": "code",
      "metadata": {
        "id": "hdCQSbrUQrQp",
        "colab": {
          "base_uri": "https://localhost:8080/"
        },
        "outputId": "fb09d60a-23ce-4bb0-fa2a-01393d74ad39"
      },
      "source": [
        "import torch\n",
        "sample = torch.randn(3,dtype=torch.float16)  # Creating a random array/list of tensors of size 3 and datatype torch.float16\n",
        "# print(sample)\n",
        "\n",
        "# Implementing autograd\n",
        "# b = torch.randn(3,requires_grad=True)\n",
        "b = torch.tensor([1,2,3],dtype=torch.float16,requires_grad=True)\n",
        "print('Values of b are ',b)\n",
        "c = b*2\n",
        "print('Values of c are ',c)\n",
        "z = c.mean()\n",
        "print('Mean of c is ',z)\n",
        "# v = torch.tensor([1,1,1],dtype=torch.float16)\n",
        "z.backward()\n",
        "print('Gradient of b are ',b.grad)"
      ],
      "execution_count": null,
      "outputs": [
        {
          "output_type": "stream",
          "text": [
            "Values of b are  tensor([1., 2., 3.], dtype=torch.float16, requires_grad=True)\n",
            "Values of c are  tensor([2., 4., 6.], dtype=torch.float16, grad_fn=<MulBackward0>)\n",
            "Mean of c is  tensor(4., dtype=torch.float16, grad_fn=<MeanBackward0>)\n",
            "Gradient of b are  tensor([0.6665, 0.6665, 0.6665], dtype=torch.float16)\n"
          ],
          "name": "stdout"
        }
      ]
    },
    {
      "cell_type": "markdown",
      "metadata": {
        "id": "m5qxoyXL7sAf"
      },
      "source": [
        "### 1.1. Without using Autograd"
      ]
    },
    {
      "cell_type": "code",
      "metadata": {
        "id": "oTWmu1AH7sZA",
        "colab": {
          "base_uri": "https://localhost:8080/"
        },
        "outputId": "fbaf2ae5-a4ca-4871-9624-df2ecc6b7476"
      },
      "source": [
        "# Without using autograd\n",
        "\n",
        "b.requires_grad_(False)\n",
        "print(b)\n",
        "\n",
        "b = b.detach()\n",
        "print(b)\n",
        "\n",
        "with torch.no_grad():\n",
        "  print(b+1)\n",
        "\n",
        "# Once you come out of torch.no_grad(), requirs_grad becomes True --> check it out print(b)"
      ],
      "execution_count": null,
      "outputs": [
        {
          "output_type": "stream",
          "text": [
            "tensor([2., 3., 4.], dtype=torch.float16)\n",
            "tensor([1., 2., 3.], dtype=torch.float16, requires_grad=True)\n"
          ],
          "name": "stdout"
        }
      ]
    },
    {
      "cell_type": "markdown",
      "metadata": {
        "id": "p2IdhOTE_Y76"
      },
      "source": [
        "###1.2. Clearing the accumulated gradients"
      ]
    },
    {
      "cell_type": "code",
      "metadata": {
        "id": "BKzSl8e3_Y0r",
        "colab": {
          "base_uri": "https://localhost:8080/"
        },
        "outputId": "8798947d-ee67-4ddc-9445-4ce27cd50627"
      },
      "source": [
        "# Clearing the gradients accumulated\n",
        "\n",
        "print(b.grad)\n",
        "b.grad.zero_()\n",
        "print(b.grad)"
      ],
      "execution_count": null,
      "outputs": [
        {
          "output_type": "stream",
          "text": [
            "tensor([0.6665, 0.6665, 0.6665], dtype=torch.float16)\n",
            "tensor([0., 0., 0.], dtype=torch.float16)\n"
          ],
          "name": "stdout"
        }
      ]
    },
    {
      "cell_type": "markdown",
      "metadata": {
        "id": "VpYWxY91AElH"
      },
      "source": [
        "#2. Backpropogation in MLP\n"
      ]
    },
    {
      "cell_type": "code",
      "metadata": {
        "id": "iXosIgmtAE_U",
        "colab": {
          "base_uri": "https://localhost:8080/"
        },
        "outputId": "9f51589c-a8fe-474d-c039-e27e37a44237"
      },
      "source": [
        "import torch\n",
        "\n",
        "x=torch.tensor([1],dtype=torch.float16) # Input parameter (x)\n",
        "y=torch.tensor([3],dtype=torch.float16) # Expected output (y) or correct output\n",
        "\n",
        "weight=torch.tensor([2],dtype=torch.float16,requires_grad=True) # Input weights for the input parameter x\n",
        "\n",
        "# Forward Pass of the MLP\n",
        "\n",
        "y_hat=x*weight  # Output got by executing the input and the weight parameters\n",
        "print('Actual output : ',y_hat)\n",
        "\n",
        "# Determining the loss\n",
        "loss=(y_hat-y)*(y_hat-y)\n",
        "print('Loss : ',loss)\n",
        "\n",
        "# Backward pass\n",
        "loss.backward()\n",
        "print('Gradients of weight : ',weight.grad)\n"
      ],
      "execution_count": null,
      "outputs": [
        {
          "output_type": "stream",
          "text": [
            "Actual output :  tensor([2.], dtype=torch.float16, grad_fn=<MulBackward0>)\n",
            "Loss :  tensor([1.], dtype=torch.float16, grad_fn=<MulBackward0>)\n",
            "Gradients of weight :  tensor([-2.], dtype=torch.float16)\n"
          ],
          "name": "stdout"
        }
      ]
    },
    {
      "cell_type": "markdown",
      "metadata": {
        "id": "N-Xeyrt8EdPz"
      },
      "source": [
        "#3. Gradient Descent with Autograd and Backpropagation"
      ]
    },
    {
      "cell_type": "markdown",
      "metadata": {
        "id": "zfRs6ZnacG9s"
      },
      "source": [
        "###3.1. Gradient Descent using numpy"
      ]
    },
    {
      "cell_type": "code",
      "metadata": {
        "id": "vVwx-4-6EdhW",
        "colab": {
          "base_uri": "https://localhost:8080/"
        },
        "outputId": "3a65e422-4877-4f43-8d66-c7fa889a8844"
      },
      "source": [
        "import numpy as np\n",
        "\n",
        "# Function is f = 2*x\n",
        "x_input=np.array([1,2,3],dtype=np.float16)\n",
        "y_output=np.array([2,4,6],dtype=np.float16) # Original output\n",
        "\n",
        "# print(x)\n",
        "# print(y)\n",
        "ww=0.0\n",
        "\n",
        "def forward(input):\n",
        "  return ww*input\n",
        "\n",
        "def loss(output,output_predicted):\n",
        "  return ((output_predicted-output)*(output_predicted-output)).mean()\n",
        "\n",
        "# MSE = 1/N*(w*x-y)**2\n",
        "# dJ/dw = 1/N*(w*x-y)*2x\n",
        "\n",
        "def gradient(input,output,output_predicted):\n",
        "  return (np.dot(2*input,output_predicted-output)).mean()\n",
        "\n",
        "print('Prediction before training : ',forward(x_input),'Output Expected : ',y_output)\n",
        "\n",
        "epochs = 10\n",
        "learning_rate = 0.01\n",
        "\n",
        "for i in range(epochs):\n",
        "  y_pred = forward(x_input) # Prediction\n",
        "\n",
        "  l = loss(y_output,y_pred)  # Loss\n",
        "\n",
        "  dw = gradient(x_input,y_output,y_pred)  # Gradients\n",
        "\n",
        "  ww-=learning_rate*dw  # Updating weights\n",
        "\n",
        "  print('Epoch : ',i+1,'\\tLoss : ',l)\n",
        "print('Prediction after training : ',forward(x_input),'Output Expected : ',y_output)"
      ],
      "execution_count": null,
      "outputs": [
        {
          "output_type": "stream",
          "text": [
            "Prediction before training :  [0. 0. 0.] Output Expected :  [2. 4. 6.]\n",
            "Epoch :  1 \tLoss :  18.67\n",
            "Epoch :  2 \tLoss :  9.68\n",
            "Epoch :  3 \tLoss :  5.02\n",
            "Epoch :  4 \tLoss :  2.598\n",
            "Epoch :  5 \tLoss :  1.351\n",
            "Epoch :  6 \tLoss :  0.6978\n",
            "Epoch :  7 \tLoss :  0.362\n",
            "Epoch :  8 \tLoss :  0.188\n",
            "Epoch :  9 \tLoss :  0.0975\n",
            "Epoch :  10 \tLoss :  0.05075\n",
            "Prediction after training :  [1.925 3.85  5.773] Output Expected :  [2. 4. 6.]\n"
          ],
          "name": "stdout"
        }
      ]
    },
    {
      "cell_type": "markdown",
      "metadata": {
        "id": "wwKnZQZrcPMm"
      },
      "source": [
        "###3.2. Gradient Descent using pytorch"
      ]
    },
    {
      "cell_type": "code",
      "metadata": {
        "id": "13jqH7gicPT8"
      },
      "source": [
        "import torch\n",
        "\n",
        "\n",
        "# Function is f = 2*x\n",
        "x_input=torch.tensor([1,2,3],dtype=torch.float16)\n",
        "y_output=torch.tensor([2,4,6],dtype=torch.float16) # Original output\n",
        "\n",
        "# print(x)\n",
        "# print(y)\n",
        "ww=torch.tensor(0,dtype=torch.float16,requires_grad=True)\n",
        "\n",
        "def forward(input):\n",
        "  return ww*input\n",
        "\n",
        "def loss(output,output_predicted):\n",
        "  return ((output_predicted-output)*(output_predicted-output)).mean()\n",
        "\n",
        "# MSE = 1/N*(w*x-y)**2\n",
        "# dJ/dw = 1/N*(w*x-y)*2x\n",
        "\n",
        "print('Prediction before training : ',forward(x_input),'Output Expected : ',y_output)\n",
        "\n",
        "epochs = 1000\n",
        "learning_rate = 0.05\n",
        "\n",
        "for i in range(epochs):\n",
        "  y_pred = forward(x_input) # Prediction\n",
        "\n",
        "  l = loss(y_output,y_pred)  # Loss\n",
        "\n",
        "  l.backward()  # Gradients\n",
        "\n",
        "  with torch.no_grad():\n",
        "    \n",
        "    ww-=learning_rate*ww.grad  # Updating weights\n",
        "  \n",
        "  ww.grad.zero_()  # Zero the gradients\n",
        "  #print('Epoch : ',i+1,'\\tLoss : ',l)\n",
        "print('Prediction after training : ',forward(x_input),'Output Expected : ',y_output)\n"
      ],
      "execution_count": null,
      "outputs": []
    },
    {
      "cell_type": "markdown",
      "metadata": {
        "id": "PtlX-yGyg6W0"
      },
      "source": [
        "###3.3. Training Pipeline : Model, Loss, Optimizer"
      ]
    },
    {
      "cell_type": "code",
      "metadata": {
        "id": "dze34ZiZg6jf",
        "colab": {
          "base_uri": "https://localhost:8080/"
        },
        "outputId": "b0a5a6b6-c01c-4d7e-e126-c07c54c77f3c"
      },
      "source": [
        "import torch\n",
        "import torch.nn as nn\n",
        "\n",
        "# Function is f = 2*x\n",
        "\n",
        "x_input=torch.tensor([[1],[2],[3]],dtype=torch.float32)\n",
        "y_output=torch.tensor([[2],[4],[6]],dtype=torch.float32) # Original output\n",
        "# print(x_input.shape)\n",
        "\n",
        "n_samples,n_features=x_input.shape\n",
        "input_shape = n_features\n",
        "output_shape = n_features\n",
        "\n",
        "# print(x)\n",
        "# print(y)\n",
        "\n",
        "# ww=torch.tensor(0,dtype=torch.float32,requires_grad=True)\n",
        "\n",
        "model = nn.Linear(input_shape,output_shape)\n",
        "\n",
        "\n",
        "# def loss(y,y_pred):\n",
        "#   return ((y-y_pred)*(y-y_pred)).mean()\n",
        "\n",
        "# MSE = 1/N*(w*x-y)**2\n",
        "# dJ/dw = 1/N*(w*x-y)*2x\n",
        "\n",
        "print('Prediction before training : ',model(x_input),'\\nOutput Expected : ',y_output)\n",
        "\n",
        "epochs = 1000\n",
        "learning_rate = 0.05\n",
        "criterion=nn.MSELoss()\n",
        "\n",
        "optimizer=torch.optim.SGD(model.parameters(),lr=learning_rate)\n",
        "\n",
        "for i in range(epochs):\n",
        "  y_predicted =  model(x_input) # Prediction\n",
        "  # print(y_pred)\n",
        "\n",
        "  loss_model = criterion(y_output,y_predicted)  # loss(y_output,y_predicted)  #criterion(y_output,y_pred)  # Loss\n",
        "  # print(loss_model)\n",
        "\n",
        "  loss_model.backward()  # Gradients\n",
        "\n",
        "  with torch.no_grad():\n",
        "    \n",
        "    optimizer.step()  # Updating weights\n",
        "  \n",
        "  optimizer.zero_grad()  # Zero the gradients\n",
        "  # print('Epoch : ',i+1,'\\tLoss : ',loss_model.item())\n",
        "print('\\nPrediction after training : ',model(x_input),'\\nOutput Expected : ',y_output)\n",
        "\n"
      ],
      "execution_count": null,
      "outputs": [
        {
          "output_type": "stream",
          "text": [
            "Prediction before training :  tensor([[-0.7691],\n",
            "        [-1.7057],\n",
            "        [-2.6423]], grad_fn=<AddmmBackward>) \n",
            "Output Expected :  tensor([[2.],\n",
            "        [4.],\n",
            "        [6.]])\n",
            "\n",
            "Prediction after training :  tensor([[2.0000],\n",
            "        [4.0000],\n",
            "        [6.0000]], grad_fn=<AddmmBackward>) \n",
            "Output Expected :  tensor([[2.],\n",
            "        [4.],\n",
            "        [6.]])\n"
          ],
          "name": "stdout"
        }
      ]
    },
    {
      "cell_type": "markdown",
      "metadata": {
        "id": "gN98hBtzp_ej"
      },
      "source": [
        "#4. Linear Regression"
      ]
    },
    {
      "cell_type": "code",
      "metadata": {
        "id": "DIEMci-pp_Ue",
        "colab": {
          "base_uri": "https://localhost:8080/",
          "height": 285
        },
        "outputId": "a4821a54-a50c-4089-af14-236aee7fa66a"
      },
      "source": [
        "import torch\n",
        "import torch.nn as nn\n",
        "import numpy as np\n",
        "from sklearn import datasets as ds\n",
        "import matplotlib.pyplot as plt\n",
        "\n",
        "# 1) Model\n",
        "# 2) Loss and optimizer\n",
        "# 3) Training loop\n",
        "\n",
        "x_numpy,y_numpy = ds.make_regression(n_samples=100,n_features=1,noise=20,random_state=1)\n",
        "\n",
        "x=torch.from_numpy(x_numpy.astype(np.float32))\n",
        "y=torch.from_numpy(y_numpy.astype(np.float32))\n",
        "\n",
        "# print(x)\n",
        "\n",
        "\n",
        "# print(y.shape[0])\n",
        "y=y.view(y.shape[0],1)\n",
        "# print(y.shape)\n",
        "# print(y)\n",
        "n_samples,n_features=x.shape\n",
        "# print(n_samples,n_features)\n",
        "\n",
        "input_size=n_features\n",
        "output_size=n_features\n",
        "\n",
        "model=nn.Linear(input_size,output_size)\n",
        "criterion=nn.MSELoss()\n",
        "learning_rate=0.005\n",
        "optimizer=torch.optim.SGD(model.parameters(),lr=learning_rate)\n",
        "\n",
        "epochs=1000\n",
        "# print('Before training : ',model(x))\n",
        "\n",
        "for i in range(epochs):\n",
        "  y_predicted=model(x)\n",
        "  loss=criterion(y,y_predicted)\n",
        "  \n",
        "  loss.backward()\n",
        "\n",
        "  with torch.no_grad():\n",
        "    optimizer.step()\n",
        "\n",
        "  optimizer.zero_grad()\n",
        "  # print('Loss is : ',loss.item())\n",
        "\n",
        "output=model(x).detach().numpy()\n",
        "\n",
        "plt.scatter(x_numpy,y_numpy,c='b')\n",
        "plt.plot(x_numpy,output,c='r')\n",
        "# print('After training : ',model(x))"
      ],
      "execution_count": null,
      "outputs": [
        {
          "output_type": "execute_result",
          "data": {
            "text/plain": [
              "[<matplotlib.lines.Line2D at 0x7fdeb6598198>]"
            ]
          },
          "metadata": {
            "tags": []
          },
          "execution_count": 58
        },
        {
          "output_type": "display_data",
          "data": {
            "image/png": "[encoded data removed]",
            "text/plain": [
              "<Figure size 432x288 with 1 Axes>"
            ]
          },
          "metadata": {
            "tags": [],
            "needs_background": "light"
          }
        }
      ]
    },
    {
      "cell_type": "markdown",
      "metadata": {
        "id": "Scsbj2TBCvNL"
      },
      "source": [
        "#5. Logistic Regression"
      ]
    },
    {
      "cell_type": "code",
      "metadata": {
        "id": "ulU_1YkACvXT",
        "colab": {
          "base_uri": "https://localhost:8080/"
        },
        "outputId": "6d3e2818-fd54-42ff-f919-1a2c86cbef80"
      },
      "source": [
        "import torch\n",
        "import torch.nn as nn\n",
        "\n",
        "from sklearn import datasets\n",
        "from sklearn.preprocessing import StandardScaler\n",
        "from sklearn.model_selection import train_test_split\n",
        "\n",
        "import matplotlib.pyplot as plt\n",
        "import numpy as np\n",
        "\n",
        "bc = datasets.load_breast_cancer()\n",
        "# print(bc.keys())  # dict_keys(['data', 'target', 'target_names', 'DESCR', 'feature_names', 'filename'])\n",
        "x,y=bc.data,bc.target\n",
        "\n",
        "n_samples,n_features=x.shape\n",
        "# print(n_samples,n_features)\n",
        "\n",
        "x_train,x_test,y_train,y_test=train_test_split(x,y,test_size=0.2,random_state=1234)\n",
        "\n",
        "sc=StandardScaler()\n",
        "x_train=sc.fit_transform(x_train)\n",
        "x_test=sc.transform(x_test)\n",
        "\n",
        "x_train=torch.from_numpy(x_train.astype(np.float32))\n",
        "x_test=torch.from_numpy(x_test.astype(np.float32))\n",
        "y_train=torch.from_numpy(y_train.astype(np.float32))\n",
        "y_test=torch.from_numpy(y_test.astype(np.float32))\n",
        "\n",
        "y_train=y_train.view(y_train.shape[0],1)\n",
        "y_test=y_test.view(y_test.shape[0],1)\n",
        "\n",
        "# f=wx+b , apply sigmoid at the end\n",
        "\n",
        "class LogisticRegression(nn.Module):\n",
        "  def __init__(self,input_features):\n",
        "    super(LogisticRegression,self).__init__()\n",
        "    self.linear=nn.Linear(input_features,1)\n",
        "  \n",
        "  def forward(self,x):\n",
        "    y_predicted=torch.sigmoid(self.linear(x))\n",
        "    return y_predicted\n",
        "\n",
        "model = LogisticRegression(n_features)\n",
        "criterion = nn.BCELoss()\n",
        "optimizer=torch.optim.SGD(model.parameters(),lr=0.05)\n",
        "\n",
        "epochs=100\n",
        "\n",
        "for i in range(epochs):\n",
        "  y_pred=model(x_train)\n",
        "\n",
        "  loss=criterion(y_pred,y_train)\n",
        "\n",
        "  loss.backward()\n",
        "\n",
        "  optimizer.step()\n",
        "  optimizer.zero_grad()\n",
        "\n",
        "  if (i+1)%10 ==0:\n",
        "    print('Loss : ',loss.item())\n",
        "\n",
        "with torch.no_grad():\n",
        "  y_predicted=model(x_test)\n",
        "\n",
        "  y_predicted_cls = y_predicted.round()\n",
        "  acc=y_predicted_cls.eq(y_test).sum() / float(y_test.shape[0])\n",
        "\n",
        "  # print('Accuracy of the model is : ',acc.item())\n",
        "  print(f'Accuracy is : {acc.item()*100:.4f}')"
      ],
      "execution_count": null,
      "outputs": [
        {
          "output_type": "stream",
          "text": [
            "Loss :  0.34376856684684753\n",
            "Loss :  0.2482527643442154\n",
            "Loss :  0.2055150866508484\n",
            "Loss :  0.17969831824302673\n",
            "Loss :  0.1618824154138565\n",
            "Loss :  0.1486576944589615\n",
            "Loss :  0.13838344812393188\n",
            "Loss :  0.1301458179950714\n",
            "Loss :  0.1233816146850586\n",
            "Loss :  0.11771883070468903\n",
            "Accuracy is : 92.1053\n"
          ],
          "name": "stdout"
        }
      ]
    },
    {
      "cell_type": "markdown",
      "metadata": {
        "id": "ESF1UXxKin_v"
      },
      "source": [
        "#6. Softmax and Cross-Entropy"
      ]
    },
    {
      "cell_type": "code",
      "metadata": {
        "id": "DB1EZr7QPtDC",
        "colab": {
          "base_uri": "https://localhost:8080/"
        },
        "outputId": "804dd21f-ddc1-4c06-ad62-ca64b980e9da"
      },
      "source": [
        "import torch\n",
        "from torch import nn\n",
        "import numpy as np\n",
        "\n",
        "def softmax(x):\n",
        "  return np.exp(x)/np.sum(np.exp(x),axis=0)\n",
        "\n",
        "def cross_entropy(actual,predicted):\n",
        "  loss = -np.sum(actual*np.log(predicted))\n",
        "  return loss #/ predicted.shape[0]\n",
        "\n",
        "a=np.array([2,1,1],dtype=np.float32)\n",
        "# print(type(a))\n",
        "# print(f'Probabilities output is : {softmax(a)}')\n",
        "# print(f'Sum of probabilities output is : {np.sum(softmax(a),axis=0)}')\n",
        "\n",
        "x=torch.tensor([2,1,1],dtype=torch.float32)\n",
        "# print(x)\n",
        "# print(f'PyTorch Softmax output is : {torch.softmax(x,dim=0)}')\n",
        "\n",
        "y_np=np.array([1,0,0])\n",
        "y_pred_good=np.array([0.7,0.2,0.1])\n",
        "y_pred_bad=np.array([0.1,0.3,0.6])\n",
        "\n",
        "l1=cross_entropy(y_np,y_pred_good)\n",
        "l2=cross_entropy(y_np,y_pred_bad)\n",
        "# print(f'Output for l1 is {l1:.4f}')\n",
        "# print(f'Output for l2 is {l2:.4f}')\n",
        "\n",
        "loss=nn.CrossEntropyLoss()\n",
        "y=torch.tensor([0])\n",
        "y_pred_good_=torch.tensor([[2.0,1.0,0.1]])\n",
        "y_pred_bad_=torch.tensor([[0.5,2.0,0.3]])\n",
        "\n",
        "l1=loss(y_pred_good_,y)\n",
        "l2=loss(y_pred_bad_,y)\n",
        "\n",
        "print(l1.item())\n",
        "print(l2.item())\n",
        "\n"
      ],
      "execution_count": null,
      "outputs": [
        {
          "output_type": "stream",
          "text": [
            "0.4170299470424652\n",
            "1.840616226196289\n"
          ],
          "name": "stdout"
        }
      ]
    },
    {
      "cell_type": "markdown",
      "metadata": {
        "id": "qwxda42zmanM"
      },
      "source": [
        "#7. Activation Functions\n",
        "\n",
        "Most popular Activation functions\n",
        "  1. Step function\n",
        "  2. Sigmoid function\n",
        "  3. TanH\n",
        "  4. ReLU\n",
        "  5. Leaky ReLU\n",
        "  6. Softmax"
      ]
    },
    {
      "cell_type": "code",
      "metadata": {
        "id": "e8FySndtmat4"
      },
      "source": [
        "import torch\n",
        "import torch.nn as nn\n",
        "import torch.nn.functional as F\n",
        "\n",
        "class NeuralNet(nn.Module):\n",
        "  def __init__(self,input_size,hidden_size):\n",
        "    super(NeuralNet,self).__init__()\n",
        "    self.linear1 = nn.Linear(input_size,hidden_size)\n",
        "    self.relu=nn.ReLU()\n",
        "    self.linear2 = nn.Linear(hidden_size,1)\n",
        "    self.sigmoid=nn.Sigmoid()\n",
        "\n",
        "  def forward(self,x):\n",
        "    out=self.linear1(x)\n",
        "    out=self.relu(out)\n",
        "    out=self.linear2(out)\n",
        "    out=self.sigmoid(out)\n",
        "\n",
        "    return out\n",
        "\n",
        "class NeuralNetPy(nn.Module):\n",
        "  def __init__(self,input_size,hidden_size):\n",
        "    super(NeuralNetPy,self).__init__()\n",
        "    self.linear1 = nn.Linear(input_size,hidden_size)\n",
        "    self.linear2 = nn.Linear(hidden_size,1)\n",
        "\n",
        "  def forward(self,x):\n",
        "    out=torch.relu(self.linear1(x))\n",
        "    out=torch.sigmoid(self.linear2(out))\n",
        "\n",
        "    return out\n"
      ],
      "execution_count": null,
      "outputs": []
    },
    {
      "cell_type": "markdown",
      "metadata": {
        "id": "clsBLS9JqVvy"
      },
      "source": [
        "#8. Feed-Forward Neural Network"
      ]
    },
    {
      "cell_type": "code",
      "metadata": {
        "id": "KaUXiIOzqV2C"
      },
      "source": [
        "import torch\n",
        "import torch.nn as nn\n",
        "import torch.nn.functional as F\n",
        "import torchvision\n",
        "import torchvision.transforms as transforms\n",
        "import matplotlib.pyplot as plt\n",
        "\n",
        "# device config\n",
        "\n",
        "device = torch.device('cuda' if torch.cuda.is_available() else 'cpu')\n",
        "\n",
        "# hyper parameters\n",
        "\n",
        "input_size=784  # 28x28\n",
        "hidden_size=100\n",
        "num_classes=10\n",
        "\n",
        "num_epochs=100\n",
        "batch_size=100\n",
        "learning_rate=0.005\n",
        "\n",
        "# MNIST\n",
        "train_data=torchvision.datasets.MNIST(root='./data',train=True,transform=transforms.ToTensor(),download=True)\n",
        "test_data=torchvision.datasets.MNIST(root='./data',train=False,transform=transforms.ToTensor())\n",
        "\n",
        "train_loader=torch.utils.data.DataLoader(dataset=train_data, batch_size=batch_size, shuffle=True)\n",
        "test_loader=torch.utils.data.DataLoader(dataset=test_data, batch_size=batch_size, shuffle=False)\n",
        "\n",
        "examples = iter(train_data)\n",
        "samples, labels = next(examples)\n",
        "\n",
        "# print(type(samples),type(labels))\n",
        "\n",
        "class NeuralNet(nn.Module):\n",
        "  def __init__(self,input_size,hidden_size,num_classes):\n",
        "    super(NeuralNet,self).__init__()\n",
        "    self.l1=nn.Linear(input_size,hidden_size)\n",
        "    self.relu=nn.ReLU()\n",
        "    self.l2=nn.Linear(hidden_size,num_classes)\n",
        "\n",
        "  def forward(self,x):\n",
        "    out=self.l1(x)\n",
        "    out=self.relu(out)\n",
        "    out=self.l2(out)\n",
        "    return out\n",
        "\n",
        "model=NeuralNet(input_size,hidden_size,num_classes)\n",
        "\n",
        "# loss and optim\n",
        "\n",
        "criterion=nn.CrossEntropyLoss()\n",
        "optimi=torch.optim.Adam(model.parameters(),lr=learning_rate)\n",
        "\n",
        "# training loop\n",
        "n_total_steps=len(train_loader)\n",
        "\n",
        "for epoch in range(num_epochs):\n",
        "  for i,(images,labels) in enumerate(train_loader):\n",
        "    images=images.view(-1,784).to(device)\n",
        "    labels=labels.to(device)\n",
        "\n",
        "    # forward pass\n",
        "    output_predicted = model(images)\n",
        "    loss=criterion(output_predicted,labels)\n",
        "\n",
        "    # backwards\n",
        "    loss.backward()\n",
        "    optimi.step()\n",
        "\n",
        "    optimi.zero_grad()\n",
        "\n",
        "    if(i+1)%10==0:\n",
        "      print(f'Loss : {loss.item():.4f}')\n",
        "\n",
        "# testing loop\n",
        "\n",
        "with torch.no_grad():\n",
        "  n_correct=0\n",
        "  n_samples=0\n",
        "\n",
        "  for images,labels in test_loader:\n",
        "    images=images.view(-1,784).to(device)\n",
        "    labels=labels.to(device)\n",
        "\n",
        "    outputs=model(images)\n",
        "\n",
        "    # value, index\n",
        "    _, predictions = torch.max(outputs,1)\n",
        "    n_samples+=labels.shape[0]\n",
        "    n_correct+=predictions==labels.sum().item()\n",
        "  \n",
        "  acc=100.0*n_correct/n_samples\n",
        "  print(f'Accuracy : {acc}')\n"
      ],
      "execution_count": null,
      "outputs": []
    },
    {
      "cell_type": "markdown",
      "metadata": {
        "id": "QUbdEXRDUDQx"
      },
      "source": [
        "#9. Convolutional Neural Network on CIFAR10 "
      ]
    },
    {
      "cell_type": "code",
      "metadata": {
        "id": "BgimQlnFUDXE"
      },
      "source": [
        "import torch\n",
        "import torch.nn as nn\n",
        "import torch.nn.functional as F\n",
        "import torchvision\n",
        "import torchvision.transforms as transforms\n",
        "import matplotlib.pyplot as plt\n",
        "import numpy as np\n",
        "\n",
        "\n",
        "# Device configuration\n",
        "device = torch.device('cuda' if torch.cuda.is_available() else 'cpu')\n",
        "print(device)\n",
        "break\n",
        "# Hyper-parameters\n",
        "num_epochs=10\n",
        "batch_size=4\n",
        "learning_rate=0.005\n",
        "\n",
        "transform=transforms.Compose([\n",
        "                              transforms.RandomCrop(32,padding=4),\n",
        "                              transforms.RandomHorizontalFlip(),\n",
        "                              transforms.ToTensor(),\n",
        "                              transforms.Normalize((0.4914, 0.4822, 0.4465),(0.2023, 0.1994, 0.2010))\n",
        "])\n",
        "\n",
        "train_data=torchvision.datasets.CIFAR10(root='./data',train=True,download=True,transform=transform)\n",
        "test_data=torchvision.datasets.CIFAR10(root='./data',train=False,download=False,transform=transform)\n",
        "\n",
        "trainloader=torch.utils.data.DataLoader(\n",
        "    train_data,shuffle=True,batch_size=batch_size,num_workers=2)\n",
        "\n",
        "testloader=torch.utils.data.DataLoader(\n",
        "    test_data,shuffle=False,batch_size=batch_size,num_workers=2)\n",
        "\n",
        "#classes=('plane','car','bird','cat','deer','dog','frog','horse','ship','truck')\n",
        "\n",
        "# Convolutional Network\n",
        "class CNN(nn.Module):\n",
        "  '''CNN Builder'''\n",
        "  def __init__(self):\n",
        "    super(CNN,self).__init__()\n",
        "\n",
        "    self.conv_layer = nn.Sequential(\n",
        "        \n",
        "        # Conv Layer block 1\n",
        "        nn.Conv2d(in_channels=3, out_channels=32, kernel_size=3, padding=1),\n",
        "        nn.BatchNorm2d(32),\n",
        "        nn.ReLU(inplace=True),\n",
        "        nn.Conv2d(in_channels=32, out_channels=64, kernel_size=3, padding=1),\n",
        "        nn.ReLU(inplace=True),\n",
        "        nn.MaxPool2d(kernel_size=2,stride=2),\n",
        "\n",
        "        # Conv Layer block 2\n",
        "        nn.Conv2d(in_channels=64, out_channels=128, kernel_size=3, padding=1),\n",
        "        nn.BatchNorm2d(128),\n",
        "        nn.ReLU(inplace=True),\n",
        "        nn.Conv2d(in_channels=128, out_channels=128, kernel_size=3, padding=1),\n",
        "        nn.ReLU(inplace=True),\n",
        "        nn.MaxPool2d(kernel_size=2,stride=2),\n",
        "        nn.Dropout2d(p=0.05),\n",
        "\n",
        "        # Conv Layer block 3\n",
        "        nn.Conv2d(in_channels=128, out_channels=256, kernel_size=3, padding=1),\n",
        "        nn.BatchNorm2d(256),\n",
        "        nn.ReLU(inplace=True),\n",
        "        nn.Conv2d(in_channels=256, out_channels=256, kernel_size=3, padding=1),\n",
        "        nn.ReLU(inplace=True),\n",
        "        nn.MaxPool2d(kernel_size=2,stride=2),\n",
        "    )\n",
        "\n",
        "    self.fc_layer = nn.Sequential(\n",
        "        nn.Dropout(p=0.1),\n",
        "        nn.Linear(4096,1024),\n",
        "        nn.ReLU(inplace=True),\n",
        "        nn.Linear(1024,512),\n",
        "        nn.ReLU(inplace=True),\n",
        "        nn.Dropout(p=0.1),\n",
        "        nn.Linear(512,10)\n",
        "    )\n",
        "  \n",
        "  def forward(self,x):\n",
        "    '''Perform Forward propagation'''\n",
        "\n",
        "    # conv layers\n",
        "    x=self.conv_layer(x)\n",
        "\n",
        "    # flatten\n",
        "    x=x.view(x.size(0),-1)\n",
        "\n",
        "    # fc layer\n",
        "    x=self.fc_layer(x)\n",
        "\n",
        "    return x\n",
        "\n",
        "model = CNN()\n",
        "\n",
        "criterion=nn.CrossEntropyLoss()\n",
        "optimizer=torch.optim.Adam(model.parameters(),lr=learning_rate)\n",
        "\n",
        "for epochs in range(num_epochs):\n",
        "  print(f'Epoch {epochs} is running :')\n",
        "  running_loss=0\n",
        "  for i,(images,labels) in enumerate(trainloader):\n",
        "    optimizer.zero_grad()\n",
        "    output=model.forward(images)\n",
        "    loss=criterion(output,labels)\n",
        "    loss.backward()\n",
        "\n",
        "    optimizer.step()\n",
        "    running_loss+=loss.item()\n",
        "  running_loss/=len(trainloader)\n",
        "  print(f'Loss is {running_loss:.4f}')\n",
        "\n"
      ],
      "execution_count": null,
      "outputs": []
    },
    {
      "cell_type": "markdown",
      "metadata": {
        "id": "dzHFHL5q0j6-"
      },
      "source": [
        "###9.1. Rough work for Convolutional Neural Network"
      ]
    },
    {
      "cell_type": "code",
      "metadata": {
        "id": "KKe3Z8g10kCg",
        "colab": {
          "base_uri": "https://localhost:8080/",
          "height": 119,
          "referenced_widgets": [
            "1b9672f22ecb42e3a1256788a631a0f7",
            "acd1255539fe43529180284a3e20aa60",
            "e77acdf735714ce6850b8014d605a133",
            "d972b33c5d354dd2adfe0286828d1bd2",
            "4c78b68923a04af49423c7b0e608db64",
            "d6ada893d8974f93bb5dd2b913ef773e",
            "326dbd42eab74655a1d3a87d737497a0",
            "9a1175fc91344e71b5bd86966e114217"
          ]
        },
        "outputId": "0e0c31d1-c3e3-4660-b328-9ae2ff4004b1"
      },
      "source": [
        "import torch\n",
        "import torch.nn as nn\n",
        "import torch.nn.functional as F\n",
        "import torchvision\n",
        "import torchvision.transforms as transforms\n",
        "import matplotlib.pyplot as plt\n",
        "import numpy as np\n",
        "\n",
        "# datasets\n",
        "\n",
        "transform=transforms.Compose([transforms.ToTensor(),transforms.Normalize((0.5,0.5,0.5),(0.5,0.5,0.5))])\n",
        "train_data = torchvision.datasets.CIFAR10(root='./data',download=True,transform=transform,train=True)\n",
        "\n",
        "trainloader = torch.utils.data.DataLoader(train_data,shuffle=True,batch_size=100)\n",
        "# print(trainloader)\n",
        "\n"
      ],
      "execution_count": null,
      "outputs": [
        {
          "output_type": "stream",
          "text": [
            "Downloading https://www.cs.toronto.edu/~kriz/cifar-10-python.tar.gz to ./data/cifar-10-python.tar.gz\n"
          ],
          "name": "stdout"
        },
        {
          "output_type": "display_data",
          "data": {
            "application/vnd.jupyter.widget-view+json": {
              "model_id": "1b9672f22ecb42e3a1256788a631a0f7",
              "version_minor": 0,
              "version_major": 2
            },
            "text/plain": [
              "HBox(children=(FloatProgress(value=1.0, bar_style='info', max=1.0), HTML(value='')))"
            ]
          },
          "metadata": {
            "tags": []
          }
        },
        {
          "output_type": "stream",
          "text": [
            "Extracting ./data/cifar-10-python.tar.gz to ./data\n",
            "\n"
          ],
          "name": "stdout"
        }
      ]
    },
    {
      "cell_type": "code",
      "metadata": {
        "colab": {
          "base_uri": "https://localhost:8080/",
          "height": 317
        },
        "id": "GHiWpRuK5Um9",
        "outputId": "cafb00a8-b7e1-4208-ad75-6c64cf6a7827"
      },
      "source": [
        "# Displaying the image\n",
        "classes=('plane','car','bird','cat','deer','dog','frog','horse','ship','truck')\n",
        "for images,labels in trainloader:\n",
        "  print(images.shape)\n",
        "  print(labels[0])\n",
        "  print(classes[labels[0]])\n",
        "  plt.imshow(images[3][2],cmap='gray')\n",
        "  break"
      ],
      "execution_count": null,
      "outputs": [
        {
          "output_type": "stream",
          "text": [
            "torch.Size([100, 3, 32, 32])\n",
            "tensor(2)\n",
            "bird\n"
          ],
          "name": "stdout"
        },
        {
          "output_type": "display_data",
          "data": {
            "image/png": "[encoded data removed]",
            "text/plain": [
              "<Figure size 432x288 with 1 Axes>"
            ]
          },
          "metadata": {
            "tags": [],
            "needs_background": "light"
          }
        }
      ]
    },
    {
      "cell_type": "markdown",
      "metadata": {
        "id": "yme_4SyXjfJm"
      },
      "source": [
        "###9.2 CNN Tutorial --> Training a Classifier (from PyTorch documentation)"
      ]
    },
    {
      "cell_type": "markdown",
      "metadata": {
        "id": "UUL6h0Zlpvs-"
      },
      "source": [
        "1. Load and normalizing the CIFAR10 training and test datasets using torchvision\n",
        "2. Define a Convolutional Neural Network\n",
        "3. Define a loss function\n",
        "4. Train the network on the training data\n",
        "5. Test the network on the test data"
      ]
    },
    {
      "cell_type": "code",
      "metadata": {
        "colab": {
          "base_uri": "https://localhost:8080/"
        },
        "id": "HjOMVubtj2DJ",
        "outputId": "8e6e4584-501e-4320-a66b-7bdc1b178d6a"
      },
      "source": [
        "import torch\n",
        "import torch.optim as optim\n",
        "import torch.nn as nn\n",
        "import torch.nn.functional as F\n",
        "import torchvision\n",
        "import torchvision.transforms as transforms\n",
        "import matplotlib.pyplot as plt\n",
        "import numpy as np\n",
        "\n",
        "device = torch.device('cuda' if torch.cuda.is_available() else 'cpu')\n",
        "transform = transforms.Compose([transforms.ToTensor(),transforms.Normalize((0.5,0.5,0.5),(0.5,0.5,0.5))])\n",
        "\n",
        "trainset=torchvision.datasets.CIFAR10(root='./data',download=True,train=True,transform=transform)\n",
        "trainloader=torch.utils.data.DataLoader(trainset,batch_size=4,shuffle=True,num_workers=0)\n",
        "\n",
        "testset=torchvision.datasets.CIFAR10(root='./data',download=True,train=False,transform=transform)\n",
        "testloader=torch.utils.data.DataLoader(testset,batch_size=4,shuffle=False,num_workers=0)\n",
        "\n",
        "classes = ('plane', 'car', 'bird', 'cat','deer', 'dog', 'frog', 'horse', 'ship', 'truck')\n",
        "\n",
        "class Net(nn.Module):\n",
        "  def __init__(self):\n",
        "    super(Net,self).__init__()\n",
        "    self.conv1=nn.Conv2d(in_channels=3,out_channels=6,kernel_size=5)\n",
        "    self.pool=nn.MaxPool2d(2,2)\n",
        "    self.conv2=nn.Conv2d(in_channels=6,out_channels=16,kernel_size=5)\n",
        "    self.fc1=nn.Linear(5*5*16,120)\n",
        "    self.fc2=nn.Linear(120,84)\n",
        "    self.fc3=nn.Linear(84,10)\n",
        "  \n",
        "  def forward(self,x):\n",
        "    x=self.pool(F.relu(self.conv1(x)))\n",
        "    x=self.pool(F.relu(self.conv2(x)))\n",
        "    x=x.view(-1,16*5*5)\n",
        "    x=F.relu(self.fc1(x))\n",
        "    x=F.relu(self.fc2(x))\n",
        "    x=self.fc3(x)\n",
        "    return x\n",
        "\n",
        "net = Net()\n",
        "criterion = nn.CrossEntropyLoss()\n",
        "optimizer=optim.SGD(net.parameters(),lr=0.001)\n",
        "print('Model training has started')\n",
        "epochs = 4\n",
        "for j in range(epochs):\n",
        "  running_loss=0.0\n",
        "  for images,labels in trainloader:\n",
        "    optimizer.zero_grad()\n",
        "    \n",
        "    outputs=net(images)\n",
        "    loss=criterion(outputs,labels)\n",
        "    loss.backward()\n",
        "    optimizer.step()\n",
        "\n",
        "    running_loss+=loss.item()\n",
        "    if j%2000==199:\n",
        "      print(f'Loss is {running_loss/2000:.4f} and Epoch is {j+1,i+1}')\n",
        "      running_loss=0.0\n",
        "\n",
        "print('Finished training...')"
      ],
      "execution_count": null,
      "outputs": [
        {
          "output_type": "stream",
          "text": [
            "Files already downloaded and verified\n",
            "Files already downloaded and verified\n",
            "Model training has started\n",
            "Finished training...\n"
          ],
          "name": "stdout"
        }
      ]
    },
    {
      "cell_type": "code",
      "metadata": {
        "id": "ub1fqy3NJW6S",
        "colab": {
          "base_uri": "https://localhost:8080/",
          "height": 340
        },
        "outputId": "3b38da10-e3f3-4f28-ed00-77ec40635ab3"
      },
      "source": [
        "import matplotlib.pyplot as plt\n",
        "import matplotlib.image as mpimg\n",
        "\n",
        "def imshow(img):\n",
        "    img = img / 2 + 0.5     # unnormalize\n",
        "    npimg = img.numpy()\n",
        "    plt.imshow(np.transpose(npimg, (1, 2, 0)))\n",
        "    plt.show()\n",
        "\n",
        "# imshow(torchvision.utils.make_grid(images))\n",
        "# print(images.shape)\n",
        "# print(images[1].shape)\n",
        "# image=images[1].view(-1,32)\n",
        "# print(image.shape)\n",
        "\n",
        "\n",
        "print('Testing the network...')\n",
        "\n",
        "path='./cifar_net.pth'\n",
        "# print(net.state_dict())\n",
        "\n",
        "torch.save(net.state_dict(),path)\n",
        "\n",
        "testiter=iter(testloader)\n",
        "image_test,labels_test=testiter.next()\n",
        "imshow(torchvision.utils.make_grid(image_test))\n",
        "\n",
        "for j in range(4):\n",
        "  print(f'{j+1}. {classes[labels_test[j]]}')\n",
        "\n",
        "net=Net()\n",
        "net.load_state_dict(torch.load(path))\n",
        "output_test=net(image_test)\n",
        "\n",
        "_,predicted=torch.max(outputs,1)\n",
        "print('\\n')\n",
        "for j in range(4):\n",
        "  print(f'{j+1}. {classes[predicted[j]]}')\n",
        "\n",
        "correct=0\n",
        "total=0\n",
        "with torch.no_grad():\n",
        "  for images,labels in testloader:\n",
        "    outputs=net(images)\n",
        "    _,predicted=torch.max(outputs.data,1)\n",
        "    total+=labels.size(0)\n",
        "    correct+=(predicted==labels).sum().item()\n",
        "\n",
        "print(f'Accuracy of the network {correct*100/total}')\n"
      ],
      "execution_count": null,
      "outputs": [
        {
          "output_type": "stream",
          "text": [
            "Testing the network...\n"
          ],
          "name": "stdout"
        },
        {
          "output_type": "display_data",
          "data": {
            "image/png": "[encoded data removed]",
            "text/plain": [
              "<Figure size 432x288 with 1 Axes>"
            ]
          },
          "metadata": {
            "tags": [],
            "needs_background": "light"
          }
        },
        {
          "output_type": "stream",
          "text": [
            "1. cat\n",
            "2. ship\n",
            "3. ship\n",
            "4. plane\n",
            "\n",
            "\n",
            "1. ship\n",
            "2. truck\n",
            "3. cat\n",
            "4. plane\n",
            "Accuracy of the network 44.23\n"
          ],
          "name": "stdout"
        }
      ]
    },
    {
      "cell_type": "markdown",
      "metadata": {
        "id": "D8YaYXF9QEQB"
      },
      "source": [
        "#10. Transfer Learning"
      ]
    },
    {
      "cell_type": "code",
      "metadata": {
        "id": "CMkhKdETHKW2"
      },
      "source": [
        ""
      ],
      "execution_count": null,
      "outputs": []
    },
    {
      "cell_type": "markdown",
      "metadata": {
        "id": "V2AR0fnzHKQV"
      },
      "source": [
        "###Tid-bits for The Brain\n",
        "Various architectures of CNNs:\n",
        "1. LeNet\n",
        "2. AlexNet\n",
        "3. VGGNet\n",
        "4. GoogLeNet\n",
        "5. ResNet\n",
        "6. ZFNet\n",
        "\n"
      ]
    },
    {
      "cell_type": "markdown",
      "metadata": {
        "id": "E0V8o8nfH2Md"
      },
      "source": [
        "#Yann LeCun's Deep Learning Course at CDS - NYU Center for Data Science\n",
        "\n",
        "URL : https://cds.nyu.edu/deep-learning/"
      ]
    },
    {
      "cell_type": "markdown",
      "metadata": {
        "id": "uigdeT2czfdK"
      },
      "source": [
        "Check out https://twitter.com/alfcnz for more Deep Learning materials\n",
        "\n",
        "Things to search :\n",
        "1. Linear Algebra (from:alfcnz)\n",
        "2. SVD (from:alfcnz)\n",
        "3. (from:alfcnz)"
      ]
    },
    {
      "cell_type": "markdown",
      "metadata": {
        "id": "JmOOVEtDbLPV"
      },
      "source": [
        "# PyTorch tutorials from the official website of PyTorch\n",
        "\n",
        "URL : https://www.pytorch.org/tutorials"
      ]
    },
    {
      "cell_type": "markdown",
      "metadata": {
        "id": "ht8u7M3OmbSL"
      },
      "source": [
        "* CUDA Tensors\n",
        "* Tensor Operations\n",
        "* Numpy to PyTorch Tensors and vice-versa"
      ]
    },
    {
      "cell_type": "code",
      "metadata": {
        "colab": {
          "base_uri": "https://localhost:8080/"
        },
        "id": "lTE_VHSqbLZ2",
        "outputId": "c5e82af7-4aa6-4718-db39-077ad686c0bc"
      },
      "source": [
        "import torch\n",
        "import time\n",
        "\n",
        "a=torch.ones(5,dtype=torch.float32) # Tensor array of ones of size 1x5 (row,column)\n",
        "b=torch.ones(5,dtype=torch.float32)\n",
        "# print(a)\n",
        "# b=a.numpy()\n",
        "# print(b,type(b))\n",
        "\n",
        "device = 'cuda' if torch.cuda.is_available() else 'cpu'\n",
        "# print(device)\n",
        "a=a.to(device)\n",
        "start=time.time()\n",
        "a.add_(1)\n",
        "end=time.time()\n",
        "GPU_time=end-start\n",
        "print(f'{a} and the time taken is {GPU_time} using CUDA')\n",
        "\n",
        "start=time.time()\n",
        "b.add_(1)\n",
        "end=time.time()\n",
        "CPU_time=end-start\n",
        "print(f'{b} and the time taken is {CPU_time} using CPU')\n",
        "\n",
        "diff=GPU_time-CPU_time\n",
        "print(f'\\nThe difference the timings between GPU and the CPU is {diff}')  # Negative value indicates GPU is faster\n"
      ],
      "execution_count": null,
      "outputs": [
        {
          "output_type": "stream",
          "text": [
            "tensor([2., 2., 2., 2., 2.], device='cuda:0') and the time taken is 0.006888866424560547 using CUDA\n",
            "tensor([2., 2., 2., 2., 2.]) and the time taken is 0.007482767105102539 using CPU\n",
            "\n",
            "The difference the timings between GPU and the CPU is -0.0005939006805419922\n"
          ],
          "name": "stdout"
        }
      ]
    },
    {
      "cell_type": "markdown",
      "metadata": {
        "id": "SYN1FrQ8nI6Q"
      },
      "source": [
        "* AUTOGRAD: AUTOMATIC DIFFERENTIATION\n",
        "\n",
        "Jacobian matrix is used here for computing gradients (for more info visit the official documentation)"
      ]
    },
    {
      "cell_type": "code",
      "metadata": {
        "colab": {
          "base_uri": "https://localhost:8080/"
        },
        "id": "ui5UEn3vnIwr",
        "outputId": "cc209f9f-ebe9-41ed-9d9c-daa35e2d63ab"
      },
      "source": [
        "c=torch.ones(2,2,requires_grad=True,device=device)\n",
        "# print(c)\n",
        "d=c+2\n",
        "# print(d)\n",
        "# print(d.grad_fn)\n",
        "e=d*d*3\n",
        "out=e.mean()\n",
        "print(f'{e}\\n{out}')\n",
        "out.backward()\n",
        "print(c.grad)"
      ],
      "execution_count": null,
      "outputs": [
        {
          "output_type": "stream",
          "text": [
            "tensor([[27., 27.],\n",
            "        [27., 27.]], device='cuda:0', grad_fn=<MulBackward0>)\n",
            "27.0\n",
            "tensor([[4.5000, 4.5000],\n",
            "        [4.5000, 4.5000]], device='cuda:0')\n"
          ],
          "name": "stdout"
        }
      ]
    },
    {
      "cell_type": "markdown",
      "metadata": {
        "id": "aEvGqcRs7Dll"
      },
      "source": [
        "* NEURAL NETWORKS"
      ]
    },
    {
      "cell_type": "code",
      "metadata": {
        "colab": {
          "base_uri": "https://localhost:8080/"
        },
        "id": "yNh6Sj7r7Dvg",
        "outputId": "d7f59802-82a6-4483-fe8c-ebd3506bd65c"
      },
      "source": [
        "import torch\n",
        "import torch.nn as nn\n",
        "import torch.nn.functional as F\n",
        "import torch.optim as optim\n",
        "\n",
        "class Net(nn.Module):\n",
        "  def __init__(self):\n",
        "    super(Net,self).__init__()\n",
        "    self.conv1=nn.Conv2d(1,6,3)\n",
        "    self.conv2=nn.Conv2d(6,16,3)\n",
        "    self.fc1=nn.Linear(16*6*6,120)  # 6x6 image dimension\n",
        "    self.fc2=nn.Linear(120,84)\n",
        "    self.fc3=nn.Linear(84,10)\n",
        "\n",
        "  def forward(self,x):\n",
        "    x=F.max_pool2d(F.relu(self.conv1(x)),(2,2))\n",
        "    x=F.max_pool2d(F.relu(self.conv2(x)),2)\n",
        "    x=x.view(-1,self.num_flat_features(x))\n",
        "    x=F.relu(self.fc1(x))\n",
        "    x=F.relu(self.fc2(x))\n",
        "    x=self.fc3(x)\n",
        "    return x\n",
        "  \n",
        "  def num_flat_features(self,x):\n",
        "    size=x.size()[1:]\n",
        "    num_features=1\n",
        "    for s in size:\n",
        "      num_features*=s\n",
        "    return num_features\n",
        "\n",
        "net=Net()\n",
        "net=net.to(device)\n",
        "print(net)\n",
        "\n",
        "input=torch.randn(1,1,32,32,device=device)\n",
        "out=net(input)\n",
        "print(out)\n",
        "net.zero_grad()\n",
        "out.backward(torch.randn(1,10,device=device))"
      ],
      "execution_count": null,
      "outputs": [
        {
          "output_type": "stream",
          "text": [
            "Net(\n",
            "  (conv1): Conv2d(1, 6, kernel_size=(3, 3), stride=(1, 1))\n",
            "  (conv2): Conv2d(6, 16, kernel_size=(3, 3), stride=(1, 1))\n",
            "  (fc1): Linear(in_features=576, out_features=120, bias=True)\n",
            "  (fc2): Linear(in_features=120, out_features=84, bias=True)\n",
            "  (fc3): Linear(in_features=84, out_features=10, bias=True)\n",
            ")\n",
            "tensor([[-0.0482,  0.0443, -0.1417, -0.0351,  0.1563, -0.0015, -0.0325,  0.1210,\n",
            "          0.0991,  0.0425]], device='cuda:0', grad_fn=<AddmmBackward>)\n"
          ],
          "name": "stdout"
        }
      ]
    },
    {
      "cell_type": "code",
      "metadata": {
        "colab": {
          "base_uri": "https://localhost:8080/"
        },
        "id": "qv1DbLvwYJfa",
        "outputId": "ee997db9-e9e7-4fd6-f348-680a94f40af5"
      },
      "source": [
        "output=net(input)\n",
        "target=torch.randn(10,device=device)\n",
        "# print(target.size())  # 10 elements\n",
        "target=target.view(1,-1)\n",
        "# print(target.size())  # 1 row and 10 columns\n",
        "\n",
        "criterion=nn.MSELoss()\n",
        "loss=criterion(output,target)\n",
        "print(loss)\n",
        "\n",
        "# net.zero_grad()\n",
        "# print('conv1.bias.grad before backward')\n",
        "# print(net.conv1.bias.grad)\n",
        "\n",
        "# print('conv1.bias.grad after backward')\n",
        "# print(net.conv1.bias.grad)\n",
        "\n",
        "optimizer=optim.SGD(net.parameters(),lr=0.01)\n",
        "optimizer.zero_grad()\n",
        "loss.backward()\n",
        "optimizer.step()\n",
        "\n",
        "output1=net(input)\n",
        "print(criterion(output1,target))"
      ],
      "execution_count": null,
      "outputs": [
        {
          "output_type": "stream",
          "text": [
            "tensor(1.2766, device='cuda:0', grad_fn=<MseLossBackward>)\n",
            "tensor(1.2487, device='cuda:0', grad_fn=<MseLossBackward>)\n"
          ],
          "name": "stdout"
        }
      ]
    },
    {
      "cell_type": "markdown",
      "metadata": {
        "id": "t5P4-HGCdce3"
      },
      "source": [
        "* Training a Classifier"
      ]
    },
    {
      "cell_type": "code",
      "metadata": {
        "colab": {
          "base_uri": "https://localhost:8080/",
          "height": 172
        },
        "id": "F_AyRNnIYgRl",
        "outputId": "7788ec06-2c7f-4912-e893-57984d6f6890"
      },
      "source": [
        "import torch\n",
        "import torchvision\n",
        "from torchvision import transforms,datasets\n",
        "import matplotlib.pyplot as plt\n",
        "import numpy as np\n",
        "\n",
        "device='cuda' if torch.cuda.is_available else 'cpu'\n",
        "# device='cpu'\n",
        "transform=transforms.Compose([transforms.ToTensor(),transforms.Normalize((0.5,0.5,0.5),(0.5,0.5,0.5))])\n",
        "\n",
        "trainset=datasets.CIFAR10(root='./cifar10',download=True,train=True,transform=transform)\n",
        "trainloader=torch.utils.data.DataLoader(trainset,batch_size=4,shuffle=True,num_workers=2)\n",
        "\n",
        "testset=datasets.CIFAR10(root='./cifar10',download=False,train=False,transform=transform)\n",
        "testloader=torch.utils.data.DataLoader(testset,batch_size=4,shuffle=False,num_workers=2)\n",
        "\n",
        "classes=('plane', 'car', 'bird', 'cat','deer', 'dog', 'frog', 'horse', 'ship', 'truck')\n",
        "\n",
        "def imshow(img):\n",
        "  img=img/2+0.5\n",
        "  img_nmp=img.numpy()\n",
        "  plt.imshow(np.transpose(img_nmp,(1,2,0)))\n",
        "  plt.show()\n",
        "\n",
        "dataiter=iter(trainloader)\n",
        "images,labels=dataiter.next()\n",
        "\n",
        "# images=images.to(device)\n",
        "# labesl=labels.to(device)\n",
        "\n",
        "imshow(torchvision.utils.make_grid(images))\n",
        "print(' '.join(classes[labels[j]] for j in range(4)))"
      ],
      "execution_count": 15,
      "outputs": [
        {
          "output_type": "stream",
          "text": [
            "Files already downloaded and verified\n"
          ],
          "name": "stdout"
        },
        {
          "output_type": "display_data",
          "data": {
            "image/png": "[encoded data removed]",
            "text/plain": [
              "<Figure size 432x288 with 1 Axes>"
            ]
          },
          "metadata": {
            "tags": [],
            "needs_background": "light"
          }
        },
        {
          "output_type": "stream",
          "text": [
            "ship bird frog bird\n"
          ],
          "name": "stdout"
        }
      ]
    },
    {
      "cell_type": "code",
      "metadata": {
        "id": "kpd-OqI6lBqH",
        "outputId": "d7053370-41c6-4e3a-c520-40144d6c1319",
        "colab": {
          "base_uri": "https://localhost:8080/",
          "height": 404
        }
      },
      "source": [
        "import torch.nn as nn\n",
        "import torch.nn.functional as F\n",
        "import torch.optim as optim\n",
        "\n",
        "class Net(nn.Module):\n",
        "  def __init__(self):\n",
        "    super(Net,self).__init__()\n",
        "    self.conv1=nn.Conv2d(3,6,5)\n",
        "    self.pool=nn.MaxPool2d(2,2)\n",
        "    self.conv2=nn.Conv2d(6,16,5)\n",
        "    self.fc1=nn.Linear(16*5*5,120)\n",
        "    self.fc2=nn.Linear(120,84)\n",
        "    self.fc3=nn.Linear(84,10)\n",
        "\n",
        "  def forward(self,x):\n",
        "    x=self.pool(F.relu(self.conv1(x)))\n",
        "    x=self.pool(F.relu(self.conv2(x)))\n",
        "    x=x.view(-1,16*5*5)\n",
        "    x=F.relu(self.fc1(x))\n",
        "    x=F.relu(self.fc2(x))\n",
        "    x=self.fc3(x)\n",
        "    return x\n",
        "\n",
        "net=Net()\n",
        "net=net.to(device)\n",
        "criterion=nn.CrossEntropyLoss()\n",
        "optimizer=optim.SGD(net.parameters(),lr=0.001,momentum=0.9)\n",
        "\n",
        "for epochs in range(4):\n",
        "  running_loss=0.0\n",
        "  for i,data in enumerate(trainloader,0):\n",
        "    inputs,labels=data\n",
        "    optimizer.zero_grad()\n",
        "    outputs=net(inputs)\n",
        "    loss=criterion(outputs,labels)\n",
        "    loss.backward()\n",
        "\n",
        "    optimizer.step()\n",
        "    running_loss+=loss.item()\n",
        "    if i%2000==1999:\n",
        "      print(f'Loss is {running_loss/2000}')\n",
        "      running_loss=0.0\n",
        "print('Finished training')\n"
      ],
      "execution_count": 17,
      "outputs": [
        {
          "output_type": "error",
          "ename": "RuntimeError",
          "evalue": "ignored",
          "traceback": [
            "\u001b[0;31m---------------------------------------------------------------------------\u001b[0m",
            "\u001b[0;31mRuntimeError\u001b[0m                              Traceback (most recent call last)",
            "\u001b[0;32m<ipython-input-17-5a94f2f7e87f>\u001b[0m in \u001b[0;36m<module>\u001b[0;34m()\u001b[0m\n\u001b[1;32m     32\u001b[0m     \u001b[0minputs\u001b[0m\u001b[0;34m,\u001b[0m\u001b[0mlabels\u001b[0m\u001b[0;34m=\u001b[0m\u001b[0mdata\u001b[0m\u001b[0;34m\u001b[0m\u001b[0;34m\u001b[0m\u001b[0m\n\u001b[1;32m     33\u001b[0m     \u001b[0moptimizer\u001b[0m\u001b[0;34m.\u001b[0m\u001b[0mzero_grad\u001b[0m\u001b[0;34m(\u001b[0m\u001b[0;34m)\u001b[0m\u001b[0;34m\u001b[0m\u001b[0;34m\u001b[0m\u001b[0m\n\u001b[0;32m---> 34\u001b[0;31m     \u001b[0moutputs\u001b[0m\u001b[0;34m=\u001b[0m\u001b[0mnet\u001b[0m\u001b[0;34m(\u001b[0m\u001b[0minputs\u001b[0m\u001b[0;34m)\u001b[0m\u001b[0;34m\u001b[0m\u001b[0;34m\u001b[0m\u001b[0m\n\u001b[0m\u001b[1;32m     35\u001b[0m     \u001b[0mloss\u001b[0m\u001b[0;34m=\u001b[0m\u001b[0mcriterion\u001b[0m\u001b[0;34m(\u001b[0m\u001b[0moutputs\u001b[0m\u001b[0;34m,\u001b[0m\u001b[0mlabels\u001b[0m\u001b[0;34m)\u001b[0m\u001b[0;34m\u001b[0m\u001b[0;34m\u001b[0m\u001b[0m\n\u001b[1;32m     36\u001b[0m     \u001b[0mloss\u001b[0m\u001b[0;34m.\u001b[0m\u001b[0mbackward\u001b[0m\u001b[0;34m(\u001b[0m\u001b[0;34m)\u001b[0m\u001b[0;34m\u001b[0m\u001b[0;34m\u001b[0m\u001b[0m\n",
            "\u001b[0;32m/usr/local/lib/python3.6/dist-packages/torch/nn/modules/module.py\u001b[0m in \u001b[0;36m_call_impl\u001b[0;34m(self, *input, **kwargs)\u001b[0m\n\u001b[1;32m    725\u001b[0m             \u001b[0mresult\u001b[0m \u001b[0;34m=\u001b[0m \u001b[0mself\u001b[0m\u001b[0;34m.\u001b[0m\u001b[0m_slow_forward\u001b[0m\u001b[0;34m(\u001b[0m\u001b[0;34m*\u001b[0m\u001b[0minput\u001b[0m\u001b[0;34m,\u001b[0m \u001b[0;34m**\u001b[0m\u001b[0mkwargs\u001b[0m\u001b[0;34m)\u001b[0m\u001b[0;34m\u001b[0m\u001b[0;34m\u001b[0m\u001b[0m\n\u001b[1;32m    726\u001b[0m         \u001b[0;32melse\u001b[0m\u001b[0;34m:\u001b[0m\u001b[0;34m\u001b[0m\u001b[0;34m\u001b[0m\u001b[0m\n\u001b[0;32m--> 727\u001b[0;31m             \u001b[0mresult\u001b[0m \u001b[0;34m=\u001b[0m \u001b[0mself\u001b[0m\u001b[0;34m.\u001b[0m\u001b[0mforward\u001b[0m\u001b[0;34m(\u001b[0m\u001b[0;34m*\u001b[0m\u001b[0minput\u001b[0m\u001b[0;34m,\u001b[0m \u001b[0;34m**\u001b[0m\u001b[0mkwargs\u001b[0m\u001b[0;34m)\u001b[0m\u001b[0;34m\u001b[0m\u001b[0;34m\u001b[0m\u001b[0m\n\u001b[0m\u001b[1;32m    728\u001b[0m         for hook in itertools.chain(\n\u001b[1;32m    729\u001b[0m                 \u001b[0m_global_forward_hooks\u001b[0m\u001b[0;34m.\u001b[0m\u001b[0mvalues\u001b[0m\u001b[0;34m(\u001b[0m\u001b[0;34m)\u001b[0m\u001b[0;34m,\u001b[0m\u001b[0;34m\u001b[0m\u001b[0;34m\u001b[0m\u001b[0m\n",
            "\u001b[0;32m<ipython-input-17-5a94f2f7e87f>\u001b[0m in \u001b[0;36mforward\u001b[0;34m(self, x)\u001b[0m\n\u001b[1;32m     14\u001b[0m \u001b[0;34m\u001b[0m\u001b[0m\n\u001b[1;32m     15\u001b[0m   \u001b[0;32mdef\u001b[0m \u001b[0mforward\u001b[0m\u001b[0;34m(\u001b[0m\u001b[0mself\u001b[0m\u001b[0;34m,\u001b[0m\u001b[0mx\u001b[0m\u001b[0;34m)\u001b[0m\u001b[0;34m:\u001b[0m\u001b[0;34m\u001b[0m\u001b[0;34m\u001b[0m\u001b[0m\n\u001b[0;32m---> 16\u001b[0;31m     \u001b[0mx\u001b[0m\u001b[0;34m=\u001b[0m\u001b[0mself\u001b[0m\u001b[0;34m.\u001b[0m\u001b[0mpool\u001b[0m\u001b[0;34m(\u001b[0m\u001b[0mF\u001b[0m\u001b[0;34m.\u001b[0m\u001b[0mrelu\u001b[0m\u001b[0;34m(\u001b[0m\u001b[0mself\u001b[0m\u001b[0;34m.\u001b[0m\u001b[0mconv1\u001b[0m\u001b[0;34m(\u001b[0m\u001b[0mx\u001b[0m\u001b[0;34m)\u001b[0m\u001b[0;34m)\u001b[0m\u001b[0;34m)\u001b[0m\u001b[0;34m\u001b[0m\u001b[0;34m\u001b[0m\u001b[0m\n\u001b[0m\u001b[1;32m     17\u001b[0m     \u001b[0mx\u001b[0m\u001b[0;34m=\u001b[0m\u001b[0mself\u001b[0m\u001b[0;34m.\u001b[0m\u001b[0mpool\u001b[0m\u001b[0;34m(\u001b[0m\u001b[0mF\u001b[0m\u001b[0;34m.\u001b[0m\u001b[0mrelu\u001b[0m\u001b[0;34m(\u001b[0m\u001b[0mself\u001b[0m\u001b[0;34m.\u001b[0m\u001b[0mconv2\u001b[0m\u001b[0;34m(\u001b[0m\u001b[0mx\u001b[0m\u001b[0;34m)\u001b[0m\u001b[0;34m)\u001b[0m\u001b[0;34m)\u001b[0m\u001b[0;34m\u001b[0m\u001b[0;34m\u001b[0m\u001b[0m\n\u001b[1;32m     18\u001b[0m     \u001b[0mx\u001b[0m\u001b[0;34m=\u001b[0m\u001b[0mx\u001b[0m\u001b[0;34m.\u001b[0m\u001b[0mview\u001b[0m\u001b[0;34m(\u001b[0m\u001b[0;34m-\u001b[0m\u001b[0;36m1\u001b[0m\u001b[0;34m,\u001b[0m\u001b[0;36m16\u001b[0m\u001b[0;34m*\u001b[0m\u001b[0;36m5\u001b[0m\u001b[0;34m*\u001b[0m\u001b[0;36m5\u001b[0m\u001b[0;34m)\u001b[0m\u001b[0;34m\u001b[0m\u001b[0;34m\u001b[0m\u001b[0m\n",
            "\u001b[0;32m/usr/local/lib/python3.6/dist-packages/torch/nn/modules/module.py\u001b[0m in \u001b[0;36m_call_impl\u001b[0;34m(self, *input, **kwargs)\u001b[0m\n\u001b[1;32m    725\u001b[0m             \u001b[0mresult\u001b[0m \u001b[0;34m=\u001b[0m \u001b[0mself\u001b[0m\u001b[0;34m.\u001b[0m\u001b[0m_slow_forward\u001b[0m\u001b[0;34m(\u001b[0m\u001b[0;34m*\u001b[0m\u001b[0minput\u001b[0m\u001b[0;34m,\u001b[0m \u001b[0;34m**\u001b[0m\u001b[0mkwargs\u001b[0m\u001b[0;34m)\u001b[0m\u001b[0;34m\u001b[0m\u001b[0;34m\u001b[0m\u001b[0m\n\u001b[1;32m    726\u001b[0m         \u001b[0;32melse\u001b[0m\u001b[0;34m:\u001b[0m\u001b[0;34m\u001b[0m\u001b[0;34m\u001b[0m\u001b[0m\n\u001b[0;32m--> 727\u001b[0;31m             \u001b[0mresult\u001b[0m \u001b[0;34m=\u001b[0m \u001b[0mself\u001b[0m\u001b[0;34m.\u001b[0m\u001b[0mforward\u001b[0m\u001b[0;34m(\u001b[0m\u001b[0;34m*\u001b[0m\u001b[0minput\u001b[0m\u001b[0;34m,\u001b[0m \u001b[0;34m**\u001b[0m\u001b[0mkwargs\u001b[0m\u001b[0;34m)\u001b[0m\u001b[0;34m\u001b[0m\u001b[0;34m\u001b[0m\u001b[0m\n\u001b[0m\u001b[1;32m    728\u001b[0m         for hook in itertools.chain(\n\u001b[1;32m    729\u001b[0m                 \u001b[0m_global_forward_hooks\u001b[0m\u001b[0;34m.\u001b[0m\u001b[0mvalues\u001b[0m\u001b[0;34m(\u001b[0m\u001b[0;34m)\u001b[0m\u001b[0;34m,\u001b[0m\u001b[0;34m\u001b[0m\u001b[0;34m\u001b[0m\u001b[0m\n",
            "\u001b[0;32m/usr/local/lib/python3.6/dist-packages/torch/nn/modules/conv.py\u001b[0m in \u001b[0;36mforward\u001b[0;34m(self, input)\u001b[0m\n\u001b[1;32m    421\u001b[0m \u001b[0;34m\u001b[0m\u001b[0m\n\u001b[1;32m    422\u001b[0m     \u001b[0;32mdef\u001b[0m \u001b[0mforward\u001b[0m\u001b[0;34m(\u001b[0m\u001b[0mself\u001b[0m\u001b[0;34m,\u001b[0m \u001b[0minput\u001b[0m\u001b[0;34m:\u001b[0m \u001b[0mTensor\u001b[0m\u001b[0;34m)\u001b[0m \u001b[0;34m->\u001b[0m \u001b[0mTensor\u001b[0m\u001b[0;34m:\u001b[0m\u001b[0;34m\u001b[0m\u001b[0;34m\u001b[0m\u001b[0m\n\u001b[0;32m--> 423\u001b[0;31m         \u001b[0;32mreturn\u001b[0m \u001b[0mself\u001b[0m\u001b[0;34m.\u001b[0m\u001b[0m_conv_forward\u001b[0m\u001b[0;34m(\u001b[0m\u001b[0minput\u001b[0m\u001b[0;34m,\u001b[0m \u001b[0mself\u001b[0m\u001b[0;34m.\u001b[0m\u001b[0mweight\u001b[0m\u001b[0;34m)\u001b[0m\u001b[0;34m\u001b[0m\u001b[0;34m\u001b[0m\u001b[0m\n\u001b[0m\u001b[1;32m    424\u001b[0m \u001b[0;34m\u001b[0m\u001b[0m\n\u001b[1;32m    425\u001b[0m \u001b[0;32mclass\u001b[0m \u001b[0mConv3d\u001b[0m\u001b[0;34m(\u001b[0m\u001b[0m_ConvNd\u001b[0m\u001b[0;34m)\u001b[0m\u001b[0;34m:\u001b[0m\u001b[0;34m\u001b[0m\u001b[0;34m\u001b[0m\u001b[0m\n",
            "\u001b[0;32m/usr/local/lib/python3.6/dist-packages/torch/nn/modules/conv.py\u001b[0m in \u001b[0;36m_conv_forward\u001b[0;34m(self, input, weight)\u001b[0m\n\u001b[1;32m    418\u001b[0m                             _pair(0), self.dilation, self.groups)\n\u001b[1;32m    419\u001b[0m         return F.conv2d(input, weight, self.bias, self.stride,\n\u001b[0;32m--> 420\u001b[0;31m                         self.padding, self.dilation, self.groups)\n\u001b[0m\u001b[1;32m    421\u001b[0m \u001b[0;34m\u001b[0m\u001b[0m\n\u001b[1;32m    422\u001b[0m     \u001b[0;32mdef\u001b[0m \u001b[0mforward\u001b[0m\u001b[0;34m(\u001b[0m\u001b[0mself\u001b[0m\u001b[0;34m,\u001b[0m \u001b[0minput\u001b[0m\u001b[0;34m:\u001b[0m \u001b[0mTensor\u001b[0m\u001b[0;34m)\u001b[0m \u001b[0;34m->\u001b[0m \u001b[0mTensor\u001b[0m\u001b[0;34m:\u001b[0m\u001b[0;34m\u001b[0m\u001b[0;34m\u001b[0m\u001b[0m\n",
            "\u001b[0;31mRuntimeError\u001b[0m: Input type (torch.FloatTensor) and weight type (torch.cuda.FloatTensor) should be the same"
          ]
        }
      ]
    }
  ]
}