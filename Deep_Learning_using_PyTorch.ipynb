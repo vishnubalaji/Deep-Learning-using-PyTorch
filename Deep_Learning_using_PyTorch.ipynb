{
  "nbformat": 4,
  "nbformat_minor": 0,
  "metadata": {
    "colab": {
      "name": "Deep Learning using PyTorch.ipynb",
      "provenance": [],
      "collapsed_sections": [],
      "toc_visible": true,
      "mount_file_id": "https://github.com/vishnubalaji/Deep-Learning-using-PyTorch/blob/main/Deep_Learning_using_PyTorch.ipynb",
      "authorship_tag": "ABX9TyNdoMXlQRe2RZkLD6QtcHAl"
    },
    "kernelspec": {
      "name": "python3",
      "display_name": "Python 3"
    },
    "widgets": {
      "application/vnd.jupyter.widget-state+json": {
        "1b9672f22ecb42e3a1256788a631a0f7": {
          "model_module": "@jupyter-widgets/controls",
          "model_name": "HBoxModel",
          "state": {
            "_view_name": "HBoxView",
            "_dom_classes": [],
            "_model_name": "HBoxModel",
            "_view_module": "@jupyter-widgets/controls",
            "_model_module_version": "1.5.0",
            "_view_count": null,
            "_view_module_version": "1.5.0",
            "box_style": "",
            "layout": "IPY_MODEL_acd1255539fe43529180284a3e20aa60",
            "_model_module": "@jupyter-widgets/controls",
            "children": [
              "IPY_MODEL_e77acdf735714ce6850b8014d605a133",
              "IPY_MODEL_d972b33c5d354dd2adfe0286828d1bd2"
            ]
          }
        },
        "acd1255539fe43529180284a3e20aa60": {
          "model_module": "@jupyter-widgets/base",
          "model_name": "LayoutModel",
          "state": {
            "_view_name": "LayoutView",
            "grid_template_rows": null,
            "right": null,
            "justify_content": null,
            "_view_module": "@jupyter-widgets/base",
            "overflow": null,
            "_model_module_version": "1.2.0",
            "_view_count": null,
            "flex_flow": null,
            "width": null,
            "min_width": null,
            "border": null,
            "align_items": null,
            "bottom": null,
            "_model_module": "@jupyter-widgets/base",
            "top": null,
            "grid_column": null,
            "overflow_y": null,
            "overflow_x": null,
            "grid_auto_flow": null,
            "grid_area": null,
            "grid_template_columns": null,
            "flex": null,
            "_model_name": "LayoutModel",
            "justify_items": null,
            "grid_row": null,
            "max_height": null,
            "align_content": null,
            "visibility": null,
            "align_self": null,
            "height": null,
            "min_height": null,
            "padding": null,
            "grid_auto_rows": null,
            "grid_gap": null,
            "max_width": null,
            "order": null,
            "_view_module_version": "1.2.0",
            "grid_template_areas": null,
            "object_position": null,
            "object_fit": null,
            "grid_auto_columns": null,
            "margin": null,
            "display": null,
            "left": null
          }
        },
        "e77acdf735714ce6850b8014d605a133": {
          "model_module": "@jupyter-widgets/controls",
          "model_name": "FloatProgressModel",
          "state": {
            "_view_name": "ProgressView",
            "style": "IPY_MODEL_4c78b68923a04af49423c7b0e608db64",
            "_dom_classes": [],
            "description": "",
            "_model_name": "FloatProgressModel",
            "bar_style": "success",
            "max": 1,
            "_view_module": "@jupyter-widgets/controls",
            "_model_module_version": "1.5.0",
            "value": 1,
            "_view_count": null,
            "_view_module_version": "1.5.0",
            "orientation": "horizontal",
            "min": 0,
            "description_tooltip": null,
            "_model_module": "@jupyter-widgets/controls",
            "layout": "IPY_MODEL_d6ada893d8974f93bb5dd2b913ef773e"
          }
        },
        "d972b33c5d354dd2adfe0286828d1bd2": {
          "model_module": "@jupyter-widgets/controls",
          "model_name": "HTMLModel",
          "state": {
            "_view_name": "HTMLView",
            "style": "IPY_MODEL_326dbd42eab74655a1d3a87d737497a0",
            "_dom_classes": [],
            "description": "",
            "_model_name": "HTMLModel",
            "placeholder": "​",
            "_view_module": "@jupyter-widgets/controls",
            "_model_module_version": "1.5.0",
            "value": " 170500096/? [00:05&lt;00:00, 31366294.07it/s]",
            "_view_count": null,
            "_view_module_version": "1.5.0",
            "description_tooltip": null,
            "_model_module": "@jupyter-widgets/controls",
            "layout": "IPY_MODEL_9a1175fc91344e71b5bd86966e114217"
          }
        },
        "4c78b68923a04af49423c7b0e608db64": {
          "model_module": "@jupyter-widgets/controls",
          "model_name": "ProgressStyleModel",
          "state": {
            "_view_name": "StyleView",
            "_model_name": "ProgressStyleModel",
            "description_width": "initial",
            "_view_module": "@jupyter-widgets/base",
            "_model_module_version": "1.5.0",
            "_view_count": null,
            "_view_module_version": "1.2.0",
            "bar_color": null,
            "_model_module": "@jupyter-widgets/controls"
          }
        },
        "d6ada893d8974f93bb5dd2b913ef773e": {
          "model_module": "@jupyter-widgets/base",
          "model_name": "LayoutModel",
          "state": {
            "_view_name": "LayoutView",
            "grid_template_rows": null,
            "right": null,
            "justify_content": null,
            "_view_module": "@jupyter-widgets/base",
            "overflow": null,
            "_model_module_version": "1.2.0",
            "_view_count": null,
            "flex_flow": null,
            "width": null,
            "min_width": null,
            "border": null,
            "align_items": null,
            "bottom": null,
            "_model_module": "@jupyter-widgets/base",
            "top": null,
            "grid_column": null,
            "overflow_y": null,
            "overflow_x": null,
            "grid_auto_flow": null,
            "grid_area": null,
            "grid_template_columns": null,
            "flex": null,
            "_model_name": "LayoutModel",
            "justify_items": null,
            "grid_row": null,
            "max_height": null,
            "align_content": null,
            "visibility": null,
            "align_self": null,
            "height": null,
            "min_height": null,
            "padding": null,
            "grid_auto_rows": null,
            "grid_gap": null,
            "max_width": null,
            "order": null,
            "_view_module_version": "1.2.0",
            "grid_template_areas": null,
            "object_position": null,
            "object_fit": null,
            "grid_auto_columns": null,
            "margin": null,
            "display": null,
            "left": null
          }
        },
        "326dbd42eab74655a1d3a87d737497a0": {
          "model_module": "@jupyter-widgets/controls",
          "model_name": "DescriptionStyleModel",
          "state": {
            "_view_name": "StyleView",
            "_model_name": "DescriptionStyleModel",
            "description_width": "",
            "_view_module": "@jupyter-widgets/base",
            "_model_module_version": "1.5.0",
            "_view_count": null,
            "_view_module_version": "1.2.0",
            "_model_module": "@jupyter-widgets/controls"
          }
        },
        "9a1175fc91344e71b5bd86966e114217": {
          "model_module": "@jupyter-widgets/base",
          "model_name": "LayoutModel",
          "state": {
            "_view_name": "LayoutView",
            "grid_template_rows": null,
            "right": null,
            "justify_content": null,
            "_view_module": "@jupyter-widgets/base",
            "overflow": null,
            "_model_module_version": "1.2.0",
            "_view_count": null,
            "flex_flow": null,
            "width": null,
            "min_width": null,
            "border": null,
            "align_items": null,
            "bottom": null,
            "_model_module": "@jupyter-widgets/base",
            "top": null,
            "grid_column": null,
            "overflow_y": null,
            "overflow_x": null,
            "grid_auto_flow": null,
            "grid_area": null,
            "grid_template_columns": null,
            "flex": null,
            "_model_name": "LayoutModel",
            "justify_items": null,
            "grid_row": null,
            "max_height": null,
            "align_content": null,
            "visibility": null,
            "align_self": null,
            "height": null,
            "min_height": null,
            "padding": null,
            "grid_auto_rows": null,
            "grid_gap": null,
            "max_width": null,
            "order": null,
            "_view_module_version": "1.2.0",
            "grid_template_areas": null,
            "object_position": null,
            "object_fit": null,
            "grid_auto_columns": null,
            "margin": null,
            "display": null,
            "left": null
          }
        },
        "fe321c49f0bd4a0fbd26cecdaa276226": {
          "model_module": "@jupyter-widgets/controls",
          "model_name": "HBoxModel",
          "state": {
            "_view_name": "HBoxView",
            "_dom_classes": [],
            "_model_name": "HBoxModel",
            "_view_module": "@jupyter-widgets/controls",
            "_model_module_version": "1.5.0",
            "_view_count": null,
            "_view_module_version": "1.5.0",
            "box_style": "",
            "layout": "IPY_MODEL_92a3983113c54abeb6da73f931e45a4c",
            "_model_module": "@jupyter-widgets/controls",
            "children": [
              "IPY_MODEL_7bf27dfd25b643a68980475d1a0a1657",
              "IPY_MODEL_805eba188039466aa3ab93783b8cf435"
            ]
          }
        },
        "92a3983113c54abeb6da73f931e45a4c": {
          "model_module": "@jupyter-widgets/base",
          "model_name": "LayoutModel",
          "state": {
            "_view_name": "LayoutView",
            "grid_template_rows": null,
            "right": null,
            "justify_content": null,
            "_view_module": "@jupyter-widgets/base",
            "overflow": null,
            "_model_module_version": "1.2.0",
            "_view_count": null,
            "flex_flow": null,
            "width": null,
            "min_width": null,
            "border": null,
            "align_items": null,
            "bottom": null,
            "_model_module": "@jupyter-widgets/base",
            "top": null,
            "grid_column": null,
            "overflow_y": null,
            "overflow_x": null,
            "grid_auto_flow": null,
            "grid_area": null,
            "grid_template_columns": null,
            "flex": null,
            "_model_name": "LayoutModel",
            "justify_items": null,
            "grid_row": null,
            "max_height": null,
            "align_content": null,
            "visibility": null,
            "align_self": null,
            "height": null,
            "min_height": null,
            "padding": null,
            "grid_auto_rows": null,
            "grid_gap": null,
            "max_width": null,
            "order": null,
            "_view_module_version": "1.2.0",
            "grid_template_areas": null,
            "object_position": null,
            "object_fit": null,
            "grid_auto_columns": null,
            "margin": null,
            "display": null,
            "left": null
          }
        },
        "7bf27dfd25b643a68980475d1a0a1657": {
          "model_module": "@jupyter-widgets/controls",
          "model_name": "FloatProgressModel",
          "state": {
            "_view_name": "ProgressView",
            "style": "IPY_MODEL_bd9b2ae809a44f1cb77f46798c98eebc",
            "_dom_classes": [],
            "description": "",
            "_model_name": "FloatProgressModel",
            "bar_style": "success",
            "max": 1,
            "_view_module": "@jupyter-widgets/controls",
            "_model_module_version": "1.5.0",
            "value": 1,
            "_view_count": null,
            "_view_module_version": "1.5.0",
            "orientation": "horizontal",
            "min": 0,
            "description_tooltip": null,
            "_model_module": "@jupyter-widgets/controls",
            "layout": "IPY_MODEL_c81223206b454a1ca075e0b3382783f8"
          }
        },
        "805eba188039466aa3ab93783b8cf435": {
          "model_module": "@jupyter-widgets/controls",
          "model_name": "HTMLModel",
          "state": {
            "_view_name": "HTMLView",
            "style": "IPY_MODEL_6d858ebe413d47b99152f851f0a76041",
            "_dom_classes": [],
            "description": "",
            "_model_name": "HTMLModel",
            "placeholder": "​",
            "_view_module": "@jupyter-widgets/controls",
            "_model_module_version": "1.5.0",
            "value": " 170500096/? [00:06&lt;00:00, 25165691.75it/s]",
            "_view_count": null,
            "_view_module_version": "1.5.0",
            "description_tooltip": null,
            "_model_module": "@jupyter-widgets/controls",
            "layout": "IPY_MODEL_fb0dba9b5921493d95f7fb737066f379"
          }
        },
        "bd9b2ae809a44f1cb77f46798c98eebc": {
          "model_module": "@jupyter-widgets/controls",
          "model_name": "ProgressStyleModel",
          "state": {
            "_view_name": "StyleView",
            "_model_name": "ProgressStyleModel",
            "description_width": "initial",
            "_view_module": "@jupyter-widgets/base",
            "_model_module_version": "1.5.0",
            "_view_count": null,
            "_view_module_version": "1.2.0",
            "bar_color": null,
            "_model_module": "@jupyter-widgets/controls"
          }
        },
        "c81223206b454a1ca075e0b3382783f8": {
          "model_module": "@jupyter-widgets/base",
          "model_name": "LayoutModel",
          "state": {
            "_view_name": "LayoutView",
            "grid_template_rows": null,
            "right": null,
            "justify_content": null,
            "_view_module": "@jupyter-widgets/base",
            "overflow": null,
            "_model_module_version": "1.2.0",
            "_view_count": null,
            "flex_flow": null,
            "width": null,
            "min_width": null,
            "border": null,
            "align_items": null,
            "bottom": null,
            "_model_module": "@jupyter-widgets/base",
            "top": null,
            "grid_column": null,
            "overflow_y": null,
            "overflow_x": null,
            "grid_auto_flow": null,
            "grid_area": null,
            "grid_template_columns": null,
            "flex": null,
            "_model_name": "LayoutModel",
            "justify_items": null,
            "grid_row": null,
            "max_height": null,
            "align_content": null,
            "visibility": null,
            "align_self": null,
            "height": null,
            "min_height": null,
            "padding": null,
            "grid_auto_rows": null,
            "grid_gap": null,
            "max_width": null,
            "order": null,
            "_view_module_version": "1.2.0",
            "grid_template_areas": null,
            "object_position": null,
            "object_fit": null,
            "grid_auto_columns": null,
            "margin": null,
            "display": null,
            "left": null
          }
        },
        "6d858ebe413d47b99152f851f0a76041": {
          "model_module": "@jupyter-widgets/controls",
          "model_name": "DescriptionStyleModel",
          "state": {
            "_view_name": "StyleView",
            "_model_name": "DescriptionStyleModel",
            "description_width": "",
            "_view_module": "@jupyter-widgets/base",
            "_model_module_version": "1.5.0",
            "_view_count": null,
            "_view_module_version": "1.2.0",
            "_model_module": "@jupyter-widgets/controls"
          }
        },
        "fb0dba9b5921493d95f7fb737066f379": {
          "model_module": "@jupyter-widgets/base",
          "model_name": "LayoutModel",
          "state": {
            "_view_name": "LayoutView",
            "grid_template_rows": null,
            "right": null,
            "justify_content": null,
            "_view_module": "@jupyter-widgets/base",
            "overflow": null,
            "_model_module_version": "1.2.0",
            "_view_count": null,
            "flex_flow": null,
            "width": null,
            "min_width": null,
            "border": null,
            "align_items": null,
            "bottom": null,
            "_model_module": "@jupyter-widgets/base",
            "top": null,
            "grid_column": null,
            "overflow_y": null,
            "overflow_x": null,
            "grid_auto_flow": null,
            "grid_area": null,
            "grid_template_columns": null,
            "flex": null,
            "_model_name": "LayoutModel",
            "justify_items": null,
            "grid_row": null,
            "max_height": null,
            "align_content": null,
            "visibility": null,
            "align_self": null,
            "height": null,
            "min_height": null,
            "padding": null,
            "grid_auto_rows": null,
            "grid_gap": null,
            "max_width": null,
            "order": null,
            "_view_module_version": "1.2.0",
            "grid_template_areas": null,
            "object_position": null,
            "object_fit": null,
            "grid_auto_columns": null,
            "margin": null,
            "display": null,
            "left": null
          }
        }
      }
    },
    "accelerator": "GPU"
  },
  "cells": [
    {
      "cell_type": "markdown",
      "metadata": {
        "id": "fAraEoxkI7_8"
      },
      "source": [
        "# Practice ( Loading data from MNIST , training, testing, validating and displaying using helper module)"
      ]
    },
    {
      "cell_type": "code",
      "metadata": {
        "id": "GbI93X7SIkBP"
      },
      "source": [
        "# First and foremost step, import all the packages and necessary classes\n",
        "\n",
        "%matplotlib inline\n",
        "# %config InlineBackend.figure_format = 'retina'\n",
        "import matplotlib.pyplot as plt\n",
        "import torch\n",
        "from torchvision import datasets, transforms\n",
        "from torch import nn,optim\n",
        "from torch.nn import functional as F"
      ],
      "execution_count": null,
      "outputs": []
    },
    {
      "cell_type": "code",
      "metadata": {
        "id": "lR-5M_maI7gO"
      },
      "source": [
        "# Importing all the datasets and splitting it into training and testing\n",
        "\n",
        "transform = transforms.Compose([transforms.ToTensor(),transforms.Normalize((0.5),(0.5))])\n",
        "\n",
        "trainset = datasets.FashionMNIST('~/.pytorch/F_MNIST_data/', download=True, train=True, transform=transform)\n",
        "testset = datasets.FashionMNIST('~/.pytorch/F_MNIST_data/',download=True, train=False, transform=transform)\n",
        "\n",
        "trainloader = torch.utils.data.DataLoader(trainset, batch_size=64, shuffle=True)\n",
        "testloader = torch.utils.data.DataLoader(testset, batch_size=64, shuffle=True)"
      ],
      "execution_count": null,
      "outputs": []
    },
    {
      "cell_type": "code",
      "metadata": {
        "id": "Q-SLcxekJfsR"
      },
      "source": [
        "# Creating the neural network class\n",
        "\n",
        "class Classifier(nn.Module):\n",
        "    def __init__(self):\n",
        "        super().__init__()\n",
        "        self.fc1 = nn.Linear(784,256)\n",
        "        self.fc2 = nn.Linear(256,128)\n",
        "        self.fc3 = nn.Linear(128,64)\n",
        "        self.fc4 = nn.Linear(64,10)\n",
        "        \n",
        "    def forward(self,x):\n",
        "        x=x.view(x.shape[0],-1)\n",
        "        \n",
        "        x=F.relu(self.fc1(x))\n",
        "        x=F.relu(self.fc2(x))\n",
        "        x=F.relu(self.fc3(x))\n",
        "        x=F.log_softmax(self.fc4(x),dim=1)\n",
        "        \n",
        "        return x"
      ],
      "execution_count": null,
      "outputs": []
    },
    {
      "cell_type": "code",
      "metadata": {
        "id": "bSEeNRWSJiuD",
        "colab": {
          "base_uri": "https://localhost:8080/"
        },
        "outputId": "544848ee-004d-4f8a-d490-5d3e4ddad456"
      },
      "source": [
        "model = Classifier()\n",
        "criterion = nn.NLLLoss()\n",
        "optimizer = optim.Adam(model.parameters(),lr=0.003)\n",
        "\n",
        "epochs = 5\n",
        "steps = 0\n",
        "\n",
        "train_losses, test_losses = [],[]\n",
        "for e in range(epochs):\n",
        "    running_loss = 0\n",
        "    for images,labels in trainloader:\n",
        "        optimizer.zero_grad()\n",
        "        log_ps = model(images)\n",
        "        loss = criterion(log_ps,labels)\n",
        "        loss.backward()\n",
        "        optimizer.step()\n",
        "        \n",
        "        running_loss+=loss.item()\n",
        "    else:\n",
        "        test_loss = 0\n",
        "        accuracy = 0\n",
        "        \n",
        "        with torch.no_grad():\n",
        "            for images,labels in testloader:\n",
        "                log_ps = model(images)\n",
        "                test_loss+=criterion(log_ps,labels)\n",
        "                \n",
        "                ps = torch.exp(log_ps)\n",
        "                top_p,top_class = ps.topk(1,dim=1)\n",
        "                equals = top_class==labels.view(top_class.shape)\n",
        "                accuracy += torch.mean(equals.type(torch.FloatTensor))\n",
        "        \n",
        "        model.train()\n",
        "        \n",
        "        train_losses.append(running_loss/len(trainloader))\n",
        "        test_losses.append(test_loss/len(testloader))\n",
        "        \n",
        "        print(\"Epoch {} \".format(e+1),'Training Loss : {} '.format(train_losses[-1]),'Testing Loss {} '.format(test_losses[-1]),'Test Accuracy : {}'.format(accuracy/len(testloader)))"
      ],
      "execution_count": null,
      "outputs": [
        {
          "output_type": "stream",
          "text": [
            "Epoch 1  Training Loss : 0.5139834978846091  Testing Loss 0.49503496289253235  Test Accuracy : 0.8215565085411072\n",
            "Epoch 2  Training Loss : 0.3898848300930788  Testing Loss 0.40840640664100647  Test Accuracy : 0.8563893437385559\n",
            "Epoch 3  Training Loss : 0.3565350735921468  Testing Loss 0.4250194728374481  Test Accuracy : 0.8498208522796631\n",
            "Epoch 4  Training Loss : 0.3332956908211144  Testing Loss 0.3989698886871338  Test Accuracy : 0.8664410710334778\n",
            "Epoch 5  Training Loss : 0.31706569609103175  Testing Loss 0.38199135661125183  Test Accuracy : 0.8650477528572083\n"
          ],
          "name": "stdout"
        }
      ]
    },
    {
      "cell_type": "code",
      "metadata": {
        "id": "lxM2qRZaJk2c",
        "colab": {
          "base_uri": "https://localhost:8080/",
          "height": 282
        },
        "outputId": "052c426e-80fd-41bf-d23b-02a0bb155a39"
      },
      "source": [
        "# Plot the training and testing loss\n",
        "\n",
        "plt.plot(train_losses,label='Training Loss')\n",
        "plt.plot(test_losses,label='Testing Loss')\n",
        "plt.legend(frameon=False)"
      ],
      "execution_count": null,
      "outputs": [
        {
          "output_type": "execute_result",
          "data": {
            "text/plain": [
              "<matplotlib.legend.Legend at 0x7f253dbec0b8>"
            ]
          },
          "metadata": {
            "tags": []
          },
          "execution_count": 6
        },
        {
          "output_type": "display_data",
          "data": {
            "image/png": "[encoded data removed]",
            "text/plain": [
              "<Figure size 432x288 with 1 Axes>"
            ]
          },
          "metadata": {
            "tags": [],
            "needs_background": "light"
          }
        }
      ]
    },
    {
      "cell_type": "code",
      "metadata": {
        "id": "ca9ZGTfhJo2F",
        "colab": {
          "base_uri": "https://localhost:8080/",
          "height": 426
        },
        "outputId": "ee58b307-0872-4ae7-cb50-d966db77489b"
      },
      "source": [
        "# find the probabilities and display the output of the model\n",
        "\n",
        "model.eval()\n",
        "dataiter = iter(testloader)\n",
        "images,labels = dataiter.next()\n",
        "\n",
        "img = images[0]\n",
        "img = img.view(1,784)\n",
        "with torch.no_grad():\n",
        "    output = model(img)\n",
        "\n",
        "labels_string = ['T-shirt/top','Trouser','Pullover','Dress','Coat','Sandal','Shirt','Sneaker','Bag','Ankle Boot']\n",
        "img = img.view(1,28,28).numpy().squeeze()\n",
        "fig , (ax1 , ax2) = plt.subplots(figsize=(23,5),ncols=2)\n",
        "fig.suptitle('Image and probability prediction')\n",
        "ax1.imshow(img)\n",
        "output_prob = torch.exp(output)\n",
        "print(output_prob,'\\n',output_prob.type,'\\n')\n",
        "output_prob = output_prob.numpy().squeeze()\n",
        "ax2.bar(labels_string,output_prob)\n",
        "# print(output_prob)\n",
        "# helper.view_classify(img.view(1,28,28),output_prob)"
      ],
      "execution_count": null,
      "outputs": [
        {
          "output_type": "stream",
          "text": [
            "tensor([[8.6132e-13, 1.5686e-13, 6.5408e-15, 4.4691e-13, 2.0139e-13, 4.6194e-03,\n",
            "         2.8864e-12, 9.9529e-01, 6.4153e-09, 8.7639e-05]]) \n",
            " <built-in method type of Tensor object at 0x7f253cab8900> \n",
            "\n"
          ],
          "name": "stdout"
        },
        {
          "output_type": "execute_result",
          "data": {
            "text/plain": [
              "<BarContainer object of 10 artists>"
            ]
          },
          "metadata": {
            "tags": []
          },
          "execution_count": 13
        },
        {
          "output_type": "display_data",
          "data": {
            "image/png": "[encoded data removed]",
            "text/plain": [
              "<Figure size 1656x360 with 2 Axes>"
            ]
          },
          "metadata": {
            "tags": [],
            "needs_background": "light"
          }
        }
      ]
    },
    {
      "cell_type": "markdown",
      "metadata": {
        "id": "i_XJ5Qp7NM1J"
      },
      "source": [
        "#Saving and Loading Deep Learning Network models"
      ]
    },
    {
      "cell_type": "code",
      "metadata": {
        "id": "PLkD3Ul5ECgs"
      },
      "source": [
        "# print('My model\\n',model)\n",
        "# print('Model state dict keys\\n',model.state_dict().keys())\n",
        "\n",
        "torch.save(model.state_dict(),'Neural_Mind.pth')"
      ],
      "execution_count": null,
      "outputs": []
    },
    {
      "cell_type": "code",
      "metadata": {
        "id": "r5Wd9rZ3O17C",
        "colab": {
          "base_uri": "https://localhost:8080/"
        },
        "outputId": "4c614c85-6f16-4b0e-db54-fd5f2924b807"
      },
      "source": [
        "state_dict_=torch.load('Neural_Mind.pth')\n",
        "state_dict_.keys()"
      ],
      "execution_count": null,
      "outputs": [
        {
          "output_type": "execute_result",
          "data": {
            "text/plain": [
              "odict_keys(['fc1.weight', 'fc1.bias', 'fc2.weight', 'fc2.bias', 'fc3.weight', 'fc3.bias', 'fc4.weight', 'fc4.bias'])"
            ]
          },
          "metadata": {
            "tags": []
          },
          "execution_count": 21
        }
      ]
    },
    {
      "cell_type": "code",
      "metadata": {
        "id": "qNVuEVCdPeV5",
        "colab": {
          "base_uri": "https://localhost:8080/"
        },
        "outputId": "6ad39c02-244a-4e4e-dcbf-79eb843adc45"
      },
      "source": [
        "model.load_state_dict(state_dict_)\n",
        "# print(model.state_dict())\n",
        "# print(model.state_dict().values())"
      ],
      "execution_count": null,
      "outputs": [
        {
          "output_type": "execute_result",
          "data": {
            "text/plain": [
              "<All keys matched successfully>"
            ]
          },
          "metadata": {
            "tags": []
          },
          "execution_count": 28
        }
      ]
    },
    {
      "cell_type": "markdown",
      "metadata": {
        "id": "WmgharRRSSYY"
      },
      "source": [
        "# Loading image data of cats and dogs"
      ]
    },
    {
      "cell_type": "code",
      "metadata": {
        "id": "pHEl3GaISRyV"
      },
      "source": [
        "# First and foremost step, import all the packages and necessary classes\n",
        "\n",
        "%matplotlib inline\n",
        "# %config InlineBackend.figure_format = 'retina'\n",
        "import matplotlib.pyplot as plt\n",
        "import torch\n",
        "from torchvision import datasets, transforms\n",
        "from torch import nn,optim\n",
        "from torch.nn import functional as F"
      ],
      "execution_count": null,
      "outputs": []
    },
    {
      "cell_type": "code",
      "metadata": {
        "id": "vUQR0af4N_ku"
      },
      "source": [
        "transform = transforms.Compose([transforms.Resize(255),transforms.CenterCrop(224),transforms.ToTensor()])\n",
        "dataset = datasets.ImageFolder('Cat_Dog_data/train',transform=transform)"
      ],
      "execution_count": null,
      "outputs": []
    },
    {
      "cell_type": "markdown",
      "metadata": {
        "id": "cLCz0pdM03gR"
      },
      "source": [
        "#Python Engineer PyTorch Tutorial Workouts"
      ]
    },
    {
      "cell_type": "markdown",
      "metadata": {
        "id": "yNfR0JPa7iQp"
      },
      "source": [
        "###1. Gradient Calculation With Autograd"
      ]
    },
    {
      "cell_type": "code",
      "metadata": {
        "id": "hdCQSbrUQrQp",
        "colab": {
          "base_uri": "https://localhost:8080/"
        },
        "outputId": "fb09d60a-23ce-4bb0-fa2a-01393d74ad39"
      },
      "source": [
        "import torch\n",
        "sample = torch.randn(3,dtype=torch.float16)  # Creating a random array/list of tensors of size 3 and datatype torch.float16\n",
        "# print(sample)\n",
        "\n",
        "# Implementing autograd\n",
        "# b = torch.randn(3,requires_grad=True)\n",
        "b = torch.tensor([1,2,3],dtype=torch.float16,requires_grad=True)\n",
        "print('Values of b are ',b)\n",
        "c = b*2\n",
        "print('Values of c are ',c)\n",
        "z = c.mean()\n",
        "print('Mean of c is ',z)\n",
        "# v = torch.tensor([1,1,1],dtype=torch.float16)\n",
        "z.backward()\n",
        "print('Gradient of b are ',b.grad)"
      ],
      "execution_count": null,
      "outputs": [
        {
          "output_type": "stream",
          "text": [
            "Values of b are  tensor([1., 2., 3.], dtype=torch.float16, requires_grad=True)\n",
            "Values of c are  tensor([2., 4., 6.], dtype=torch.float16, grad_fn=<MulBackward0>)\n",
            "Mean of c is  tensor(4., dtype=torch.float16, grad_fn=<MeanBackward0>)\n",
            "Gradient of b are  tensor([0.6665, 0.6665, 0.6665], dtype=torch.float16)\n"
          ],
          "name": "stdout"
        }
      ]
    },
    {
      "cell_type": "markdown",
      "metadata": {
        "id": "m5qxoyXL7sAf"
      },
      "source": [
        "### 1.1. Without using Autograd"
      ]
    },
    {
      "cell_type": "code",
      "metadata": {
        "id": "oTWmu1AH7sZA",
        "colab": {
          "base_uri": "https://localhost:8080/"
        },
        "outputId": "fbaf2ae5-a4ca-4871-9624-df2ecc6b7476"
      },
      "source": [
        "# Without using autograd\n",
        "\n",
        "b.requires_grad_(False)\n",
        "print(b)\n",
        "\n",
        "b = b.detach()\n",
        "print(b)\n",
        "\n",
        "with torch.no_grad():\n",
        "  print(b+1)\n",
        "\n",
        "# Once you come out of torch.no_grad(), requirs_grad becomes True --> check it out print(b)"
      ],
      "execution_count": null,
      "outputs": [
        {
          "output_type": "stream",
          "text": [
            "tensor([2., 3., 4.], dtype=torch.float16)\n",
            "tensor([1., 2., 3.], dtype=torch.float16, requires_grad=True)\n"
          ],
          "name": "stdout"
        }
      ]
    },
    {
      "cell_type": "markdown",
      "metadata": {
        "id": "p2IdhOTE_Y76"
      },
      "source": [
        "###1.2. Clearing the accumulated gradients"
      ]
    },
    {
      "cell_type": "code",
      "metadata": {
        "id": "BKzSl8e3_Y0r",
        "colab": {
          "base_uri": "https://localhost:8080/"
        },
        "outputId": "8798947d-ee67-4ddc-9445-4ce27cd50627"
      },
      "source": [
        "# Clearing the gradients accumulated\n",
        "\n",
        "print(b.grad)\n",
        "b.grad.zero_()\n",
        "print(b.grad)"
      ],
      "execution_count": null,
      "outputs": [
        {
          "output_type": "stream",
          "text": [
            "tensor([0.6665, 0.6665, 0.6665], dtype=torch.float16)\n",
            "tensor([0., 0., 0.], dtype=torch.float16)\n"
          ],
          "name": "stdout"
        }
      ]
    },
    {
      "cell_type": "markdown",
      "metadata": {
        "id": "VpYWxY91AElH"
      },
      "source": [
        "#2. Backpropogation in MLP\n"
      ]
    },
    {
      "cell_type": "code",
      "metadata": {
        "id": "iXosIgmtAE_U",
        "colab": {
          "base_uri": "https://localhost:8080/"
        },
        "outputId": "9f51589c-a8fe-474d-c039-e27e37a44237"
      },
      "source": [
        "import torch\n",
        "\n",
        "x=torch.tensor([1],dtype=torch.float16) # Input parameter (x)\n",
        "y=torch.tensor([3],dtype=torch.float16) # Expected output (y) or correct output\n",
        "\n",
        "weight=torch.tensor([2],dtype=torch.float16,requires_grad=True) # Input weights for the input parameter x\n",
        "\n",
        "# Forward Pass of the MLP\n",
        "\n",
        "y_hat=x*weight  # Output got by executing the input and the weight parameters\n",
        "print('Actual output : ',y_hat)\n",
        "\n",
        "# Determining the loss\n",
        "loss=(y_hat-y)*(y_hat-y)\n",
        "print('Loss : ',loss)\n",
        "\n",
        "# Backward pass\n",
        "loss.backward()\n",
        "print('Gradients of weight : ',weight.grad)\n"
      ],
      "execution_count": null,
      "outputs": [
        {
          "output_type": "stream",
          "text": [
            "Actual output :  tensor([2.], dtype=torch.float16, grad_fn=<MulBackward0>)\n",
            "Loss :  tensor([1.], dtype=torch.float16, grad_fn=<MulBackward0>)\n",
            "Gradients of weight :  tensor([-2.], dtype=torch.float16)\n"
          ],
          "name": "stdout"
        }
      ]
    },
    {
      "cell_type": "markdown",
      "metadata": {
        "id": "N-Xeyrt8EdPz"
      },
      "source": [
        "#3. Gradient Descent with Autograd and Backpropagation"
      ]
    },
    {
      "cell_type": "markdown",
      "metadata": {
        "id": "zfRs6ZnacG9s"
      },
      "source": [
        "###3.1. Gradient Descent using numpy"
      ]
    },
    {
      "cell_type": "code",
      "metadata": {
        "id": "vVwx-4-6EdhW",
        "colab": {
          "base_uri": "https://localhost:8080/"
        },
        "outputId": "3a65e422-4877-4f43-8d66-c7fa889a8844"
      },
      "source": [
        "import numpy as np\n",
        "\n",
        "# Function is f = 2*x\n",
        "x_input=np.array([1,2,3],dtype=np.float16)\n",
        "y_output=np.array([2,4,6],dtype=np.float16) # Original output\n",
        "\n",
        "# print(x)\n",
        "# print(y)\n",
        "ww=0.0\n",
        "\n",
        "def forward(input):\n",
        "  return ww*input\n",
        "\n",
        "def loss(output,output_predicted):\n",
        "  return ((output_predicted-output)*(output_predicted-output)).mean()\n",
        "\n",
        "# MSE = 1/N*(w*x-y)**2\n",
        "# dJ/dw = 1/N*(w*x-y)*2x\n",
        "\n",
        "def gradient(input,output,output_predicted):\n",
        "  return (np.dot(2*input,output_predicted-output)).mean()\n",
        "\n",
        "print('Prediction before training : ',forward(x_input),'Output Expected : ',y_output)\n",
        "\n",
        "epochs = 10\n",
        "learning_rate = 0.01\n",
        "\n",
        "for i in range(epochs):\n",
        "  y_pred = forward(x_input) # Prediction\n",
        "\n",
        "  l = loss(y_output,y_pred)  # Loss\n",
        "\n",
        "  dw = gradient(x_input,y_output,y_pred)  # Gradients\n",
        "\n",
        "  ww-=learning_rate*dw  # Updating weights\n",
        "\n",
        "  print('Epoch : ',i+1,'\\tLoss : ',l)\n",
        "print('Prediction after training : ',forward(x_input),'Output Expected : ',y_output)"
      ],
      "execution_count": null,
      "outputs": [
        {
          "output_type": "stream",
          "text": [
            "Prediction before training :  [0. 0. 0.] Output Expected :  [2. 4. 6.]\n",
            "Epoch :  1 \tLoss :  18.67\n",
            "Epoch :  2 \tLoss :  9.68\n",
            "Epoch :  3 \tLoss :  5.02\n",
            "Epoch :  4 \tLoss :  2.598\n",
            "Epoch :  5 \tLoss :  1.351\n",
            "Epoch :  6 \tLoss :  0.6978\n",
            "Epoch :  7 \tLoss :  0.362\n",
            "Epoch :  8 \tLoss :  0.188\n",
            "Epoch :  9 \tLoss :  0.0975\n",
            "Epoch :  10 \tLoss :  0.05075\n",
            "Prediction after training :  [1.925 3.85  5.773] Output Expected :  [2. 4. 6.]\n"
          ],
          "name": "stdout"
        }
      ]
    },
    {
      "cell_type": "markdown",
      "metadata": {
        "id": "wwKnZQZrcPMm"
      },
      "source": [
        "###3.2. Gradient Descent using pytorch"
      ]
    },
    {
      "cell_type": "code",
      "metadata": {
        "id": "13jqH7gicPT8"
      },
      "source": [
        "import torch\n",
        "\n",
        "\n",
        "# Function is f = 2*x\n",
        "x_input=torch.tensor([1,2,3],dtype=torch.float16)\n",
        "y_output=torch.tensor([2,4,6],dtype=torch.float16) # Original output\n",
        "\n",
        "# print(x)\n",
        "# print(y)\n",
        "ww=torch.tensor(0,dtype=torch.float16,requires_grad=True)\n",
        "\n",
        "def forward(input):\n",
        "  return ww*input\n",
        "\n",
        "def loss(output,output_predicted):\n",
        "  return ((output_predicted-output)*(output_predicted-output)).mean()\n",
        "\n",
        "# MSE = 1/N*(w*x-y)**2\n",
        "# dJ/dw = 1/N*(w*x-y)*2x\n",
        "\n",
        "print('Prediction before training : ',forward(x_input),'Output Expected : ',y_output)\n",
        "\n",
        "epochs = 1000\n",
        "learning_rate = 0.05\n",
        "\n",
        "for i in range(epochs):\n",
        "  y_pred = forward(x_input) # Prediction\n",
        "\n",
        "  l = loss(y_output,y_pred)  # Loss\n",
        "\n",
        "  l.backward()  # Gradients\n",
        "\n",
        "  with torch.no_grad():\n",
        "    \n",
        "    ww-=learning_rate*ww.grad  # Updating weights\n",
        "  \n",
        "  ww.grad.zero_()  # Zero the gradients\n",
        "  #print('Epoch : ',i+1,'\\tLoss : ',l)\n",
        "print('Prediction after training : ',forward(x_input),'Output Expected : ',y_output)\n"
      ],
      "execution_count": null,
      "outputs": []
    },
    {
      "cell_type": "markdown",
      "metadata": {
        "id": "PtlX-yGyg6W0"
      },
      "source": [
        "###3.3. Training Pipeline : Model, Loss, Optimizer"
      ]
    },
    {
      "cell_type": "code",
      "metadata": {
        "id": "dze34ZiZg6jf",
        "colab": {
          "base_uri": "https://localhost:8080/"
        },
        "outputId": "b0a5a6b6-c01c-4d7e-e126-c07c54c77f3c"
      },
      "source": [
        "import torch\n",
        "import torch.nn as nn\n",
        "\n",
        "# Function is f = 2*x\n",
        "\n",
        "x_input=torch.tensor([[1],[2],[3]],dtype=torch.float32)\n",
        "y_output=torch.tensor([[2],[4],[6]],dtype=torch.float32) # Original output\n",
        "# print(x_input.shape)\n",
        "\n",
        "n_samples,n_features=x_input.shape\n",
        "input_shape = n_features\n",
        "output_shape = n_features\n",
        "\n",
        "# print(x)\n",
        "# print(y)\n",
        "\n",
        "# ww=torch.tensor(0,dtype=torch.float32,requires_grad=True)\n",
        "\n",
        "model = nn.Linear(input_shape,output_shape)\n",
        "\n",
        "\n",
        "# def loss(y,y_pred):\n",
        "#   return ((y-y_pred)*(y-y_pred)).mean()\n",
        "\n",
        "# MSE = 1/N*(w*x-y)**2\n",
        "# dJ/dw = 1/N*(w*x-y)*2x\n",
        "\n",
        "print('Prediction before training : ',model(x_input),'\\nOutput Expected : ',y_output)\n",
        "\n",
        "epochs = 1000\n",
        "learning_rate = 0.05\n",
        "criterion=nn.MSELoss()\n",
        "\n",
        "optimizer=torch.optim.SGD(model.parameters(),lr=learning_rate)\n",
        "\n",
        "for i in range(epochs):\n",
        "  y_predicted =  model(x_input) # Prediction\n",
        "  # print(y_pred)\n",
        "\n",
        "  loss_model = criterion(y_output,y_predicted)  # loss(y_output,y_predicted)  #criterion(y_output,y_pred)  # Loss\n",
        "  # print(loss_model)\n",
        "\n",
        "  loss_model.backward()  # Gradients\n",
        "\n",
        "  with torch.no_grad():\n",
        "    \n",
        "    optimizer.step()  # Updating weights\n",
        "  \n",
        "  optimizer.zero_grad()  # Zero the gradients\n",
        "  # print('Epoch : ',i+1,'\\tLoss : ',loss_model.item())\n",
        "print('\\nPrediction after training : ',model(x_input),'\\nOutput Expected : ',y_output)\n",
        "\n"
      ],
      "execution_count": null,
      "outputs": [
        {
          "output_type": "stream",
          "text": [
            "Prediction before training :  tensor([[-0.7691],\n",
            "        [-1.7057],\n",
            "        [-2.6423]], grad_fn=<AddmmBackward>) \n",
            "Output Expected :  tensor([[2.],\n",
            "        [4.],\n",
            "        [6.]])\n",
            "\n",
            "Prediction after training :  tensor([[2.0000],\n",
            "        [4.0000],\n",
            "        [6.0000]], grad_fn=<AddmmBackward>) \n",
            "Output Expected :  tensor([[2.],\n",
            "        [4.],\n",
            "        [6.]])\n"
          ],
          "name": "stdout"
        }
      ]
    },
    {
      "cell_type": "markdown",
      "metadata": {
        "id": "gN98hBtzp_ej"
      },
      "source": [
        "#4. Linear Regression"
      ]
    },
    {
      "cell_type": "code",
      "metadata": {
        "id": "DIEMci-pp_Ue",
        "colab": {
          "base_uri": "https://localhost:8080/",
          "height": 285
        },
        "outputId": "a4821a54-a50c-4089-af14-236aee7fa66a"
      },
      "source": [
        "import torch\n",
        "import torch.nn as nn\n",
        "import numpy as np\n",
        "from sklearn import datasets as ds\n",
        "import matplotlib.pyplot as plt\n",
        "\n",
        "# 1) Model\n",
        "# 2) Loss and optimizer\n",
        "# 3) Training loop\n",
        "\n",
        "x_numpy,y_numpy = ds.make_regression(n_samples=100,n_features=1,noise=20,random_state=1)\n",
        "\n",
        "x=torch.from_numpy(x_numpy.astype(np.float32))\n",
        "y=torch.from_numpy(y_numpy.astype(np.float32))\n",
        "\n",
        "# print(x)\n",
        "\n",
        "\n",
        "# print(y.shape[0])\n",
        "y=y.view(y.shape[0],1)\n",
        "# print(y.shape)\n",
        "# print(y)\n",
        "n_samples,n_features=x.shape\n",
        "# print(n_samples,n_features)\n",
        "\n",
        "input_size=n_features\n",
        "output_size=n_features\n",
        "\n",
        "model=nn.Linear(input_size,output_size)\n",
        "criterion=nn.MSELoss()\n",
        "learning_rate=0.005\n",
        "optimizer=torch.optim.SGD(model.parameters(),lr=learning_rate)\n",
        "\n",
        "epochs=1000\n",
        "# print('Before training : ',model(x))\n",
        "\n",
        "for i in range(epochs):\n",
        "  y_predicted=model(x)\n",
        "  loss=criterion(y,y_predicted)\n",
        "  \n",
        "  loss.backward()\n",
        "\n",
        "  with torch.no_grad():\n",
        "    optimizer.step()\n",
        "\n",
        "  optimizer.zero_grad()\n",
        "  # print('Loss is : ',loss.item())\n",
        "\n",
        "output=model(x).detach().numpy()\n",
        "\n",
        "plt.scatter(x_numpy,y_numpy,c='b')\n",
        "plt.plot(x_numpy,output,c='r')\n",
        "# print('After training : ',model(x))"
      ],
      "execution_count": null,
      "outputs": [
        {
          "output_type": "execute_result",
          "data": {
            "text/plain": [
              "[<matplotlib.lines.Line2D at 0x7fdeb6598198>]"
            ]
          },
          "metadata": {
            "tags": []
          },
          "execution_count": 58
        },
        {
          "output_type": "display_data",
          "data": {
            "image/png": "[encoded data removed]",
            "text/plain": [
              "<Figure size 432x288 with 1 Axes>"
            ]
          },
          "metadata": {
            "tags": [],
            "needs_background": "light"
          }
        }
      ]
    },
    {
      "cell_type": "markdown",
      "metadata": {
        "id": "Scsbj2TBCvNL"
      },
      "source": [
        "#5. Logistic Regression"
      ]
    },
    {
      "cell_type": "code",
      "metadata": {
        "id": "ulU_1YkACvXT",
        "colab": {
          "base_uri": "https://localhost:8080/"
        },
        "outputId": "6d3e2818-fd54-42ff-f919-1a2c86cbef80"
      },
      "source": [
        "import torch\n",
        "import torch.nn as nn\n",
        "\n",
        "from sklearn import datasets\n",
        "from sklearn.preprocessing import StandardScaler\n",
        "from sklearn.model_selection import train_test_split\n",
        "\n",
        "import matplotlib.pyplot as plt\n",
        "import numpy as np\n",
        "\n",
        "bc = datasets.load_breast_cancer()\n",
        "# print(bc.keys())  # dict_keys(['data', 'target', 'target_names', 'DESCR', 'feature_names', 'filename'])\n",
        "x,y=bc.data,bc.target\n",
        "\n",
        "n_samples,n_features=x.shape\n",
        "# print(n_samples,n_features)\n",
        "\n",
        "x_train,x_test,y_train,y_test=train_test_split(x,y,test_size=0.2,random_state=1234)\n",
        "\n",
        "sc=StandardScaler()\n",
        "x_train=sc.fit_transform(x_train)\n",
        "x_test=sc.transform(x_test)\n",
        "\n",
        "x_train=torch.from_numpy(x_train.astype(np.float32))\n",
        "x_test=torch.from_numpy(x_test.astype(np.float32))\n",
        "y_train=torch.from_numpy(y_train.astype(np.float32))\n",
        "y_test=torch.from_numpy(y_test.astype(np.float32))\n",
        "\n",
        "y_train=y_train.view(y_train.shape[0],1)\n",
        "y_test=y_test.view(y_test.shape[0],1)\n",
        "\n",
        "# f=wx+b , apply sigmoid at the end\n",
        "\n",
        "class LogisticRegression(nn.Module):\n",
        "  def __init__(self,input_features):\n",
        "    super(LogisticRegression,self).__init__()\n",
        "    self.linear=nn.Linear(input_features,1)\n",
        "  \n",
        "  def forward(self,x):\n",
        "    y_predicted=torch.sigmoid(self.linear(x))\n",
        "    return y_predicted\n",
        "\n",
        "model = LogisticRegression(n_features)\n",
        "criterion = nn.BCELoss()\n",
        "optimizer=torch.optim.SGD(model.parameters(),lr=0.05)\n",
        "\n",
        "epochs=100\n",
        "\n",
        "for i in range(epochs):\n",
        "  y_pred=model(x_train)\n",
        "\n",
        "  loss=criterion(y_pred,y_train)\n",
        "\n",
        "  loss.backward()\n",
        "\n",
        "  optimizer.step()\n",
        "  optimizer.zero_grad()\n",
        "\n",
        "  if (i+1)%10 ==0:\n",
        "    print('Loss : ',loss.item())\n",
        "\n",
        "with torch.no_grad():\n",
        "  y_predicted=model(x_test)\n",
        "\n",
        "  y_predicted_cls = y_predicted.round()\n",
        "  acc=y_predicted_cls.eq(y_test).sum() / float(y_test.shape[0])\n",
        "\n",
        "  # print('Accuracy of the model is : ',acc.item())\n",
        "  print(f'Accuracy is : {acc.item()*100:.4f}')"
      ],
      "execution_count": null,
      "outputs": [
        {
          "output_type": "stream",
          "text": [
            "Loss :  0.34376856684684753\n",
            "Loss :  0.2482527643442154\n",
            "Loss :  0.2055150866508484\n",
            "Loss :  0.17969831824302673\n",
            "Loss :  0.1618824154138565\n",
            "Loss :  0.1486576944589615\n",
            "Loss :  0.13838344812393188\n",
            "Loss :  0.1301458179950714\n",
            "Loss :  0.1233816146850586\n",
            "Loss :  0.11771883070468903\n",
            "Accuracy is : 92.1053\n"
          ],
          "name": "stdout"
        }
      ]
    },
    {
      "cell_type": "markdown",
      "metadata": {
        "id": "ESF1UXxKin_v"
      },
      "source": [
        "#6. Softmax and Cross-Entropy"
      ]
    },
    {
      "cell_type": "code",
      "metadata": {
        "id": "DB1EZr7QPtDC",
        "colab": {
          "base_uri": "https://localhost:8080/"
        },
        "outputId": "804dd21f-ddc1-4c06-ad62-ca64b980e9da"
      },
      "source": [
        "import torch\n",
        "from torch import nn\n",
        "import numpy as np\n",
        "\n",
        "def softmax(x):\n",
        "  return np.exp(x)/np.sum(np.exp(x),axis=0)\n",
        "\n",
        "def cross_entropy(actual,predicted):\n",
        "  loss = -np.sum(actual*np.log(predicted))\n",
        "  return loss #/ predicted.shape[0]\n",
        "\n",
        "a=np.array([2,1,1],dtype=np.float32)\n",
        "# print(type(a))\n",
        "# print(f'Probabilities output is : {softmax(a)}')\n",
        "# print(f'Sum of probabilities output is : {np.sum(softmax(a),axis=0)}')\n",
        "\n",
        "x=torch.tensor([2,1,1],dtype=torch.float32)\n",
        "# print(x)\n",
        "# print(f'PyTorch Softmax output is : {torch.softmax(x,dim=0)}')\n",
        "\n",
        "y_np=np.array([1,0,0])\n",
        "y_pred_good=np.array([0.7,0.2,0.1])\n",
        "y_pred_bad=np.array([0.1,0.3,0.6])\n",
        "\n",
        "l1=cross_entropy(y_np,y_pred_good)\n",
        "l2=cross_entropy(y_np,y_pred_bad)\n",
        "# print(f'Output for l1 is {l1:.4f}')\n",
        "# print(f'Output for l2 is {l2:.4f}')\n",
        "\n",
        "loss=nn.CrossEntropyLoss()\n",
        "y=torch.tensor([0])\n",
        "y_pred_good_=torch.tensor([[2.0,1.0,0.1]])\n",
        "y_pred_bad_=torch.tensor([[0.5,2.0,0.3]])\n",
        "\n",
        "l1=loss(y_pred_good_,y)\n",
        "l2=loss(y_pred_bad_,y)\n",
        "\n",
        "print(l1.item())\n",
        "print(l2.item())\n",
        "\n"
      ],
      "execution_count": null,
      "outputs": [
        {
          "output_type": "stream",
          "text": [
            "0.4170299470424652\n",
            "1.840616226196289\n"
          ],
          "name": "stdout"
        }
      ]
    },
    {
      "cell_type": "markdown",
      "metadata": {
        "id": "qwxda42zmanM"
      },
      "source": [
        "#7. Activation Functions\n",
        "\n",
        "Most popular Activation functions\n",
        "  1. Step function\n",
        "  2. Sigmoid function\n",
        "  3. TanH\n",
        "  4. ReLU\n",
        "  5. Leaky ReLU\n",
        "  6. Softmax"
      ]
    },
    {
      "cell_type": "code",
      "metadata": {
        "id": "e8FySndtmat4"
      },
      "source": [
        "import torch\n",
        "import torch.nn as nn\n",
        "import torch.nn.functional as F\n",
        "\n",
        "class NeuralNet(nn.Module):\n",
        "  def __init__(self,input_size,hidden_size):\n",
        "    super(NeuralNet,self).__init__()\n",
        "    self.linear1 = nn.Linear(input_size,hidden_size)\n",
        "    self.relu=nn.ReLU()\n",
        "    self.linear2 = nn.Linear(hidden_size,1)\n",
        "    self.sigmoid=nn.Sigmoid()\n",
        "\n",
        "  def forward(self,x):\n",
        "    out=self.linear1(x)\n",
        "    out=self.relu(out)\n",
        "    out=self.linear2(out)\n",
        "    out=self.sigmoid(out)\n",
        "\n",
        "    return out\n",
        "\n",
        "class NeuralNetPy(nn.Module):\n",
        "  def __init__(self,input_size,hidden_size):\n",
        "    super(NeuralNetPy,self).__init__()\n",
        "    self.linear1 = nn.Linear(input_size,hidden_size)\n",
        "    self.linear2 = nn.Linear(hidden_size,1)\n",
        "\n",
        "  def forward(self,x):\n",
        "    out=torch.relu(self.linear1(x))\n",
        "    out=torch.sigmoid(self.linear2(out))\n",
        "\n",
        "    return out\n"
      ],
      "execution_count": null,
      "outputs": []
    },
    {
      "cell_type": "markdown",
      "metadata": {
        "id": "clsBLS9JqVvy"
      },
      "source": [
        "#8. Feed-Forward Neural Network"
      ]
    },
    {
      "cell_type": "code",
      "metadata": {
        "id": "KaUXiIOzqV2C"
      },
      "source": [
        "import torch\n",
        "import torch.nn as nn\n",
        "import torch.nn.functional as F\n",
        "import torchvision\n",
        "import torchvision.transforms as transforms\n",
        "import matplotlib.pyplot as plt\n",
        "\n",
        "# device config\n",
        "\n",
        "device = torch.device('cuda' if torch.cuda.is_available() else 'cpu')\n",
        "\n",
        "# hyper parameters\n",
        "\n",
        "input_size=784  # 28x28\n",
        "hidden_size=100\n",
        "num_classes=10\n",
        "\n",
        "num_epochs=100\n",
        "batch_size=100\n",
        "learning_rate=0.005\n",
        "\n",
        "# MNIST\n",
        "train_data=torchvision.datasets.MNIST(root='./data',train=True,transform=transforms.ToTensor(),download=True)\n",
        "test_data=torchvision.datasets.MNIST(root='./data',train=False,transform=transforms.ToTensor())\n",
        "\n",
        "train_loader=torch.utils.data.DataLoader(dataset=train_data, batch_size=batch_size, shuffle=True)\n",
        "test_loader=torch.utils.data.DataLoader(dataset=test_data, batch_size=batch_size, shuffle=False)\n",
        "\n",
        "examples = iter(train_data)\n",
        "samples, labels = next(examples)\n",
        "\n",
        "# print(type(samples),type(labels))\n",
        "\n",
        "class NeuralNet(nn.Module):\n",
        "  def __init__(self,input_size,hidden_size,num_classes):\n",
        "    super(NeuralNet,self).__init__()\n",
        "    self.l1=nn.Linear(input_size,hidden_size)\n",
        "    self.relu=nn.ReLU()\n",
        "    self.l2=nn.Linear(hidden_size,num_classes)\n",
        "\n",
        "  def forward(self,x):\n",
        "    out=self.l1(x)\n",
        "    out=self.relu(out)\n",
        "    out=self.l2(out)\n",
        "    return out\n",
        "\n",
        "model=NeuralNet(input_size,hidden_size,num_classes)\n",
        "\n",
        "# loss and optim\n",
        "\n",
        "criterion=nn.CrossEntropyLoss()\n",
        "optimi=torch.optim.Adam(model.parameters(),lr=learning_rate)\n",
        "\n",
        "# training loop\n",
        "n_total_steps=len(train_loader)\n",
        "\n",
        "for epoch in range(num_epochs):\n",
        "  for i,(images,labels) in enumerate(train_loader):\n",
        "    images=images.view(-1,784).to(device)\n",
        "    labels=labels.to(device)\n",
        "\n",
        "    # forward pass\n",
        "    output_predicted = model(images)\n",
        "    loss=criterion(output_predicted,labels)\n",
        "\n",
        "    # backwards\n",
        "    loss.backward()\n",
        "    optimi.step()\n",
        "\n",
        "    optimi.zero_grad()\n",
        "\n",
        "    if(i+1)%10==0:\n",
        "      print(f'Loss : {loss.item():.4f}')\n",
        "\n",
        "# testing loop\n",
        "\n",
        "with torch.no_grad():\n",
        "  n_correct=0\n",
        "  n_samples=0\n",
        "\n",
        "  for images,labels in test_loader:\n",
        "    images=images.view(-1,784).to(device)\n",
        "    labels=labels.to(device)\n",
        "\n",
        "    outputs=model(images)\n",
        "\n",
        "    # value, index\n",
        "    _, predictions = torch.max(outputs,1)\n",
        "    n_samples+=labels.shape[0]\n",
        "    n_correct+=predictions==labels.sum().item()\n",
        "  \n",
        "  acc=100.0*n_correct/n_samples\n",
        "  print(f'Accuracy : {acc}')\n"
      ],
      "execution_count": null,
      "outputs": []
    },
    {
      "cell_type": "markdown",
      "metadata": {
        "id": "QUbdEXRDUDQx"
      },
      "source": [
        "#9. Convolutional Neural Network on CIFAR10 "
      ]
    },
    {
      "cell_type": "code",
      "metadata": {
        "id": "BgimQlnFUDXE"
      },
      "source": [
        "import torch\n",
        "import torch.nn as nn\n",
        "import torch.nn.functional as F\n",
        "import torchvision\n",
        "import torchvision.transforms as transforms\n",
        "import matplotlib.pyplot as plt\n",
        "import numpy as np\n",
        "\n",
        "\n",
        "# Device configuration\n",
        "device = torch.device('cuda' if torch.cuda.is_available() else 'cpu')\n",
        "print(device)\n",
        "break\n",
        "# Hyper-parameters\n",
        "num_epochs=10\n",
        "batch_size=4\n",
        "learning_rate=0.005\n",
        "\n",
        "transform=transforms.Compose([\n",
        "                              transforms.RandomCrop(32,padding=4),\n",
        "                              transforms.RandomHorizontalFlip(),\n",
        "                              transforms.ToTensor(),\n",
        "                              transforms.Normalize((0.4914, 0.4822, 0.4465),(0.2023, 0.1994, 0.2010))\n",
        "])\n",
        "\n",
        "train_data=torchvision.datasets.CIFAR10(root='./data',train=True,download=True,transform=transform)\n",
        "test_data=torchvision.datasets.CIFAR10(root='./data',train=False,download=False,transform=transform)\n",
        "\n",
        "trainloader=torch.utils.data.DataLoader(\n",
        "    train_data,shuffle=True,batch_size=batch_size,num_workers=2)\n",
        "\n",
        "testloader=torch.utils.data.DataLoader(\n",
        "    test_data,shuffle=False,batch_size=batch_size,num_workers=2)\n",
        "\n",
        "#classes=('plane','car','bird','cat','deer','dog','frog','horse','ship','truck')\n",
        "\n",
        "# Convolutional Network\n",
        "class CNN(nn.Module):\n",
        "  '''CNN Builder'''\n",
        "  def __init__(self):\n",
        "    super(CNN,self).__init__()\n",
        "\n",
        "    self.conv_layer = nn.Sequential(\n",
        "        \n",
        "        # Conv Layer block 1\n",
        "        nn.Conv2d(in_channels=3, out_channels=32, kernel_size=3, padding=1),\n",
        "        nn.BatchNorm2d(32),\n",
        "        nn.ReLU(inplace=True),\n",
        "        nn.Conv2d(in_channels=32, out_channels=64, kernel_size=3, padding=1),\n",
        "        nn.ReLU(inplace=True),\n",
        "        nn.MaxPool2d(kernel_size=2,stride=2),\n",
        "\n",
        "        # Conv Layer block 2\n",
        "        nn.Conv2d(in_channels=64, out_channels=128, kernel_size=3, padding=1),\n",
        "        nn.BatchNorm2d(128),\n",
        "        nn.ReLU(inplace=True),\n",
        "        nn.Conv2d(in_channels=128, out_channels=128, kernel_size=3, padding=1),\n",
        "        nn.ReLU(inplace=True),\n",
        "        nn.MaxPool2d(kernel_size=2,stride=2),\n",
        "        nn.Dropout2d(p=0.05),\n",
        "\n",
        "        # Conv Layer block 3\n",
        "        nn.Conv2d(in_channels=128, out_channels=256, kernel_size=3, padding=1),\n",
        "        nn.BatchNorm2d(256),\n",
        "        nn.ReLU(inplace=True),\n",
        "        nn.Conv2d(in_channels=256, out_channels=256, kernel_size=3, padding=1),\n",
        "        nn.ReLU(inplace=True),\n",
        "        nn.MaxPool2d(kernel_size=2,stride=2),\n",
        "    )\n",
        "\n",
        "    self.fc_layer = nn.Sequential(\n",
        "        nn.Dropout(p=0.1),\n",
        "        nn.Linear(4096,1024),\n",
        "        nn.ReLU(inplace=True),\n",
        "        nn.Linear(1024,512),\n",
        "        nn.ReLU(inplace=True),\n",
        "        nn.Dropout(p=0.1),\n",
        "        nn.Linear(512,10)\n",
        "    )\n",
        "  \n",
        "  def forward(self,x):\n",
        "    '''Perform Forward propagation'''\n",
        "\n",
        "    # conv layers\n",
        "    x=self.conv_layer(x)\n",
        "\n",
        "    # flatten\n",
        "    x=x.view(x.size(0),-1)\n",
        "\n",
        "    # fc layer\n",
        "    x=self.fc_layer(x)\n",
        "\n",
        "    return x\n",
        "\n",
        "model = CNN()\n",
        "\n",
        "criterion=nn.CrossEntropyLoss()\n",
        "optimizer=torch.optim.Adam(model.parameters(),lr=learning_rate)\n",
        "\n",
        "for epochs in range(num_epochs):\n",
        "  print(f'Epoch {epochs} is running :')\n",
        "  running_loss=0\n",
        "  for i,(images,labels) in enumerate(trainloader):\n",
        "    optimizer.zero_grad()\n",
        "    output=model.forward(images)\n",
        "    loss=criterion(output,labels)\n",
        "    loss.backward()\n",
        "\n",
        "    optimizer.step()\n",
        "    running_loss+=loss.item()\n",
        "  running_loss/=len(trainloader)\n",
        "  print(f'Loss is {running_loss:.4f}')\n",
        "\n"
      ],
      "execution_count": null,
      "outputs": []
    },
    {
      "cell_type": "markdown",
      "metadata": {
        "id": "dzHFHL5q0j6-"
      },
      "source": [
        "###9.1. Rough work for Convolutional Neural Network"
      ]
    },
    {
      "cell_type": "code",
      "metadata": {
        "id": "KKe3Z8g10kCg",
        "colab": {
          "base_uri": "https://localhost:8080/",
          "height": 119,
          "referenced_widgets": [
            "1b9672f22ecb42e3a1256788a631a0f7",
            "acd1255539fe43529180284a3e20aa60",
            "e77acdf735714ce6850b8014d605a133",
            "d972b33c5d354dd2adfe0286828d1bd2",
            "4c78b68923a04af49423c7b0e608db64",
            "d6ada893d8974f93bb5dd2b913ef773e",
            "326dbd42eab74655a1d3a87d737497a0",
            "9a1175fc91344e71b5bd86966e114217"
          ]
        },
        "outputId": "0e0c31d1-c3e3-4660-b328-9ae2ff4004b1"
      },
      "source": [
        "import torch\n",
        "import torch.nn as nn\n",
        "import torch.nn.functional as F\n",
        "import torchvision\n",
        "import torchvision.transforms as transforms\n",
        "import matplotlib.pyplot as plt\n",
        "import numpy as np\n",
        "\n",
        "# datasets\n",
        "\n",
        "transform=transforms.Compose([transforms.ToTensor(),transforms.Normalize((0.5,0.5,0.5),(0.5,0.5,0.5))])\n",
        "train_data = torchvision.datasets.CIFAR10(root='./data',download=True,transform=transform,train=True)\n",
        "\n",
        "trainloader = torch.utils.data.DataLoader(train_data,shuffle=True,batch_size=100)\n",
        "# print(trainloader)\n",
        "\n"
      ],
      "execution_count": null,
      "outputs": [
        {
          "output_type": "stream",
          "text": [
            "Downloading https://www.cs.toronto.edu/~kriz/cifar-10-python.tar.gz to ./data/cifar-10-python.tar.gz\n"
          ],
          "name": "stdout"
        },
        {
          "output_type": "display_data",
          "data": {
            "application/vnd.jupyter.widget-view+json": {
              "model_id": "1b9672f22ecb42e3a1256788a631a0f7",
              "version_minor": 0,
              "version_major": 2
            },
            "text/plain": [
              "HBox(children=(FloatProgress(value=1.0, bar_style='info', max=1.0), HTML(value='')))"
            ]
          },
          "metadata": {
            "tags": []
          }
        },
        {
          "output_type": "stream",
          "text": [
            "Extracting ./data/cifar-10-python.tar.gz to ./data\n",
            "\n"
          ],
          "name": "stdout"
        }
      ]
    },
    {
      "cell_type": "code",
      "metadata": {
        "colab": {
          "base_uri": "https://localhost:8080/",
          "height": 317
        },
        "id": "GHiWpRuK5Um9",
        "outputId": "cafb00a8-b7e1-4208-ad75-6c64cf6a7827"
      },
      "source": [
        "# Displaying the image\n",
        "classes=('plane','car','bird','cat','deer','dog','frog','horse','ship','truck')\n",
        "for images,labels in trainloader:\n",
        "  print(images.shape)\n",
        "  print(labels[0])\n",
        "  print(classes[labels[0]])\n",
        "  plt.imshow(images[3][2],cmap='gray')\n",
        "  break"
      ],
      "execution_count": null,
      "outputs": [
        {
          "output_type": "stream",
          "text": [
            "torch.Size([100, 3, 32, 32])\n",
            "tensor(2)\n",
            "bird\n"
          ],
          "name": "stdout"
        },
        {
          "output_type": "display_data",
          "data": {
            "image/png": "[encoded data removed]",
            "text/plain": [
              "<Figure size 432x288 with 1 Axes>"
            ]
          },
          "metadata": {
            "tags": [],
            "needs_background": "light"
          }
        }
      ]
    },
    {
      "cell_type": "markdown",
      "metadata": {
        "id": "yme_4SyXjfJm"
      },
      "source": [
        "###9.2 CNN Tutorial --> Training a Classifier (from PyTorch documentation)"
      ]
    },
    {
      "cell_type": "markdown",
      "metadata": {
        "id": "UUL6h0Zlpvs-"
      },
      "source": [
        "1. Load and normalizing the CIFAR10 training and test datasets using torchvision\n",
        "2. Define a Convolutional Neural Network\n",
        "3. Define a loss function\n",
        "4. Train the network on the training data\n",
        "5. Test the network on the test data"
      ]
    },
    {
      "cell_type": "code",
      "metadata": {
        "colab": {
          "base_uri": "https://localhost:8080/"
        },
        "id": "HjOMVubtj2DJ",
        "outputId": "8e6e4584-501e-4320-a66b-7bdc1b178d6a"
      },
      "source": [
        "import torch\n",
        "import torch.optim as optim\n",
        "import torch.nn as nn\n",
        "import torch.nn.functional as F\n",
        "import torchvision\n",
        "import torchvision.transforms as transforms\n",
        "import matplotlib.pyplot as plt\n",
        "import numpy as np\n",
        "\n",
        "device = torch.device('cuda' if torch.cuda.is_available() else 'cpu')\n",
        "transform = transforms.Compose([transforms.ToTensor(),transforms.Normalize((0.5,0.5,0.5),(0.5,0.5,0.5))])\n",
        "\n",
        "trainset=torchvision.datasets.CIFAR10(root='./data',download=True,train=True,transform=transform)\n",
        "trainloader=torch.utils.data.DataLoader(trainset,batch_size=4,shuffle=True,num_workers=0)\n",
        "\n",
        "testset=torchvision.datasets.CIFAR10(root='./data',download=True,train=False,transform=transform)\n",
        "testloader=torch.utils.data.DataLoader(testset,batch_size=4,shuffle=False,num_workers=0)\n",
        "\n",
        "classes = ('plane', 'car', 'bird', 'cat','deer', 'dog', 'frog', 'horse', 'ship', 'truck')\n",
        "\n",
        "class Net(nn.Module):\n",
        "  def __init__(self):\n",
        "    super(Net,self).__init__()\n",
        "    self.conv1=nn.Conv2d(in_channels=3,out_channels=6,kernel_size=5)\n",
        "    self.pool=nn.MaxPool2d(2,2)\n",
        "    self.conv2=nn.Conv2d(in_channels=6,out_channels=16,kernel_size=5)\n",
        "    self.fc1=nn.Linear(5*5*16,120)\n",
        "    self.fc2=nn.Linear(120,84)\n",
        "    self.fc3=nn.Linear(84,10)\n",
        "  \n",
        "  def forward(self,x):\n",
        "    x=self.pool(F.relu(self.conv1(x)))\n",
        "    x=self.pool(F.relu(self.conv2(x)))\n",
        "    x=x.view(-1,16*5*5)\n",
        "    x=F.relu(self.fc1(x))\n",
        "    x=F.relu(self.fc2(x))\n",
        "    x=self.fc3(x)\n",
        "    return x\n",
        "\n",
        "net = Net()\n",
        "criterion = nn.CrossEntropyLoss()\n",
        "optimizer=optim.SGD(net.parameters(),lr=0.001)\n",
        "print('Model training has started')\n",
        "epochs = 4\n",
        "for j in range(epochs):\n",
        "  running_loss=0.0\n",
        "  for images,labels in trainloader:\n",
        "    optimizer.zero_grad()\n",
        "    \n",
        "    outputs=net(images)\n",
        "    loss=criterion(outputs,labels)\n",
        "    loss.backward()\n",
        "    optimizer.step()\n",
        "\n",
        "    running_loss+=loss.item()\n",
        "    if j%2000==199:\n",
        "      print(f'Loss is {running_loss/2000:.4f} and Epoch is {j+1,i+1}')\n",
        "      running_loss=0.0\n",
        "\n",
        "print('Finished training...')"
      ],
      "execution_count": null,
      "outputs": [
        {
          "output_type": "stream",
          "text": [
            "Files already downloaded and verified\n",
            "Files already downloaded and verified\n",
            "Model training has started\n",
            "Finished training...\n"
          ],
          "name": "stdout"
        }
      ]
    },
    {
      "cell_type": "code",
      "metadata": {
        "id": "ub1fqy3NJW6S",
        "colab": {
          "base_uri": "https://localhost:8080/",
          "height": 340
        },
        "outputId": "3b38da10-e3f3-4f28-ed00-77ec40635ab3"
      },
      "source": [
        "import matplotlib.pyplot as plt\n",
        "import matplotlib.image as mpimg\n",
        "\n",
        "def imshow(img):\n",
        "    img = img / 2 + 0.5     # unnormalize\n",
        "    npimg = img.numpy()\n",
        "    plt.imshow(np.transpose(npimg, (1, 2, 0)))\n",
        "    plt.show()\n",
        "\n",
        "# imshow(torchvision.utils.make_grid(images))\n",
        "# print(images.shape)\n",
        "# print(images[1].shape)\n",
        "# image=images[1].view(-1,32)\n",
        "# print(image.shape)\n",
        "\n",
        "\n",
        "print('Testing the network...')\n",
        "\n",
        "path='./cifar_net.pth'\n",
        "# print(net.state_dict())\n",
        "\n",
        "torch.save(net.state_dict(),path)\n",
        "\n",
        "testiter=iter(testloader)\n",
        "image_test,labels_test=testiter.next()\n",
        "imshow(torchvision.utils.make_grid(image_test))\n",
        "\n",
        "for j in range(4):\n",
        "  print(f'{j+1}. {classes[labels_test[j]]}')\n",
        "\n",
        "net=Net()\n",
        "net.load_state_dict(torch.load(path))\n",
        "output_test=net(image_test)\n",
        "\n",
        "_,predicted=torch.max(outputs,1)\n",
        "print('\\n')\n",
        "for j in range(4):\n",
        "  print(f'{j+1}. {classes[predicted[j]]}')\n",
        "\n",
        "correct=0\n",
        "total=0\n",
        "with torch.no_grad():\n",
        "  for images,labels in testloader:\n",
        "    outputs=net(images)\n",
        "    _,predicted=torch.max(outputs.data,1)\n",
        "    total+=labels.size(0)\n",
        "    correct+=(predicted==labels).sum().item()\n",
        "\n",
        "print(f'Accuracy of the network {correct*100/total}')\n"
      ],
      "execution_count": null,
      "outputs": [
        {
          "output_type": "stream",
          "text": [
            "Testing the network...\n"
          ],
          "name": "stdout"
        },
        {
          "output_type": "display_data",
          "data": {
            "image/png": "[encoded data removed]",
            "text/plain": [
              "<Figure size 432x288 with 1 Axes>"
            ]
          },
          "metadata": {
            "tags": [],
            "needs_background": "light"
          }
        },
        {
          "output_type": "stream",
          "text": [
            "1. cat\n",
            "2. ship\n",
            "3. ship\n",
            "4. plane\n",
            "\n",
            "\n",
            "1. ship\n",
            "2. truck\n",
            "3. cat\n",
            "4. plane\n",
            "Accuracy of the network 44.23\n"
          ],
          "name": "stdout"
        }
      ]
    },
    {
      "cell_type": "markdown",
      "metadata": {
        "id": "D8YaYXF9QEQB"
      },
      "source": [
        "#10. Transfer Learning"
      ]
    },
    {
      "cell_type": "code",
      "metadata": {
        "id": "CMkhKdETHKW2"
      },
      "source": [
        ""
      ],
      "execution_count": null,
      "outputs": []
    },
    {
      "cell_type": "markdown",
      "metadata": {
        "id": "V2AR0fnzHKQV"
      },
      "source": [
        "###Tid-bits for The Brain\n",
        "Various architectures of CNNs:\n",
        "1. LeNet\n",
        "2. AlexNet\n",
        "3. VGGNet\n",
        "4. GoogLeNet\n",
        "5. ResNet\n",
        "6. ZFNet\n",
        "\n"
      ]
    },
    {
      "cell_type": "markdown",
      "metadata": {
        "id": "E0V8o8nfH2Md"
      },
      "source": [
        "#Yann LeCun's Deep Learning Course at CDS - NYU Center for Data Science\n",
        "\n",
        "URL : https://cds.nyu.edu/deep-learning/"
      ]
    },
    {
      "cell_type": "markdown",
      "metadata": {
        "id": "uigdeT2czfdK"
      },
      "source": [
        "Check out https://twitter.com/alfcnz for more Deep Learning materials\n",
        "\n",
        "Things to search :\n",
        "1. Linear Algebra (from:alfcnz)\n",
        "2. SVD (from:alfcnz)\n",
        "3. (from:alfcnz)"
      ]
    },
    {
      "cell_type": "markdown",
      "metadata": {
        "id": "JmOOVEtDbLPV"
      },
      "source": [
        "# PyTorch tutorials from the official website of PyTorch\n",
        "\n",
        "URL : https://www.pytorch.org/tutorials"
      ]
    },
    {
      "cell_type": "markdown",
      "metadata": {
        "id": "ht8u7M3OmbSL"
      },
      "source": [
        "* CUDA Tensors\n",
        "* Tensor Operations\n",
        "* Numpy to PyTorch Tensors and vice-versa"
      ]
    },
    {
      "cell_type": "code",
      "metadata": {
        "colab": {
          "base_uri": "https://localhost:8080/"
        },
        "id": "lTE_VHSqbLZ2",
        "outputId": "c5e82af7-4aa6-4718-db39-077ad686c0bc"
      },
      "source": [
        "import torch\n",
        "import time\n",
        "\n",
        "a=torch.ones(5,dtype=torch.float32) # Tensor array of ones of size 1x5 (row,column)\n",
        "b=torch.ones(5,dtype=torch.float32)\n",
        "# print(a)\n",
        "# b=a.numpy()\n",
        "# print(b,type(b))\n",
        "\n",
        "device = 'cuda' if torch.cuda.is_available() else 'cpu'\n",
        "# print(device)\n",
        "a=a.to(device)\n",
        "start=time.time()\n",
        "a.add_(1)\n",
        "end=time.time()\n",
        "GPU_time=end-start\n",
        "print(f'{a} and the time taken is {GPU_time} using CUDA')\n",
        "\n",
        "start=time.time()\n",
        "b.add_(1)\n",
        "end=time.time()\n",
        "CPU_time=end-start\n",
        "print(f'{b} and the time taken is {CPU_time} using CPU')\n",
        "\n",
        "diff=GPU_time-CPU_time\n",
        "print(f'\\nThe difference the timings between GPU and the CPU is {diff}')  # Negative value indicates GPU is faster\n"
      ],
      "execution_count": null,
      "outputs": [
        {
          "output_type": "stream",
          "text": [
            "tensor([2., 2., 2., 2., 2.], device='cuda:0') and the time taken is 0.006888866424560547 using CUDA\n",
            "tensor([2., 2., 2., 2., 2.]) and the time taken is 0.007482767105102539 using CPU\n",
            "\n",
            "The difference the timings between GPU and the CPU is -0.0005939006805419922\n"
          ],
          "name": "stdout"
        }
      ]
    },
    {
      "cell_type": "markdown",
      "metadata": {
        "id": "SYN1FrQ8nI6Q"
      },
      "source": [
        "* AUTOGRAD: AUTOMATIC DIFFERENTIATION\n",
        "\n",
        "Jacobian matrix is used here for computing gradients (for more info visit the official documentation)"
      ]
    },
    {
      "cell_type": "code",
      "metadata": {
        "colab": {
          "base_uri": "https://localhost:8080/"
        },
        "id": "ui5UEn3vnIwr",
        "outputId": "cc209f9f-ebe9-41ed-9d9c-daa35e2d63ab"
      },
      "source": [
        "c=torch.ones(2,2,requires_grad=True,device=device)\n",
        "# print(c)\n",
        "d=c+2\n",
        "# print(d)\n",
        "# print(d.grad_fn)\n",
        "e=d*d*3\n",
        "out=e.mean()\n",
        "print(f'{e}\\n{out}')\n",
        "out.backward()\n",
        "print(c.grad)"
      ],
      "execution_count": null,
      "outputs": [
        {
          "output_type": "stream",
          "text": [
            "tensor([[27., 27.],\n",
            "        [27., 27.]], device='cuda:0', grad_fn=<MulBackward0>)\n",
            "27.0\n",
            "tensor([[4.5000, 4.5000],\n",
            "        [4.5000, 4.5000]], device='cuda:0')\n"
          ],
          "name": "stdout"
        }
      ]
    },
    {
      "cell_type": "markdown",
      "metadata": {
        "id": "aEvGqcRs7Dll"
      },
      "source": [
        "* NEURAL NETWORKS"
      ]
    },
    {
      "cell_type": "code",
      "metadata": {
        "colab": {
          "base_uri": "https://localhost:8080/"
        },
        "id": "yNh6Sj7r7Dvg",
        "outputId": "d7f59802-82a6-4483-fe8c-ebd3506bd65c"
      },
      "source": [
        "import torch\n",
        "import torch.nn as nn\n",
        "import torch.nn.functional as F\n",
        "import torch.optim as optim\n",
        "\n",
        "class Net(nn.Module):\n",
        "  def __init__(self):\n",
        "    super(Net,self).__init__()\n",
        "    self.conv1=nn.Conv2d(1,6,3)\n",
        "    self.conv2=nn.Conv2d(6,16,3)\n",
        "    self.fc1=nn.Linear(16*6*6,120)  # 6x6 image dimension\n",
        "    self.fc2=nn.Linear(120,84)\n",
        "    self.fc3=nn.Linear(84,10)\n",
        "\n",
        "  def forward(self,x):\n",
        "    x=F.max_pool2d(F.relu(self.conv1(x)),(2,2))\n",
        "    x=F.max_pool2d(F.relu(self.conv2(x)),2)\n",
        "    x=x.view(-1,self.num_flat_features(x))\n",
        "    x=F.relu(self.fc1(x))\n",
        "    x=F.relu(self.fc2(x))\n",
        "    x=self.fc3(x)\n",
        "    return x\n",
        "  \n",
        "  def num_flat_features(self,x):\n",
        "    size=x.size()[1:]\n",
        "    num_features=1\n",
        "    for s in size:\n",
        "      num_features*=s\n",
        "    return num_features\n",
        "\n",
        "net=Net()\n",
        "net=net.to(device)\n",
        "print(net)\n",
        "\n",
        "input=torch.randn(1,1,32,32,device=device)\n",
        "out=net(input)\n",
        "print(out)\n",
        "net.zero_grad()\n",
        "out.backward(torch.randn(1,10,device=device))"
      ],
      "execution_count": null,
      "outputs": [
        {
          "output_type": "stream",
          "text": [
            "Net(\n",
            "  (conv1): Conv2d(1, 6, kernel_size=(3, 3), stride=(1, 1))\n",
            "  (conv2): Conv2d(6, 16, kernel_size=(3, 3), stride=(1, 1))\n",
            "  (fc1): Linear(in_features=576, out_features=120, bias=True)\n",
            "  (fc2): Linear(in_features=120, out_features=84, bias=True)\n",
            "  (fc3): Linear(in_features=84, out_features=10, bias=True)\n",
            ")\n",
            "tensor([[-0.0482,  0.0443, -0.1417, -0.0351,  0.1563, -0.0015, -0.0325,  0.1210,\n",
            "          0.0991,  0.0425]], device='cuda:0', grad_fn=<AddmmBackward>)\n"
          ],
          "name": "stdout"
        }
      ]
    },
    {
      "cell_type": "code",
      "metadata": {
        "colab": {
          "base_uri": "https://localhost:8080/"
        },
        "id": "qv1DbLvwYJfa",
        "outputId": "ee997db9-e9e7-4fd6-f348-680a94f40af5"
      },
      "source": [
        "output=net(input)\n",
        "target=torch.randn(10,device=device)\n",
        "# print(target.size())  # 10 elements\n",
        "target=target.view(1,-1)\n",
        "# print(target.size())  # 1 row and 10 columns\n",
        "\n",
        "criterion=nn.MSELoss()\n",
        "loss=criterion(output,target)\n",
        "print(loss)\n",
        "\n",
        "# net.zero_grad()\n",
        "# print('conv1.bias.grad before backward')\n",
        "# print(net.conv1.bias.grad)\n",
        "\n",
        "# print('conv1.bias.grad after backward')\n",
        "# print(net.conv1.bias.grad)\n",
        "\n",
        "optimizer=optim.SGD(net.parameters(),lr=0.01)\n",
        "optimizer.zero_grad()\n",
        "loss.backward()\n",
        "optimizer.step()\n",
        "\n",
        "output1=net(input)\n",
        "print(criterion(output1,target))"
      ],
      "execution_count": null,
      "outputs": [
        {
          "output_type": "stream",
          "text": [
            "tensor(1.2766, device='cuda:0', grad_fn=<MseLossBackward>)\n",
            "tensor(1.2487, device='cuda:0', grad_fn=<MseLossBackward>)\n"
          ],
          "name": "stdout"
        }
      ]
    },
    {
      "cell_type": "markdown",
      "metadata": {
        "id": "t5P4-HGCdce3"
      },
      "source": [
        "* Training a Classifier"
      ]
    },
    {
      "cell_type": "code",
      "metadata": {
        "id": "icBvE0qUxJH1"
      },
      "source": [
        "import torch\r\n",
        "import torchvision\r\n",
        "from torchvision import transforms,datasets\r\n",
        "import matplotlib.pyplot as plt\r\n",
        "import numpy as np\r\n",
        "import torch.nn as nn\r\n",
        "import torch.nn.functional as F\r\n",
        "import torch.optim as optim\r\n",
        "\r\n",
        "device='cuda' if torch.cuda.is_available else 'cpu'\r\n",
        "# device='cpu'\r\n",
        "classes=('plane', 'car', 'bird', 'cat','deer', 'dog', 'frog', 'horse', 'ship', 'truck')"
      ],
      "execution_count": null,
      "outputs": []
    },
    {
      "cell_type": "code",
      "metadata": {
        "colab": {
          "base_uri": "https://localhost:8080/",
          "height": 238,
          "referenced_widgets": [
            "fe321c49f0bd4a0fbd26cecdaa276226",
            "92a3983113c54abeb6da73f931e45a4c",
            "7bf27dfd25b643a68980475d1a0a1657",
            "805eba188039466aa3ab93783b8cf435",
            "bd9b2ae809a44f1cb77f46798c98eebc",
            "c81223206b454a1ca075e0b3382783f8",
            "6d858ebe413d47b99152f851f0a76041",
            "fb0dba9b5921493d95f7fb737066f379"
          ]
        },
        "id": "F_AyRNnIYgRl",
        "outputId": "860144a2-376c-4c65-8ee6-11dfa30e244c"
      },
      "source": [
        "transform=transforms.Compose([transforms.ToTensor(),transforms.Normalize((0.5,0.5,0.5),(0.5,0.5,0.5))])\n",
        "\n",
        "trainset=datasets.CIFAR10(root='./cifar10',download=True,train=True,transform=transform)\n",
        "trainloader=torch.utils.data.DataLoader(trainset,batch_size=4,shuffle=True,num_workers=2)\n",
        "\n",
        "testset=datasets.CIFAR10(root='./cifar10',download=False,train=False,transform=transform)\n",
        "testloader=torch.utils.data.DataLoader(testset,batch_size=4,shuffle=True,num_workers=2)\n",
        "\n",
        "def imshow(img):\n",
        "  img=img/2+0.5\n",
        "  img_nmp=img.numpy()\n",
        "  plt.imshow(np.transpose(img_nmp,(1,2,0)))\n",
        "  plt.show()\n",
        "\n",
        "dataiter=iter(trainloader)\n",
        "images,labels=dataiter.next()\n",
        "\n",
        "# images=images.to(device)\n",
        "# labesl=labels.to(device)\n",
        "\n",
        "imshow(torchvision.utils.make_grid(images))\n",
        "print(' '.join(classes[labels[j]] for j in range(4)))"
      ],
      "execution_count": null,
      "outputs": [
        {
          "output_type": "stream",
          "text": [
            "Downloading https://www.cs.toronto.edu/~kriz/cifar-10-python.tar.gz to ./cifar10/cifar-10-python.tar.gz\n"
          ],
          "name": "stdout"
        },
        {
          "output_type": "display_data",
          "data": {
            "application/vnd.jupyter.widget-view+json": {
              "model_id": "fe321c49f0bd4a0fbd26cecdaa276226",
              "version_minor": 0,
              "version_major": 2
            },
            "text/plain": [
              "HBox(children=(FloatProgress(value=1.0, bar_style='info', max=1.0), HTML(value='')))"
            ]
          },
          "metadata": {
            "tags": []
          }
        },
        {
          "output_type": "stream",
          "text": [
            "Extracting ./cifar10/cifar-10-python.tar.gz to ./cifar10\n",
            "\n"
          ],
          "name": "stdout"
        },
        {
          "output_type": "display_data",
          "data": {
            "image/png": "[encoded data removed]",
            "text/plain": [
              "<Figure size 432x288 with 1 Axes>"
            ]
          },
          "metadata": {
            "tags": [],
            "needs_background": "light"
          }
        },
        {
          "output_type": "stream",
          "text": [
            "truck truck bird car\n"
          ],
          "name": "stdout"
        }
      ]
    },
    {
      "cell_type": "code",
      "metadata": {
        "id": "o6NCdwicMT9L"
      },
      "source": [
        "class Net(nn.Module):\r\n",
        "  def __init__(self):\r\n",
        "    super(Net,self).__init__()\r\n",
        "    self.conv1=nn.Conv2d(3,6,5)\r\n",
        "    self.pool=nn.MaxPool2d(2,2)\r\n",
        "    self.conv2=nn.Conv2d(6,16,5)\r\n",
        "    self.fc1=nn.Linear(16*5*5,120)\r\n",
        "    self.fc2=nn.Linear(120,84)\r\n",
        "    self.fc3=nn.Linear(84,10)\r\n",
        "\r\n",
        "  def forward(self,x):\r\n",
        "    x=self.pool(F.relu(self.conv1(x)))\r\n",
        "    x=self.pool(F.relu(self.conv2(x)))\r\n",
        "    x=x.view(-1,16*5*5)\r\n",
        "    x=F.relu(self.fc1(x))\r\n",
        "    x=F.relu(self.fc2(x))\r\n",
        "    x=self.fc3(x)\r\n",
        "    return x\r\n",
        "\r\n",
        "net=Net()\r\n",
        "net=net.to(device)\r\n",
        "criterion=nn.CrossEntropyLoss()\r\n",
        "optimizer=optim.SGD(net.parameters(),lr=0.001,momentum=0.9)"
      ],
      "execution_count": null,
      "outputs": []
    },
    {
      "cell_type": "code",
      "metadata": {
        "id": "kpd-OqI6lBqH",
        "colab": {
          "base_uri": "https://localhost:8080/"
        },
        "outputId": "5d674698-aec5-4f72-f5a2-7a3dff59fdff"
      },
      "source": [
        "for epochs in range(8):\n",
        "  running_loss=0.0\n",
        "  for i,data in enumerate(trainloader,0):\n",
        "    inputs,labels=data\n",
        "    optimizer.zero_grad()\n",
        "    inputs=inputs.to(device)\n",
        "    labels=labels.to(device)\n",
        "    outputs=net(inputs)\n",
        "    loss=criterion(outputs,labels)\n",
        "    loss.backward()\n",
        "\n",
        "    optimizer.step()\n",
        "    running_loss+=loss.item()\n",
        "    if i%2000==1999:\n",
        "      print(f'Loss is {running_loss/2000}')\n",
        "      running_loss=0.0\n",
        "print('Finished training')\n"
      ],
      "execution_count": null,
      "outputs": [
        {
          "output_type": "stream",
          "text": [
            "Loss is 2.1829075321555136\n",
            "Loss is 1.8031784121096135\n",
            "Loss is 1.6238459177315234\n",
            "Loss is 1.5664938284009695\n",
            "Loss is 1.5127764622420072\n",
            "Loss is 1.4685316432714461\n",
            "Loss is 1.3979686810821295\n",
            "Loss is 1.3752880485430359\n",
            "Loss is 1.3537201823815703\n",
            "Loss is 1.320145078636706\n",
            "Loss is 1.3120820180997252\n",
            "Loss is 1.315024321846664\n",
            "Loss is 1.231233118928969\n",
            "Loss is 1.225360662829131\n",
            "Loss is 1.2152186825796962\n",
            "Loss is 1.2060810121558607\n",
            "Loss is 1.2076134617831558\n",
            "Loss is 1.1871489789821208\n",
            "Loss is 1.1245033725127578\n",
            "Loss is 1.1394727194160224\n",
            "Loss is 1.144341804679483\n",
            "Loss is 1.1233951173489913\n",
            "Loss is 1.1164033962767572\n",
            "Loss is 1.1313007814618758\n",
            "Loss is 1.031174946639687\n",
            "Loss is 1.076779357713647\n",
            "Loss is 1.066764847235754\n",
            "Loss is 1.0528703212179245\n",
            "Loss is 1.0612106677512638\n",
            "Loss is 1.0813033544118515\n",
            "Loss is 0.9888694425062277\n",
            "Loss is 0.9956037751189433\n",
            "Loss is 0.9993648596778512\n",
            "Loss is 1.0223792004501446\n",
            "Loss is 1.0119432468358427\n",
            "Loss is 1.0050370311043226\n",
            "Loss is 0.9247446305966005\n",
            "Loss is 0.9446027429169044\n",
            "Loss is 0.9561437538042664\n",
            "Loss is 0.9861353470096365\n",
            "Loss is 0.9880915917395614\n",
            "Loss is 0.95610832079791\n",
            "Loss is 0.8735231483504177\n",
            "Loss is 0.9065279000764712\n",
            "Loss is 0.9322947386300657\n",
            "Loss is 0.9289009650456719\n",
            "Loss is 0.9175987293254584\n",
            "Loss is 0.9431185791706667\n",
            "Finished training\n"
          ],
          "name": "stdout"
        }
      ]
    },
    {
      "cell_type": "code",
      "metadata": {
        "id": "-kIJtSFmWqzY"
      },
      "source": [
        "path='/content/drive/MyDrive/Colab Notebooks/cifar10.pth'"
      ],
      "execution_count": null,
      "outputs": []
    },
    {
      "cell_type": "code",
      "metadata": {
        "id": "uwpB3oAcxnQB",
        "colab": {
          "base_uri": "https://localhost:8080/"
        },
        "outputId": "cd0e6aa6-2a7a-41a9-db65-9eb03db2f306"
      },
      "source": [
        "for param_keys in net.state_dict():\r\n",
        "  print(f'{param_keys} : {net.state_dict()[param_keys].size()}')\r\n",
        "\r\n",
        "print('\\n')\r\n",
        "\r\n",
        "for op_keys in optimizer.state_dict():\r\n",
        "  print(f'{op_keys} : {optimizer.state_dict()[op_keys]}')\r\n",
        "\r\n",
        "print(f'\\nThe Google Drive directory path to the file is : {path}')\r\n"
      ],
      "execution_count": null,
      "outputs": [
        {
          "output_type": "stream",
          "text": [
            "conv1.weight : torch.Size([6, 3, 5, 5])\n",
            "conv1.bias : torch.Size([6])\n",
            "conv2.weight : torch.Size([16, 6, 5, 5])\n",
            "conv2.bias : torch.Size([16])\n",
            "fc1.weight : torch.Size([120, 400])\n",
            "fc1.bias : torch.Size([120])\n",
            "fc2.weight : torch.Size([84, 120])\n",
            "fc2.bias : torch.Size([84])\n",
            "fc3.weight : torch.Size([10, 84])\n",
            "fc3.bias : torch.Size([10])\n",
            "\n",
            "\n",
            "state : {0: {'momentum_buffer': tensor([[[[-1.9869e-01, -2.0694e-01, -4.0017e-01, -5.8308e-01, -6.3472e-01],\n",
            "          [-1.5447e-01, -1.1322e-01, -2.9056e-01, -4.9310e-01, -5.9772e-01],\n",
            "          [-9.4689e-02, -6.0346e-03, -1.2316e-01, -3.9466e-01, -5.3410e-01],\n",
            "          [-1.0612e-01, -3.1680e-02, -6.6493e-02, -2.4073e-01, -3.7323e-01],\n",
            "          [-6.3078e-02, -3.1360e-02, -6.8829e-02, -2.0296e-01, -2.0282e-01]],\n",
            "\n",
            "         [[-3.0524e-01, -3.7051e-01, -4.7292e-01, -5.5975e-01, -6.2152e-01],\n",
            "          [-2.3881e-01, -2.3640e-01, -3.6966e-01, -4.8265e-01, -5.9994e-01],\n",
            "          [-1.7363e-01, -5.9523e-02, -1.9311e-01, -4.2382e-01, -5.2519e-01],\n",
            "          [-1.4400e-01, -3.1695e-02, -8.0560e-02, -2.6703e-01, -3.2949e-01],\n",
            "          [-8.8157e-02, -3.6217e-02, -3.8276e-02, -2.0890e-01, -1.5994e-01]],\n",
            "\n",
            "         [[-3.4294e-01, -3.7349e-01, -4.5935e-01, -5.9132e-01, -7.2581e-01],\n",
            "          [-3.1121e-01, -2.5287e-01, -3.5731e-01, -4.9772e-01, -6.6422e-01],\n",
            "          [-3.1312e-01, -1.9205e-01, -2.9528e-01, -5.0438e-01, -6.2354e-01],\n",
            "          [-3.4115e-01, -2.7106e-01, -2.9702e-01, -4.5705e-01, -5.0677e-01],\n",
            "          [-2.8688e-01, -2.6231e-01, -2.6115e-01, -4.0230e-01, -3.5256e-01]]],\n",
            "\n",
            "\n",
            "        [[[ 2.9530e-01,  2.9001e-01,  2.4279e-01,  1.5948e-01,  7.0851e-02],\n",
            "          [ 2.8077e-01,  2.9478e-01,  2.0978e-01,  9.7906e-02, -1.9457e-02],\n",
            "          [ 2.4995e-01,  2.6150e-01,  1.0253e-01, -4.4460e-02, -1.5219e-01],\n",
            "          [ 1.9335e-01,  1.5108e-01, -5.0686e-02, -2.1123e-01, -3.0781e-01],\n",
            "          [ 1.3579e-01,  7.0322e-02, -1.5639e-01, -2.4745e-01, -3.2919e-01]],\n",
            "\n",
            "         [[ 1.7778e-01,  2.0831e-01,  1.6790e-01,  1.0673e-01, -8.2208e-03],\n",
            "          [ 1.6637e-01,  2.2101e-01,  1.4552e-01,  4.0486e-02, -7.7678e-02],\n",
            "          [ 1.7074e-01,  1.9600e-01,  2.5491e-02, -9.4029e-02, -1.8780e-01],\n",
            "          [ 1.0764e-01,  8.3203e-02, -9.3195e-02, -2.3491e-01, -3.5200e-01],\n",
            "          [ 4.1049e-02,  3.0866e-02, -1.7346e-01, -2.5532e-01, -3.4804e-01]],\n",
            "\n",
            "         [[ 1.0840e-01,  1.4557e-01,  1.0086e-01,  2.5056e-02, -7.3228e-02],\n",
            "          [ 7.1431e-02,  1.2583e-01,  5.0825e-02, -4.6034e-02, -1.2447e-01],\n",
            "          [ 3.4355e-02,  5.8157e-02, -8.5910e-02, -1.6891e-01, -2.3494e-01],\n",
            "          [-4.7476e-02, -5.7766e-02, -1.9174e-01, -2.8284e-01, -3.7437e-01],\n",
            "          [-6.6559e-02, -4.8077e-02, -2.1395e-01, -2.6095e-01, -3.3216e-01]]],\n",
            "\n",
            "\n",
            "        [[[ 4.2006e-01,  3.1620e-01,  2.0920e-01,  2.4227e-01,  1.4740e-01],\n",
            "          [ 3.8536e-01,  2.9281e-01,  1.3898e-01,  1.2239e-01,  3.5276e-02],\n",
            "          [ 2.9464e-01,  1.7402e-01,  1.1464e-02, -8.7010e-03, -6.8082e-02],\n",
            "          [ 1.1319e-01,  5.4190e-02, -5.8377e-02, -9.1343e-02, -1.6560e-01],\n",
            "          [ 1.7880e-01,  7.6729e-02, -5.9157e-02, -1.4105e-01, -2.5459e-01]],\n",
            "\n",
            "         [[ 5.0868e-01,  4.0481e-01,  2.5842e-01,  2.7723e-01,  1.7913e-01],\n",
            "          [ 4.7826e-01,  3.6066e-01,  1.6999e-01,  1.5532e-01,  9.4395e-02],\n",
            "          [ 3.7433e-01,  2.2753e-01,  4.6510e-02,  5.2448e-02,  3.1484e-02],\n",
            "          [ 1.8005e-01,  9.2266e-02, -8.9424e-03, -3.1291e-02, -5.4469e-02],\n",
            "          [ 2.2198e-01,  1.1956e-01, -1.3101e-02, -7.9706e-02, -1.3523e-01]],\n",
            "\n",
            "         [[ 4.7366e-01,  3.7730e-01,  2.7053e-01,  3.3975e-01,  2.3381e-01],\n",
            "          [ 4.4365e-01,  3.3540e-01,  1.7187e-01,  1.9050e-01,  1.2765e-01],\n",
            "          [ 3.3455e-01,  1.8980e-01,  3.3170e-02,  5.5323e-02,  3.5569e-02],\n",
            "          [ 1.2957e-01,  4.9467e-02, -4.4094e-02, -6.0156e-02, -6.8713e-02],\n",
            "          [ 1.8105e-01,  7.5374e-02, -6.3081e-02, -1.2660e-01, -1.5942e-01]]],\n",
            "\n",
            "\n",
            "        [[[ 1.1741e-01, -7.8840e-02, -3.0220e-01, -3.7686e-01, -4.2206e-01],\n",
            "          [ 1.8165e-01,  3.0229e-02, -1.9032e-01, -3.0701e-01, -3.5288e-01],\n",
            "          [ 7.6779e-02, -3.6519e-03, -1.1479e-01, -2.8960e-01, -3.6573e-01],\n",
            "          [ 4.1826e-02, -1.1178e-02, -1.1844e-01, -3.1420e-01, -3.9456e-01],\n",
            "          [ 4.0830e-03, -6.8852e-02, -1.2863e-01, -2.1983e-01, -3.2234e-01]],\n",
            "\n",
            "         [[ 1.3240e-01,  2.1592e-02, -2.1333e-01, -3.5201e-01, -4.6706e-01],\n",
            "          [ 1.7079e-01,  9.7258e-02, -1.2693e-01, -2.9721e-01, -3.7790e-01],\n",
            "          [ 4.5089e-02,  2.5930e-04, -7.7295e-02, -2.4449e-01, -3.3961e-01],\n",
            "          [ 4.5266e-02,  8.4302e-04, -8.6544e-02, -2.6700e-01, -3.5420e-01],\n",
            "          [ 2.4557e-02, -3.5298e-02, -9.9889e-02, -1.8638e-01, -2.7308e-01]],\n",
            "\n",
            "         [[ 7.2116e-02,  9.3461e-03, -1.7921e-01, -2.9455e-01, -3.8813e-01],\n",
            "          [ 1.2381e-01,  7.2440e-02, -1.0240e-01, -2.3683e-01, -3.0643e-01],\n",
            "          [ 3.5332e-02, -3.3412e-03, -4.1789e-02, -1.6042e-01, -2.4834e-01],\n",
            "          [ 5.0821e-02,  1.4080e-02, -4.5915e-02, -1.8323e-01, -2.4537e-01],\n",
            "          [ 4.8369e-02, -3.1396e-02, -9.8644e-02, -1.5085e-01, -1.9028e-01]]],\n",
            "\n",
            "\n",
            "        [[[ 3.3331e-01,  2.9994e-01,  1.4069e-01,  2.4394e-01,  2.8793e-01],\n",
            "          [ 2.4719e-01,  3.1955e-01,  3.0985e-01,  2.2833e-01,  2.2336e-01],\n",
            "          [ 3.3416e-01,  4.1336e-01,  4.9802e-01,  3.0989e-01,  2.4186e-01],\n",
            "          [ 3.9839e-01,  5.0275e-01,  5.2637e-01,  4.1602e-01,  3.7899e-01],\n",
            "          [ 4.2024e-01,  4.8892e-01,  5.2369e-01,  4.8772e-01,  4.4437e-01]],\n",
            "\n",
            "         [[ 1.7533e-01,  7.0751e-02,  2.7796e-02,  1.8794e-01,  2.4151e-01],\n",
            "          [ 1.1952e-01,  1.2787e-01,  2.0732e-01,  1.7408e-01,  1.8163e-01],\n",
            "          [ 2.3899e-01,  2.9363e-01,  3.9022e-01,  2.3658e-01,  1.9747e-01],\n",
            "          [ 3.4298e-01,  4.4553e-01,  4.3237e-01,  3.1379e-01,  2.8298e-01],\n",
            "          [ 4.1172e-01,  4.6389e-01,  4.6615e-01,  4.2258e-01,  3.3671e-01]],\n",
            "\n",
            "         [[-5.3527e-02, -1.3293e-01, -1.8015e-01, -5.7025e-02, -1.2811e-02],\n",
            "          [-1.1652e-01, -8.1189e-02, -3.0473e-02, -8.4924e-02, -5.9095e-02],\n",
            "          [ 1.7917e-03,  4.5280e-02,  1.1489e-01, -4.4458e-02, -3.4714e-02],\n",
            "          [ 1.3250e-01,  2.0053e-01,  1.6249e-01,  2.3858e-02,  3.6844e-02],\n",
            "          [ 2.4963e-01,  2.6098e-01,  2.1903e-01,  1.6047e-01,  1.0543e-01]]],\n",
            "\n",
            "\n",
            "        [[[-9.5637e-02, -1.2368e-01, -1.3429e-01, -1.3620e-01, -1.3159e-01],\n",
            "          [-1.6408e-01, -4.9397e-02, -1.3613e-02, -8.1485e-02, -9.2130e-02],\n",
            "          [-1.8925e-01, -1.0516e-01, -1.4006e-01, -1.6467e-01, -1.4220e-01],\n",
            "          [-3.3033e-01, -3.2635e-01, -4.0655e-01, -4.0646e-01, -3.1762e-01],\n",
            "          [-3.2348e-01, -3.7732e-01, -5.5318e-01, -5.6097e-01, -3.6214e-01]],\n",
            "\n",
            "         [[-6.0071e-02, -9.5541e-02, -1.6677e-01, -1.8952e-01, -2.2901e-01],\n",
            "          [-1.5242e-01, -2.5810e-02, -2.6451e-02, -9.3247e-02, -1.3817e-01],\n",
            "          [-1.4430e-01, -7.7069e-02, -1.1786e-01, -1.7828e-01, -1.3428e-01],\n",
            "          [-2.6004e-01, -2.9671e-01, -4.2487e-01, -4.1142e-01, -2.3890e-01],\n",
            "          [-2.8886e-01, -3.7056e-01, -5.5716e-01, -4.9064e-01, -2.2164e-01]],\n",
            "\n",
            "         [[-3.4479e-02, -1.2306e-02, -4.1684e-02, -4.8707e-02, -1.0129e-01],\n",
            "          [-1.2747e-01,  4.1285e-02,  7.4620e-02,  2.5489e-02, -2.0486e-02],\n",
            "          [-8.5759e-02,  1.1474e-02,  4.3434e-04, -6.0130e-02, -3.3977e-02],\n",
            "          [-1.5150e-01, -1.4450e-01, -2.3858e-01, -2.5122e-01, -1.3529e-01],\n",
            "          [-1.2160e-01, -1.5829e-01, -3.2060e-01, -2.7889e-01, -9.6399e-02]]]],\n",
            "       device='cuda:0')}, 1: {'momentum_buffer': tensor([ 0.1378,  0.2334,  0.2351, -0.1487,  0.2779, -0.7963], device='cuda:0')}, 2: {'momentum_buffer': tensor([[[[ 1.5945e-01,  1.2913e-01,  9.5464e-02,  1.5259e-01,  1.1552e-01],\n",
            "          [ 4.0303e-02,  1.5648e-01,  4.6446e-02,  1.0363e-01,  1.3884e-01],\n",
            "          [ 9.6085e-02,  1.2438e-01,  6.6511e-02,  6.2033e-02,  1.4811e-01],\n",
            "          [ 6.5539e-02,  1.2136e-01,  1.3132e-01,  1.1002e-01,  1.4013e-02],\n",
            "          [ 9.7427e-02,  1.0702e-01,  1.1612e-01,  5.4496e-02,  5.8269e-02]],\n",
            "\n",
            "         [[ 4.3652e-02,  3.3697e-02,  5.3140e-03,  5.2044e-02,  7.0066e-02],\n",
            "          [ 3.9519e-02,  7.0766e-03, -3.1922e-02,  6.1329e-02,  9.1958e-02],\n",
            "          [-2.0308e-02, -2.1906e-02,  1.8694e-02,  3.7514e-02,  7.8115e-02],\n",
            "          [ 4.1359e-02,  5.2532e-02, -1.3156e-02,  2.9776e-02,  1.0746e-01],\n",
            "          [ 1.0902e-01,  1.3531e-01,  9.8518e-02,  1.5931e-01,  1.9960e-01]],\n",
            "\n",
            "         [[ 2.1787e-03, -3.4110e-02, -6.7877e-02,  7.3296e-03,  2.0471e-02],\n",
            "          [ 6.2647e-03, -5.3023e-02, -8.2938e-02, -1.0498e-02,  3.7233e-02],\n",
            "          [ 3.1763e-02, -3.0071e-02, -7.1371e-02, -2.6194e-02,  3.4386e-02],\n",
            "          [ 3.6657e-02,  5.6610e-03, -5.5007e-02, -1.9878e-02,  6.8776e-03],\n",
            "          [ 7.7316e-02,  6.7294e-02,  4.0212e-03, -1.4276e-03, -1.7646e-02]],\n",
            "\n",
            "         [[ 6.6350e-02,  4.4666e-02,  5.5361e-02,  1.2462e-02, -2.3553e-02],\n",
            "          [-6.3351e-02, -2.5868e-02,  6.1386e-02,  1.2370e-01,  1.1512e-01],\n",
            "          [-6.3344e-02, -2.9729e-02,  1.4815e-02,  5.3878e-02,  8.9373e-02],\n",
            "          [ 1.4508e-01,  7.7697e-02,  4.8741e-02,  4.2196e-03,  3.3917e-02],\n",
            "          [ 2.7355e-01,  2.0874e-01, -9.9687e-03, -6.3662e-02, -3.8515e-02]],\n",
            "\n",
            "         [[-1.1142e-01,  9.0956e-02, -9.1253e-02,  9.2729e-02,  1.1441e-01],\n",
            "          [-1.1393e-01,  1.0320e-01,  1.3219e-02,  8.4463e-02,  7.5749e-02],\n",
            "          [-6.4766e-02,  1.6814e-01,  1.5702e-01,  9.4016e-02,  5.4818e-02],\n",
            "          [ 5.2617e-02,  2.6570e-01,  1.7988e-01,  1.6381e-01, -2.3717e-02],\n",
            "          [ 1.6532e-01,  1.3578e-01,  2.4290e-01,  1.0540e-01, -7.7653e-02]],\n",
            "\n",
            "         [[ 9.1307e-02,  8.8670e-02, -1.6435e-03,  5.6263e-02,  1.2296e-01],\n",
            "          [ 1.3800e-01,  9.7141e-02,  1.9871e-01,  4.2596e-02,  4.1816e-02],\n",
            "          [ 6.9513e-02,  2.6954e-02,  1.6180e-01,  1.6068e-01,  1.2707e-01],\n",
            "          [ 8.8280e-03,  3.3299e-02,  9.0167e-02,  2.7426e-01,  2.3777e-01],\n",
            "          [ 4.7659e-02,  3.5985e-02,  1.7167e-01,  1.2466e-01,  1.0151e-01]]],\n",
            "\n",
            "\n",
            "        [[[ 6.9908e-02,  6.3075e-02, -3.5134e-03,  1.4284e-01,  9.0021e-02],\n",
            "          [ 2.8377e-02,  6.5087e-02,  1.2496e-01,  1.3167e-01,  1.9113e-01],\n",
            "          [ 4.6835e-02,  5.4342e-02,  9.2491e-02,  8.2519e-02,  9.5923e-03],\n",
            "          [ 4.5448e-02,  1.1133e-02,  4.6863e-02,  5.0122e-02,  6.2774e-02],\n",
            "          [-1.0844e-01,  2.1824e-03,  1.9309e-02, -1.0471e-01,  3.3740e-03]],\n",
            "\n",
            "         [[ 4.5371e-02, -3.9365e-03, -5.7565e-02, -2.1240e-02, -9.8983e-03],\n",
            "          [ 8.8079e-02,  8.7502e-02,  9.4715e-02,  1.2796e-01,  1.2066e-01],\n",
            "          [-2.1693e-02, -2.6870e-02,  4.6913e-02,  1.6100e-01,  1.0941e-01],\n",
            "          [-8.1628e-02, -2.9884e-02, -3.0059e-02, -5.5230e-02,  8.4018e-03],\n",
            "          [ 3.7826e-02,  1.3342e-01,  5.5653e-03,  4.4848e-02,  9.6493e-02]],\n",
            "\n",
            "         [[-2.4194e-02, -3.9104e-02, -7.7784e-02,  2.2249e-02,  3.9595e-02],\n",
            "          [ 5.0288e-03, -2.8798e-02, -9.0092e-02,  1.7853e-02,  4.1127e-02],\n",
            "          [-8.3917e-03,  3.0546e-03, -7.2490e-02, -4.2352e-02,  2.8832e-02],\n",
            "          [ 4.1794e-02,  5.7019e-02, -5.3862e-02, -5.1491e-02,  1.8518e-02],\n",
            "          [ 7.9187e-02,  4.5094e-02, -5.1902e-02, -4.8750e-02, -3.1211e-02]],\n",
            "\n",
            "         [[-2.1584e-01, -1.2683e-01, -3.7858e-02,  1.0052e-03, -3.4893e-02],\n",
            "          [-5.6375e-02, -9.5849e-02, -1.1543e-01, -1.4483e-02, -1.2336e-01],\n",
            "          [-5.2658e-02, -1.3462e-01, -6.0628e-02, -1.5876e-04,  1.0517e-01],\n",
            "          [-4.2749e-02, -1.5750e-01, -1.0766e-01, -5.3256e-02, -1.1059e-01],\n",
            "          [-1.0061e-01, -1.8054e-01, -7.7414e-02,  4.6321e-02,  6.6933e-02]],\n",
            "\n",
            "         [[ 1.8293e-01,  2.7477e-02, -2.9572e-01,  3.2002e-01,  2.4615e-01],\n",
            "          [ 1.0335e-01,  1.8253e-01, -1.0468e-01, -1.7039e-03,  4.0779e-01],\n",
            "          [ 1.0834e-01,  3.7119e-01, -1.4560e-01, -6.0919e-02,  2.7478e-01],\n",
            "          [ 2.1241e-01,  3.1292e-01, -2.4258e-01, -1.1272e-01,  1.6798e-01],\n",
            "          [ 2.1426e-01,  1.9839e-01, -1.4443e-01, -9.2922e-02, -2.2605e-02]],\n",
            "\n",
            "         [[ 2.2834e-01,  2.2221e-01,  4.0728e-03, -2.0369e-01,  6.1865e-02],\n",
            "          [ 1.6141e-01,  1.8825e-01,  1.7839e-01, -1.1862e-01,  5.2978e-02],\n",
            "          [ 9.5686e-02,  1.0776e-01,  1.8356e-01,  1.3191e-01, -8.6423e-02],\n",
            "          [ 1.8720e-01,  7.4590e-02,  1.7774e-01,  1.4936e-01, -7.2676e-03],\n",
            "          [-1.3119e-01, -2.2912e-01,  8.3935e-03,  2.9519e-02, -1.1874e-01]]],\n",
            "\n",
            "\n",
            "        [[[ 4.8607e-02,  1.3432e-01,  1.6165e-01,  1.4246e-01,  1.2633e-01],\n",
            "          [ 1.1691e-01,  1.7380e-01,  2.5082e-01,  1.8626e-01,  2.0418e-01],\n",
            "          [ 2.0956e-01,  2.0429e-01,  2.9258e-01,  2.6611e-01,  2.7878e-01],\n",
            "          [ 1.4386e-01,  2.7344e-01,  2.6761e-01,  2.6565e-01,  2.2864e-01],\n",
            "          [ 1.5500e-01,  2.7516e-01,  2.7957e-01,  2.3947e-01,  1.1404e-01]],\n",
            "\n",
            "         [[ 1.0434e-02,  5.3819e-02,  6.4619e-02,  7.7475e-02,  1.1639e-01],\n",
            "          [-3.2756e-02,  2.6550e-02,  6.2302e-02,  1.2126e-01,  7.5674e-02],\n",
            "          [ 4.3475e-02,  6.7757e-02,  8.3907e-02,  1.0083e-01,  1.3663e-01],\n",
            "          [-2.2796e-03,  5.8482e-03,  1.6191e-01,  1.8317e-01,  2.0578e-01],\n",
            "          [-1.6955e-01, -1.6717e-01, -6.2212e-02,  2.6940e-02,  1.9766e-01]],\n",
            "\n",
            "         [[ 2.7386e-03,  2.7362e-02,  5.7154e-02,  8.6760e-02,  1.1936e-01],\n",
            "          [-2.5700e-02, -2.1698e-02, -1.5561e-03, -1.5586e-02,  3.3069e-02],\n",
            "          [ 3.4942e-02, -1.4886e-02, -4.0412e-02, -3.6294e-02,  1.3998e-02],\n",
            "          [ 5.4970e-03, -1.5950e-03, -3.3358e-02, -5.9490e-02, -4.5381e-03],\n",
            "          [ 7.5565e-03,  9.6837e-03,  9.4940e-03,  4.4003e-02,  5.1955e-02]],\n",
            "\n",
            "         [[ 1.6256e-01,  4.4952e-02, -4.7765e-02, -1.9720e-02,  2.8523e-02],\n",
            "          [-7.7667e-02, -3.9897e-02,  2.5907e-02,  6.2901e-02,  1.0121e-01],\n",
            "          [-4.0602e-04, -9.0964e-03,  1.0657e-01,  1.1951e-01,  7.3139e-02],\n",
            "          [ 1.8769e-01,  1.2165e-01,  1.7745e-01,  2.0487e-01,  1.6992e-01],\n",
            "          [-8.4778e-02, -6.1604e-02, -3.2272e-02,  1.4224e-01,  1.5198e-01]],\n",
            "\n",
            "         [[-1.1594e-01, -6.5486e-02,  1.0422e-01,  1.2859e-01,  9.2805e-02],\n",
            "          [ 5.2515e-03, -1.7932e-01,  1.1137e-01,  5.4514e-03,  1.6739e-01],\n",
            "          [ 1.3805e-01, -2.8290e-02,  8.2546e-02, -1.4471e-02,  3.4626e-01],\n",
            "          [ 3.3994e-02,  8.7243e-02,  3.6837e-03,  2.0627e-01,  4.5647e-01],\n",
            "          [-3.1398e-02,  5.6112e-02,  1.0296e-01,  2.8864e-01,  4.0034e-01]],\n",
            "\n",
            "         [[ 4.7053e-01,  4.8818e-01,  4.0337e-01,  2.3282e-01,  2.0700e-01],\n",
            "          [ 2.7679e-01,  2.8081e-01,  2.5776e-01,  1.1209e-01, -1.0407e-02],\n",
            "          [-1.5485e-01,  7.4432e-02,  1.5542e-02,  1.0799e-01,  7.4927e-02],\n",
            "          [-4.8023e-02, -8.1332e-03,  2.1138e-02,  2.3864e-01,  2.9922e-01],\n",
            "          [ 2.1290e-01,  1.5084e-01,  2.9088e-01,  2.8313e-01,  3.2283e-01]]],\n",
            "\n",
            "\n",
            "        ...,\n",
            "\n",
            "\n",
            "        [[[ 4.2512e-02,  4.0798e-02, -1.2419e-02,  5.0988e-02,  9.4245e-02],\n",
            "          [ 1.5737e-02,  3.4731e-02,  4.3747e-03, -9.8068e-03,  9.9480e-02],\n",
            "          [ 9.8364e-02, -6.2089e-03,  6.3818e-03, -2.0195e-02,  5.6527e-02],\n",
            "          [ 1.9802e-01,  8.2776e-02,  1.4385e-01,  7.2154e-02,  7.5038e-02],\n",
            "          [ 1.5456e-01,  1.6628e-01,  2.3505e-01,  1.6797e-01,  1.7882e-01]],\n",
            "\n",
            "         [[ 9.4370e-02,  1.9190e-01,  1.3380e-01,  8.6964e-02,  6.2526e-02],\n",
            "          [-9.0242e-03,  6.0238e-02,  6.6440e-02,  6.1143e-02,  6.8539e-02],\n",
            "          [-5.7029e-02, -7.1708e-02,  2.3456e-02, -1.7772e-02, -1.0811e-02],\n",
            "          [ 5.4880e-02,  7.3033e-02, -3.2537e-02, -2.3391e-02,  4.5305e-02],\n",
            "          [ 6.5610e-02,  2.4596e-02, -3.0005e-02,  6.1598e-02,  9.0436e-02]],\n",
            "\n",
            "         [[ 2.3418e-01,  2.0227e-01,  1.1962e-01,  1.0836e-01,  1.0760e-01],\n",
            "          [ 1.5017e-01,  1.4857e-01,  8.7189e-02,  8.1007e-02,  8.8390e-02],\n",
            "          [ 9.3919e-02,  9.3687e-02,  2.4180e-02,  2.1771e-02,  6.0709e-02],\n",
            "          [ 9.5314e-02,  7.9797e-02,  1.2424e-02,  5.6547e-03,  2.6621e-02],\n",
            "          [ 1.3028e-02, -1.4554e-02, -2.8771e-02,  1.6582e-02, -2.8868e-02]],\n",
            "\n",
            "         [[ 3.4412e-03,  5.7979e-02,  7.5978e-02,  9.2767e-02,  1.5161e-01],\n",
            "          [ 7.4646e-02,  4.3447e-02,  2.3075e-02,  2.7359e-02,  5.6077e-02],\n",
            "          [ 1.0530e-01,  7.5924e-02,  6.1115e-02,  8.7839e-02,  9.8749e-02],\n",
            "          [-6.0942e-02, -6.1275e-02, -9.2968e-02, -8.3749e-02, -3.6967e-02],\n",
            "          [ 2.2728e-01,  1.7111e-01,  1.3501e-02,  1.1419e-02, -1.6102e-03]],\n",
            "\n",
            "         [[ 2.6257e-01,  1.6945e-01,  5.6100e-03,  1.4819e-02,  1.2059e-01],\n",
            "          [ 2.6541e-01,  1.6395e-01, -4.6743e-02, -2.6857e-02,  7.1267e-02],\n",
            "          [ 2.5443e-01,  1.6046e-01, -6.0188e-02, -7.9652e-02, -2.0670e-02],\n",
            "          [ 2.5033e-01,  1.4513e-01, -5.6185e-02,  4.3484e-02, -6.3272e-02],\n",
            "          [ 2.1045e-01,  1.2107e-01,  3.0866e-02,  1.0717e-01, -1.1522e-01]],\n",
            "\n",
            "         [[ 1.6257e-01,  5.3816e-02, -2.8733e-02, -3.2945e-02, -1.9087e-02],\n",
            "          [-5.1800e-03, -3.7491e-02,  7.5809e-02, -9.9493e-02, -1.4506e-01],\n",
            "          [ 2.0509e-02,  1.3932e-01,  1.8722e-02,  5.3463e-03, -7.7955e-02],\n",
            "          [ 1.0238e-01, -1.0903e-02,  1.2124e-02,  7.4349e-02,  2.2605e-02],\n",
            "          [ 2.0277e-02, -3.0433e-02,  2.3877e-01,  1.3837e-01,  8.9820e-02]]],\n",
            "\n",
            "\n",
            "        [[[-2.0503e-01, -1.9960e-01, -1.7219e-01, -6.3228e-02, -1.1028e-01],\n",
            "          [-2.1615e-01, -4.1486e-02, -2.4782e-01, -4.1215e-02, -1.0049e-01],\n",
            "          [-1.5338e-01, -5.2268e-02, -1.4529e-01, -1.7096e-02, -5.5486e-02],\n",
            "          [-1.4832e-01, -5.6941e-02, -3.5413e-02, -4.7060e-02, -9.7298e-02],\n",
            "          [-7.7051e-02, -8.0769e-02, -1.5683e-01, -6.2230e-02, -1.8015e-01]],\n",
            "\n",
            "         [[-1.8750e-02, -6.0960e-02, -1.1784e-01, -1.0246e-01, -3.2098e-02],\n",
            "          [-1.0573e-01, -1.7167e-01, -1.3827e-01, -1.1373e-01, -9.1217e-02],\n",
            "          [-9.5536e-02, -8.6865e-03, -3.0646e-02, -4.6506e-02, -2.4660e-02],\n",
            "          [-1.1062e-01, -9.8965e-02, -1.4444e-01, -6.3626e-02, -3.6005e-02],\n",
            "          [-5.1241e-02,  7.7904e-03,  2.3041e-02,  1.7405e-02, -5.5161e-02]],\n",
            "\n",
            "         [[-4.7631e-02, -6.0537e-02, -1.0117e-01, -8.1756e-02, -5.4998e-04],\n",
            "          [-6.1274e-02, -8.2560e-02, -1.1683e-01, -1.1208e-01, -3.4127e-03],\n",
            "          [-4.3956e-02, -8.8487e-03, -2.4915e-02, -2.8300e-02,  6.1411e-02],\n",
            "          [-2.5826e-02,  3.2860e-02,  3.5511e-02,  2.5212e-02,  8.9657e-02],\n",
            "          [ 3.2187e-02,  4.1589e-02,  7.0168e-02,  2.9895e-02,  8.3859e-02]],\n",
            "\n",
            "         [[-6.3490e-02, -1.7139e-02, -6.1302e-02, -7.1402e-02,  6.7138e-03],\n",
            "          [ 2.6237e-02, -4.5502e-02, -8.6483e-02, -7.0397e-03, -1.3675e-02],\n",
            "          [-9.3432e-02, -1.4711e-01, -1.3184e-01, -2.4229e-02, -1.6884e-02],\n",
            "          [ 6.8751e-03, -1.0522e-02, -1.1515e-01, -1.5213e-01, -5.4548e-02],\n",
            "          [-7.0951e-02, -3.2510e-02, -1.4976e-02, -2.5946e-02, -1.7565e-03]],\n",
            "\n",
            "         [[-2.9525e-01, -1.7867e-01, -2.4061e-01, -1.6112e-01,  1.9932e-01],\n",
            "          [-2.8265e-01, -1.0189e-01, -3.3274e-01, -1.7674e-01,  9.3355e-02],\n",
            "          [-3.1401e-01,  6.7650e-02, -2.9363e-01, -1.6831e-01,  1.7754e-01],\n",
            "          [-3.0097e-01, -6.9727e-02, -2.6063e-02, -1.7485e-01,  1.9396e-01],\n",
            "          [-1.7423e-01, -1.3013e-01,  7.3721e-02, -9.4894e-03,  1.2381e-02]],\n",
            "\n",
            "         [[-3.4205e-02, -1.6307e-01, -1.5336e-01, -1.4175e-01, -1.4037e-01],\n",
            "          [-5.0702e-02, -8.0396e-02, -1.0024e-01, -1.4911e-01, -9.4644e-02],\n",
            "          [ 3.8966e-04, -1.3149e-01, -9.0909e-02, -1.1391e-01, -7.7391e-02],\n",
            "          [-7.4904e-02, -1.1801e-01,  8.2161e-03,  1.0302e-02, -1.3303e-01],\n",
            "          [-2.4832e-01, -3.2180e-01, -2.8614e-01, -2.4959e-01, -2.7484e-01]]],\n",
            "\n",
            "\n",
            "        [[[ 1.6544e-02,  2.1304e-02, -1.1899e-01, -1.2137e-01, -2.3806e-01],\n",
            "          [ 3.3426e-03,  4.3351e-02,  2.6017e-02, -8.2118e-02, -1.4591e-01],\n",
            "          [-1.0195e-02, -4.6078e-02, -4.4066e-02, -4.5317e-02, -1.8980e-01],\n",
            "          [-4.2136e-02, -4.5345e-02, -7.2894e-02, -2.5005e-02, -2.2022e-02],\n",
            "          [-4.5512e-02, -7.8227e-02, -1.2498e-01, -9.9667e-02, -5.0249e-02]],\n",
            "\n",
            "         [[ 5.2632e-02,  2.2258e-02, -1.3570e-02, -5.0787e-02,  3.7937e-03],\n",
            "          [ 5.0149e-03, -7.7700e-04, -1.4065e-02, -8.4134e-02, -1.7459e-01],\n",
            "          [-6.4605e-02, -3.4634e-02, -4.3977e-02, -1.0787e-01, -9.9367e-02],\n",
            "          [-9.7834e-03, -3.7517e-02, -8.4875e-02, -1.9984e-01, -1.5241e-01],\n",
            "          [-6.7542e-02, -3.1006e-03, -3.0238e-02, -7.7124e-02, -5.5578e-02]],\n",
            "\n",
            "         [[-1.5269e-01, -1.8363e-01, -2.3811e-01, -3.0518e-01, -3.5865e-01],\n",
            "          [-1.3540e-01, -5.8039e-02, -8.3419e-02, -1.9838e-01, -2.6556e-01],\n",
            "          [-1.3025e-01, -3.0715e-02,  8.4514e-03, -1.8793e-02, -4.5172e-02],\n",
            "          [-9.5501e-02, -2.8074e-02, -9.7010e-03,  1.0707e-03,  2.6598e-02],\n",
            "          [-4.3305e-02, -7.9472e-03, -1.4438e-03,  5.2088e-03,  5.3379e-02]],\n",
            "\n",
            "         [[ 1.4999e-02, -4.7429e-02, -7.0633e-02, -6.2443e-02, -6.4684e-02],\n",
            "          [ 1.7853e-02,  3.0883e-02, -6.2751e-02, -1.2383e-01, -9.3464e-02],\n",
            "          [-4.0488e-02, -2.8525e-02,  3.1648e-03, -1.0125e-01, -2.0093e-01],\n",
            "          [-4.9451e-02, -1.9507e-02, -1.4659e-02, -5.0320e-02, -6.9741e-02],\n",
            "          [-1.3836e-01, -1.0354e-01, -4.7598e-02, -1.5166e-02, -3.8275e-02]],\n",
            "\n",
            "         [[-2.4673e-02, -4.4677e-02, -4.4243e-02, -3.7449e-01, -5.0814e-01],\n",
            "          [-1.6557e-01, -9.9810e-02,  1.1373e-01, -2.0028e-01, -2.8572e-01],\n",
            "          [-2.6794e-01, -1.5248e-01, -1.2963e-02,  1.3321e-02,  9.3787e-02],\n",
            "          [-1.3625e-01, -2.5608e-01, -3.5308e-01, -1.0166e-01,  9.0080e-02],\n",
            "          [-1.8364e-01, -2.3150e-01, -5.0283e-01, -1.9803e-01,  7.0054e-03]],\n",
            "\n",
            "         [[-1.0009e-01, -1.3841e-02,  1.0134e-01,  1.3747e-01, -2.1718e-02],\n",
            "          [-1.1285e-01, -2.1436e-01, -1.4478e-01,  1.1638e-01,  1.9632e-01],\n",
            "          [-4.6041e-02, -1.1110e-01, -2.2566e-01, -8.2605e-02,  1.1283e-01],\n",
            "          [ 3.7045e-02,  5.4198e-02, -1.9239e-01, -1.5952e-01, -9.7207e-02],\n",
            "          [-6.3162e-02, -9.3864e-02, -9.3851e-02, -1.7410e-01, -2.5997e-01]]]],\n",
            "       device='cuda:0')}, 3: {'momentum_buffer': tensor([ 0.0815,  0.0760,  0.1060,  0.0150, -0.0278, -0.0662,  0.0096, -0.1926,\n",
            "         0.2795, -0.0271, -0.0794, -0.0132,  0.1033,  0.0709, -0.1247, -0.1121],\n",
            "       device='cuda:0')}, 4: {'momentum_buffer': tensor([[ 0.0630,  0.0481,  0.0134,  ...,  0.0720,  0.0902,  0.0243],\n",
            "        [-0.0200, -0.0496, -0.0451,  ..., -0.0010,  0.0484,  0.0236],\n",
            "        [ 0.0352,  0.0883,  0.0500,  ...,  0.0090,  0.2671,  0.0416],\n",
            "        ...,\n",
            "        [ 0.0313,  0.0168,  0.0067,  ...,  0.0223,  0.0401,  0.0171],\n",
            "        [-0.0219, -0.0015, -0.0248,  ..., -0.0591, -0.1001, -0.0197],\n",
            "        [ 0.0080,  0.0067,  0.0037,  ...,  0.0274,  0.0025,  0.0180]],\n",
            "       device='cuda:0')}, 5: {'momentum_buffer': tensor([ 7.3202e-03, -1.0199e-02,  7.5127e-02,  1.4995e-02, -3.1484e-02,\n",
            "        -3.8853e-03, -1.2452e-02,  1.7371e-02, -6.1725e-03, -6.9545e-03,\n",
            "         2.4822e-02, -3.5933e-02, -1.8001e-02, -4.7106e-02, -1.2446e-02,\n",
            "        -5.8523e-03, -1.3761e-02, -1.4092e-02, -1.6349e-02,  1.0016e-02,\n",
            "        -2.0275e-02,  2.0703e-02, -3.0375e-03,  2.4926e-02,  1.2271e-03,\n",
            "        -1.9923e-02,  2.7745e-02,  4.3525e-02, -2.9626e-02,  7.5423e-02,\n",
            "        -2.7030e-02, -2.5059e-02, -1.2180e-02, -4.4649e-02, -1.6736e-02,\n",
            "         1.4423e-02, -3.4416e-02,  3.9864e-02,  6.8263e-02,  4.0791e-06,\n",
            "        -1.2735e-02, -1.0700e-02, -5.6360e-03,  1.1446e-02, -4.8310e-02,\n",
            "         1.5144e-02,  2.1591e-02,  1.1930e-02,  6.0322e-02,  5.5312e-03,\n",
            "        -4.9625e-03,  7.3573e-03,  5.7429e-02,  6.6926e-03,  8.9152e-03,\n",
            "         1.0898e-02,  4.0477e-02, -1.9417e-02, -2.7527e-02, -1.8188e-02,\n",
            "         1.5270e-02, -2.1679e-02, -1.9488e-02, -9.9050e-03, -2.4043e-02,\n",
            "         6.6140e-02, -4.1408e-02,  5.3664e-02,  3.9262e-02,  6.5845e-03,\n",
            "         1.6040e-02, -9.9447e-03, -7.5126e-03, -2.7996e-02, -5.4457e-03,\n",
            "         1.3237e-02,  6.8703e-02,  1.2505e-02,  2.3679e-02, -1.0591e-02,\n",
            "         5.3468e-02,  1.3578e-02,  3.1084e-02, -1.3192e-02,  1.5038e-02,\n",
            "         8.7042e-03, -2.0649e-02,  1.2962e-02,  3.0594e-02, -2.6624e-02,\n",
            "         2.3460e-02, -2.4645e-02,  2.3997e-02,  9.1826e-03,  9.2294e-03,\n",
            "        -4.3621e-03, -1.2649e-02,  1.2651e-03, -4.8047e-02,  1.5404e-02,\n",
            "         3.9962e-02, -3.2297e-02, -4.1530e-03, -9.5413e-03,  4.3175e-02,\n",
            "         1.3661e-02,  2.8584e-02, -1.9852e-03, -8.5227e-03, -1.8846e-02,\n",
            "         2.7027e-02, -1.4714e-02,  1.1831e-02, -3.8821e-03, -6.1637e-03,\n",
            "         3.4000e-02, -9.4027e-03, -9.1955e-05, -1.5643e-02,  5.0934e-04],\n",
            "       device='cuda:0')}, 6: {'momentum_buffer': tensor([[-4.2368e-03,  9.1203e-02,  1.2016e-02,  ..., -1.2071e-01,\n",
            "          2.6123e-03,  8.4106e-03],\n",
            "        [ 3.0593e-03, -1.2884e-02, -5.8329e-02,  ..., -7.3895e-03,\n",
            "         -1.1820e-02, -2.9658e-03],\n",
            "        [-9.4809e-03, -5.9984e-02, -1.1217e-01,  ..., -1.3890e-02,\n",
            "         -5.3027e-02,  1.4429e-02],\n",
            "        ...,\n",
            "        [ 6.5514e-02, -7.8116e-03,  1.0104e-01,  ...,  6.1509e-02,\n",
            "          3.9116e-03,  1.3142e-05],\n",
            "        [-5.2814e-03,  3.5874e-03,  3.3882e-02,  ...,  1.3722e-01,\n",
            "         -2.4728e-03, -1.5730e-03],\n",
            "        [ 3.5328e-02, -6.2365e-02,  5.2436e-03,  ..., -5.4243e-03,\n",
            "         -5.9641e-03, -9.6448e-03]], device='cuda:0')}, 7: {'momentum_buffer': tensor([ 6.5404e-02, -5.0081e-02,  1.7731e-02,  3.4951e-02, -2.5951e-02,\n",
            "         1.7914e-02, -9.7778e-03, -9.5744e-02, -6.4871e-03, -3.5306e-02,\n",
            "        -1.7352e-02, -4.7190e-02, -4.3320e-03,  2.4396e-02, -8.8952e-02,\n",
            "        -3.6666e-05, -4.9198e-02, -1.3849e-02,  4.3158e-02, -2.1904e-02,\n",
            "        -4.8357e-02, -1.4375e-02, -7.2350e-02, -3.7226e-02,  3.4190e-02,\n",
            "        -9.2764e-02,  1.1036e-01,  7.1926e-02, -1.5480e-02, -2.8281e-02,\n",
            "         1.7435e-01, -9.3094e-03,  7.9434e-02,  1.0453e-01,  2.6493e-02,\n",
            "         6.1396e-02, -1.6777e-02, -2.0679e-02,  9.6348e-02,  3.6505e-02,\n",
            "        -7.7523e-03,  2.9861e-02, -1.4382e-02,  1.5513e-02,  8.7132e-02,\n",
            "        -4.8737e-02, -6.7490e-02, -2.4028e-02, -2.2226e-02,  4.1705e-02,\n",
            "        -1.7581e-02,  8.3512e-02, -2.1561e-02,  5.1054e-02, -2.1537e-02,\n",
            "        -2.3691e-02, -1.1708e-01,  2.8192e-02,  1.0984e-01,  2.9401e-02,\n",
            "        -2.9005e-02, -1.0980e-03, -5.4472e-02,  2.5612e-02, -2.1219e-02,\n",
            "         4.5866e-02, -7.8966e-03,  5.5053e-02, -4.8690e-02, -1.2644e-02,\n",
            "         3.8450e-02,  7.1513e-02, -2.9508e-02,  9.8979e-02,  4.8492e-02,\n",
            "         1.1213e-02,  5.8929e-02, -6.0194e-02,  4.5098e-03, -1.5758e-01,\n",
            "         2.6223e-02, -2.7503e-02, -2.1282e-02,  3.6307e-03], device='cuda:0')}, 8: {'momentum_buffer': tensor([[ 9.4198e-02, -1.6645e-01, -5.9185e-02,  1.5079e-02, -3.0813e-01,\n",
            "          3.1289e-02,  5.2883e-02,  5.6400e-02, -5.2566e-01, -1.0761e-01,\n",
            "         -3.8722e-01, -1.8168e-01,  1.0268e-03, -1.6700e-01,  2.0793e-02,\n",
            "         -3.2759e-01, -1.7111e-02, -4.0436e-02,  4.2337e-02,  1.4629e-02,\n",
            "          1.1356e-01, -8.6099e-03, -5.4573e-03, -1.7516e-01,  1.5314e-02,\n",
            "         -2.2573e-01, -1.7564e-01, -3.6828e-01, -4.6327e-02,  4.6431e-02,\n",
            "         -7.3867e-01, -1.2885e-01,  7.1197e-02, -1.3023e-01,  2.2749e-02,\n",
            "          2.2498e-02,  3.7546e-02,  1.4623e-01, -5.7755e-02, -9.4253e-02,\n",
            "         -2.7600e-03, -1.2265e-01,  4.9114e-03,  8.0326e-02, -3.1963e-01,\n",
            "          5.7998e-02,  5.9660e-02, -1.4562e-01,  5.8202e-02, -5.0473e-02,\n",
            "          5.3622e-02,  2.2730e-02,  1.7468e-03,  5.0164e-02, -2.0226e-01,\n",
            "         -7.8929e-02,  2.4699e-01, -4.9867e-01,  1.5907e-01, -8.3328e-02,\n",
            "         -1.2222e-02, -4.1188e-01, -1.0148e-01, -2.6474e-02,  1.7580e-02,\n",
            "          3.4921e-03,  9.3376e-02, -2.7118e-01,  3.1633e-02,  2.4257e-02,\n",
            "         -3.6724e-01, -1.2370e-01,  2.4626e-01,  8.0094e-02, -2.8177e-01,\n",
            "         -2.6813e-01, -1.8017e-01, -5.8460e-01,  1.0325e-03, -5.5700e-02,\n",
            "          2.4881e-02, -1.8577e-01, -2.1538e-03,  8.9397e-03],\n",
            "        [ 7.7836e-03, -4.0504e-03,  9.2397e-02, -5.3055e-02,  1.4210e-01,\n",
            "         -6.7452e-02,  9.4861e-03, -9.0186e-02,  3.9381e-01,  1.9992e-02,\n",
            "         -3.2016e-02, -5.4563e-04,  5.3056e-02, -1.8211e-03, -7.9937e-03,\n",
            "          6.9638e-02,  1.3312e-02, -4.1889e-02,  1.2359e-02,  3.8440e-03,\n",
            "          2.2220e-03,  5.0206e-02, -2.6897e-02, -1.0298e-01,  1.4251e-02,\n",
            "          3.3032e-02,  5.3202e-02,  3.6882e-01,  1.6142e-02,  1.4244e-02,\n",
            "          1.7335e-01,  2.4114e-02,  4.5194e-02, -2.0966e-02,  3.2630e-03,\n",
            "          1.0442e-03,  6.3014e-02, -1.7716e-01,  9.0348e-04,  1.1674e-02,\n",
            "          1.8395e-02,  3.1111e-02,  1.9046e-03,  1.3945e-02,  6.5366e-02,\n",
            "          9.5868e-02, -2.9805e-02,  6.4101e-02,  2.5253e-02, -2.9238e-03,\n",
            "          7.1327e-03, -2.0451e-02,  2.2365e-03,  1.4333e-03, -1.0153e-02,\n",
            "          2.1943e-02, -3.2100e-02, -1.6106e-01,  3.4687e-03, -9.6955e-02,\n",
            "          7.3724e-03, -1.1545e-01, -1.1873e-02,  7.7134e-02,  2.3985e-03,\n",
            "         -1.9104e-02,  4.1041e-02,  1.1648e-02,  4.9813e-02,  1.9637e-03,\n",
            "          2.1764e-02,  1.4406e-02, -1.7147e-01,  3.2586e-02,  7.4026e-02,\n",
            "          2.4828e-02,  1.1074e-02,  1.2808e-02,  2.1221e-03, -3.5551e-02,\n",
            "          5.9827e-04,  1.7957e-02,  1.1589e-02, -2.6907e-03],\n",
            "        [ 8.1952e-02,  1.3454e-02,  2.6761e-02, -1.2191e-01,  2.0761e-01,\n",
            "          1.6055e-01, -4.4508e-02,  7.3650e-02,  1.4291e-01,  1.5663e-01,\n",
            "          1.9532e-01,  1.0442e-01, -6.3878e-02, -1.4764e-02,  1.1036e-01,\n",
            "          7.2059e-01,  2.1778e-01,  1.9652e-02, -1.8249e-02,  1.3266e-01,\n",
            "          1.0348e-01,  4.6895e-02,  7.5724e-02,  3.3020e-01,  1.8455e-02,\n",
            "          1.0075e-01,  2.3015e-01,  7.2065e-02,  2.3946e-02, -1.3837e-01,\n",
            "          1.1151e+00,  6.0367e-01,  5.2084e-01,  6.2840e-01,  7.1750e-02,\n",
            "          4.7366e-01,  2.7435e-02,  6.6429e-02, -2.0537e-03,  3.0393e-03,\n",
            "          5.9881e-02,  5.7083e-02,  7.5366e-02,  6.9748e-01,  8.3858e-01,\n",
            "          2.6747e-01,  8.2367e-02,  7.4152e-02,  1.2363e-01,  3.1480e-01,\n",
            "          4.0665e-01,  5.8490e-01, -9.3032e-04, -3.8529e-02,  1.3617e-01,\n",
            "          1.9228e-01, -3.2660e-02,  5.1187e-01,  1.3209e-01, -9.0413e-02,\n",
            "          7.5249e-03, -5.9697e-03,  7.9301e-02,  2.7189e-02, -5.6934e-02,\n",
            "         -1.1593e-01,  3.1015e-03,  6.9691e-01,  1.8121e-01,  8.2933e-02,\n",
            "          4.2976e-01,  1.6624e-01,  7.8084e-02,  8.5473e-01, -2.5345e-02,\n",
            "          9.9208e-03,  4.3624e-02,  8.6756e-02,  1.0066e-03,  3.4141e-01,\n",
            "         -7.9730e-02,  3.7254e-02,  2.1347e-01, -1.2265e-01],\n",
            "        [-4.3029e-02,  3.7818e-02,  3.0551e-01,  2.3853e-01, -8.1459e-02,\n",
            "         -2.2433e-01,  1.1576e-01, -1.6009e-02,  2.2475e-01,  1.6931e-02,\n",
            "          3.2748e-02, -1.4871e-01, -4.9778e-01,  5.7449e-01, -5.4556e-02,\n",
            "         -1.1210e-01, -3.7050e-03, -7.9813e-02,  3.8433e-02, -2.4808e-01,\n",
            "         -1.1469e-01, -3.5457e-02,  2.3852e-02,  6.1042e-01, -4.1597e-03,\n",
            "         -3.6812e-03, -1.8164e-01,  5.4150e-02, -4.7886e-02,  3.3956e-02,\n",
            "          1.6251e-02, -8.1649e-01, -9.5360e-02, -1.6628e-01, -7.3566e-02,\n",
            "         -1.7232e-02,  4.0285e-02,  1.1360e-03, -2.1888e-01,  1.9807e-01,\n",
            "          3.2464e-02, -1.4232e-01,  4.4332e-02, -6.2696e-01, -7.8248e-01,\n",
            "         -2.8084e-01, -2.1391e-01,  4.9898e-05, -1.6988e-01,  2.6693e-02,\n",
            "         -2.9383e-01, -9.2357e-02,  1.4260e-02, -3.2922e-03, -1.0284e-01,\n",
            "         -3.6775e-01,  9.3606e-02, -1.4166e-01, -1.9656e-02,  2.3384e-01,\n",
            "          2.9264e-02,  1.3885e-01,  2.0118e-01,  3.2547e-02, -5.4738e-02,\n",
            "          1.4550e-01,  5.2649e-02,  1.4593e-02, -2.1374e-01,  1.0196e-01,\n",
            "          2.1265e-01, -1.4946e-01, -1.4506e-01, -7.2463e-01,  3.3127e-01,\n",
            "          1.4885e-02,  8.2945e-05,  3.5485e-02, -4.4404e-03, -5.1591e-01,\n",
            "         -9.4695e-02,  2.1599e-02, -1.2272e-01,  3.2384e-02],\n",
            "        [-5.5988e-02, -1.0216e-01, -5.2805e-02, -6.1980e-02,  7.3777e-03,\n",
            "          1.7904e-02, -2.4412e-01, -1.6573e-01,  6.4267e-02,  8.9852e-04,\n",
            "          7.1348e-03, -1.7458e-01,  1.5958e-02, -7.8651e-02, -4.8783e-01,\n",
            "          1.4886e-01, -2.5332e-02,  6.2877e-03,  2.4337e-02, -1.8437e-01,\n",
            "         -2.3260e-01,  8.8655e-02, -4.4793e-02, -1.4692e-01, -5.1776e-02,\n",
            "         -1.4449e-01, -3.4701e-02, -2.2308e-02,  3.6639e-02, -4.8320e-02,\n",
            "         -1.5338e-02,  9.6659e-02, -4.1571e-01,  5.4268e-02,  5.9533e-02,\n",
            "         -7.2950e-02, -2.6998e-03, -2.2209e-01,  9.4678e-02,  2.9126e-02,\n",
            "         -1.0555e-01,  6.7361e-03, -1.2103e-01, -1.5226e-01, -6.8049e-02,\n",
            "         -2.3337e-02, -2.0573e-01,  8.6812e-03,  1.3669e-01, -8.0903e-02,\n",
            "         -4.5193e-01, -3.2365e-01, -1.4242e-02,  1.8470e-02,  6.4485e-02,\n",
            "          1.9280e-01,  1.0258e-01, -6.4237e-03, -4.7679e-01, -3.9242e-02,\n",
            "          4.3554e-03, -1.8243e-02,  1.1316e-02, -6.0871e-02, -1.0371e-01,\n",
            "         -1.0352e-02, -2.1559e-01, -1.0677e-01, -4.6503e-02, -4.9812e-01,\n",
            "          5.6600e-02, -5.6803e-02,  3.9894e-02, -1.2520e-01, -5.6605e-02,\n",
            "         -2.2477e-02, -5.4943e-02, -1.6356e-02,  2.1441e-04, -1.7948e-01,\n",
            "          4.6375e-02,  6.8910e-02, -3.4586e-01,  5.3470e-03],\n",
            "        [ 1.6326e-01,  4.5650e-02, -2.8928e-01, -9.7812e-02, -9.5404e-02,\n",
            "          9.8896e-02, -8.0860e-02,  3.6314e-02, -1.1347e-01,  3.6307e-02,\n",
            "          1.1427e-01,  3.3565e-02,  4.9881e-02, -5.5678e-01,  1.1721e-01,\n",
            "          4.9245e-02, -7.0154e-02,  3.7706e-03,  2.6098e-02,  1.3141e-01,\n",
            "          1.5961e-01, -1.8160e-01,  4.2569e-02, -5.4170e-01,  1.2955e-02,\n",
            "          2.2622e-02,  2.0172e-01,  3.5226e-02,  1.8208e-02,  1.8946e-02,\n",
            "         -4.9143e-01, -1.2132e-01, -7.3046e-02, -2.9506e-01,  2.6250e-02,\n",
            "         -4.0543e-02, -2.2887e-02,  2.7928e-02, -2.6916e-01, -2.7517e-01,\n",
            "          1.5757e-01,  6.3031e-03,  8.0646e-02, -9.7602e-02,  7.7460e-05,\n",
            "         -6.9186e-02,  9.2660e-02, -4.3087e-02, -9.4890e-02,  2.6417e-02,\n",
            "          1.2708e-01, -7.4213e-01, -4.6443e-02,  4.0014e-02,  2.6751e-01,\n",
            "          1.2627e-01, -5.2492e-01,  2.0711e-01,  9.2523e-02, -4.4445e-02,\n",
            "         -6.4693e-02,  2.1285e-02, -2.3357e-01, -6.5995e-03,  7.9422e-02,\n",
            "          2.4194e-02,  3.2661e-02,  6.2339e-02,  6.8859e-02, -2.2217e-01,\n",
            "         -1.2432e-02,  2.4618e-02,  5.2658e-02,  2.0325e-01, -2.4030e-01,\n",
            "          3.8821e-03,  2.3942e-02,  1.2696e-01,  2.7930e-04,  1.4446e-01,\n",
            "          9.6903e-02,  3.3738e-02,  7.4410e-03, -2.2560e-02],\n",
            "        [ 4.8091e-03,  6.8709e-02,  7.9442e-03,  5.0412e-03,  2.3662e-02,\n",
            "         -6.0625e-02,  1.3223e-02,  3.8899e-02,  2.2990e-02, -1.5454e-01,\n",
            "          2.7990e-02,  2.8659e-02,  5.0493e-01,  4.7751e-02,  2.5425e-01,\n",
            "         -5.8358e-01, -6.4174e-02,  7.1365e-02,  6.1855e-02,  1.1085e-02,\n",
            "         -1.4691e-02, -1.7545e-02,  3.5754e-02,  5.5896e-02,  2.0987e-03,\n",
            "          4.3708e-02, -2.6860e-01, -6.4242e-03,  3.5988e-03,  7.9600e-02,\n",
            "         -2.1384e-01, -6.7979e-02, -3.0496e-01, -2.5993e-01, -1.9034e-02,\n",
            "         -3.4262e-01,  1.0894e-02,  5.5671e-02,  3.0670e-01,  2.7453e-02,\n",
            "         -5.3153e-02,  1.5706e-02, -4.3048e-02, -2.1374e-01, -4.2721e-02,\n",
            "         -6.0396e-02,  2.7579e-02, -4.4377e-02, -1.6133e-02, -3.0443e-01,\n",
            "          2.2769e-01,  7.5171e-02, -2.0897e-02,  7.1262e-04, -9.1532e-02,\n",
            "         -3.7996e-02,  3.0433e-01, -2.6711e-01,  1.0946e-01,  9.5898e-03,\n",
            "         -5.9572e-03,  3.4292e-02,  5.2978e-03, -1.0941e-02,  4.6881e-02,\n",
            "         -6.1318e-04,  1.0180e-01, -5.2611e-01, -1.1667e-01,  3.3557e-01,\n",
            "         -3.8136e-01, -3.9009e-03,  9.1177e-03, -2.9500e-01, -1.2692e-01,\n",
            "         -1.2192e-03,  2.6655e-02,  8.3196e-02,  1.9024e-04,  1.0672e-01,\n",
            "          4.1411e-03, -4.1565e-02,  8.0775e-02,  1.2543e-01],\n",
            "        [-1.8096e-01,  6.4733e-02,  4.1200e-02, -7.4514e-03, -5.4092e-02,\n",
            "          9.2669e-02,  2.1940e-01, -7.8918e-03, -2.6113e-01,  9.6853e-03,\n",
            "         -2.3936e-03,  3.5971e-02,  1.0933e-02,  7.3629e-02,  4.2019e-02,\n",
            "          1.5255e-02, -1.6357e-01,  1.0338e-02, -8.9034e-02, -1.6714e-01,\n",
            "         -7.4120e-02,  7.1023e-02, -2.0656e-01, -2.1443e-01,  2.2532e-03,\n",
            "         -8.1436e-02,  4.2623e-02,  2.4117e-02, -7.3187e-03,  1.8196e-02,\n",
            "          1.4133e-01,  4.1901e-01,  2.7298e-01,  1.0745e-01, -1.7608e-01,\n",
            "          4.3150e-03,  3.1739e-02,  6.4012e-02,  1.0559e-01, -5.9656e-03,\n",
            "         -1.2844e-01, -8.0479e-02, -1.3982e-01,  2.4404e-01, -3.4003e-02,\n",
            "         -6.8742e-02,  1.5647e-01, -1.3286e-01,  2.6424e-03,  1.9394e-02,\n",
            "         -1.1196e-01,  4.4739e-01,  6.4765e-02, -2.3811e-01, -1.1041e-01,\n",
            "         -6.8907e-02,  6.7652e-02,  1.0670e-01,  2.6557e-02,  1.2140e-02,\n",
            "          6.5511e-03,  2.1282e-02,  4.3762e-02, -1.2196e-01,  7.0141e-02,\n",
            "         -2.4344e-03,  5.9654e-03,  5.7394e-02,  8.7760e-02,  1.5265e-01,\n",
            "         -3.8234e-02,  9.0214e-03,  4.4142e-02,  1.7208e-01, -1.0875e-01,\n",
            "         -7.4367e-02,  1.3314e-02,  3.9546e-02,  6.6890e-05,  7.6081e-02,\n",
            "         -3.4662e-03, -9.7395e-02,  6.7614e-02, -2.5976e-03],\n",
            "        [-1.4842e-01,  7.0134e-03, -1.5668e-01,  4.5083e-02,  1.7887e-02,\n",
            "         -1.9599e-01, -4.6122e-02,  5.8982e-02, -1.7889e-01, -3.0250e-03,\n",
            "         -1.1574e-01,  9.8462e-02, -1.1186e-01,  3.3660e-02, -1.3602e-02,\n",
            "         -2.7643e-02,  1.2173e-02,  8.4056e-03, -9.2624e-02,  1.0769e-02,\n",
            "          1.1839e-02, -4.0286e-03,  4.0378e-02,  9.4136e-02, -1.4783e-02,\n",
            "          1.2590e-01,  4.9023e-02, -1.8182e-01, -1.2987e-02, -5.4459e-02,\n",
            "         -1.4693e-01,  1.2716e-02, -5.2858e-02,  8.2275e-03,  7.6368e-03,\n",
            "         -3.5089e-02, -9.8754e-02, -7.7636e-02,  9.7981e-03,  3.8989e-02,\n",
            "          6.6467e-03,  1.9123e-02, -1.5558e-02,  2.5973e-02,  1.6172e-02,\n",
            "          1.3374e-02,  1.7401e-02,  2.1946e-01, -1.4860e-01,  4.3656e-02,\n",
            "          2.7414e-02,  8.2334e-03,  7.5276e-04, -2.2290e-03,  1.0207e-02,\n",
            "         -5.1336e-03, -2.2868e-01, -2.8112e-03, -3.1508e-02,  8.2664e-02,\n",
            "          9.8204e-04,  1.0943e-01, -3.9707e-02,  8.6253e-03, -3.9849e-03,\n",
            "          1.8243e-02, -7.7231e-02, -1.9467e-04, -7.9855e-02,  1.0079e-02,\n",
            "          4.8217e-02,  3.8559e-02, -1.9340e-01, -2.5075e-01,  6.0663e-02,\n",
            "          3.3368e-02,  9.1728e-02,  2.3408e-02, -1.6220e-02,  7.8030e-02,\n",
            "          2.3479e-03,  4.3726e-03,  1.3550e-02, -7.0501e-02],\n",
            "        [ 7.6393e-02,  3.5281e-02,  8.4149e-02,  3.8471e-02,  1.4045e-01,\n",
            "          1.4709e-01,  4.8629e-03,  1.5572e-02,  2.3042e-01,  2.4728e-02,\n",
            "          1.5991e-01,  2.0444e-01,  3.7740e-02,  8.9478e-02,  1.9360e-02,\n",
            "          4.7328e-02,  1.0078e-01,  4.2320e-02, -5.5119e-03,  2.9519e-01,\n",
            "          4.5390e-02, -9.5377e-03,  6.5428e-02,  9.0531e-02,  5.3915e-03,\n",
            "          1.2932e-01,  8.3850e-02,  2.4451e-02,  1.5986e-02,  2.9782e-02,\n",
            "          1.6016e-01, -2.1537e-02,  3.1726e-02,  7.4116e-02,  7.7501e-02,\n",
            "          6.9166e-03, -8.6574e-02,  1.1548e-01,  3.0185e-02,  6.7037e-02,\n",
            "          1.4946e-02,  2.0938e-01,  1.1230e-01,  2.8791e-02,  3.2669e-01,\n",
            "          6.7793e-02,  1.3300e-02, -4.9534e-04,  8.3081e-02,  7.7774e-03,\n",
            "          8.1308e-03,  4.0166e-02, -1.2496e-03,  1.7137e-01,  3.8817e-02,\n",
            "          2.5416e-02,  3.1910e-03,  2.5205e-01,  4.7739e-03,  1.6152e-02,\n",
            "          2.6823e-02,  2.2641e-01,  4.5774e-02,  8.1351e-02,  2.9411e-03,\n",
            "         -4.3000e-02, -3.7772e-02,  6.1378e-02,  3.7496e-02,  1.0875e-02,\n",
            "          3.0265e-02,  8.1023e-02,  3.9781e-02,  5.2834e-02,  3.7374e-01,\n",
            "          2.7931e-01,  2.4693e-02,  1.9280e-01,  1.5748e-02,  3.9935e-02,\n",
            "          2.6442e-03,  1.4090e-01,  7.6292e-02,  4.8898e-02]], device='cuda:0')}, 9: {'momentum_buffer': tensor([-0.3773,  0.0406,  0.5754, -0.0718, -0.3316,  0.0014,  0.0039, -0.1062,\n",
            "         0.0552,  0.2103], device='cuda:0')}}\n",
            "param_groups : [{'lr': 0.001, 'momentum': 0.9, 'dampening': 0, 'weight_decay': 0, 'nesterov': False, 'params': [0, 1, 2, 3, 4, 5, 6, 7, 8, 9]}]\n",
            "\n",
            "The Google Drive directory path to the file is : /content/drive/MyDrive/Colab Notebooks/cifar10.pth\n"
          ],
          "name": "stdout"
        }
      ]
    },
    {
      "cell_type": "code",
      "metadata": {
        "id": "RIilrtTRJwBH",
        "colab": {
          "base_uri": "https://localhost:8080/"
        },
        "outputId": "e7968913-791f-462c-8e8b-c039dfa8799e"
      },
      "source": [
        "# print(torch.cuda.get_device_name())\r\n",
        "torch.save(net.state_dict(),path)\r\n",
        "print('Successfully saved!')"
      ],
      "execution_count": null,
      "outputs": [
        {
          "output_type": "stream",
          "text": [
            "Successfully saved!\n"
          ],
          "name": "stdout"
        }
      ]
    },
    {
      "cell_type": "code",
      "metadata": {
        "id": "lwaC6op-ManL",
        "colab": {
          "base_uri": "https://localhost:8080/"
        },
        "outputId": "6ec252b3-9104-4a39-ef98-7cb5668690b2"
      },
      "source": [
        "net_1=Net()\r\n",
        "net_1.load_state_dict(torch.load(path))\r\n",
        "net_1.to(device)\r\n",
        "# import os\r\n",
        "# print(os.getcwd())\r\n",
        "# print(os.listdir())\r\n",
        "\r\n",
        "print('-->'.join(param_keys for param_keys in net_1.state_dict()))"
      ],
      "execution_count": null,
      "outputs": [
        {
          "output_type": "stream",
          "text": [
            "conv1.weight-->conv1.bias-->conv2.weight-->conv2.bias-->fc1.weight-->fc1.bias-->fc2.weight-->fc2.bias-->fc3.weight-->fc3.bias\n"
          ],
          "name": "stdout"
        }
      ]
    },
    {
      "cell_type": "code",
      "metadata": {
        "id": "__pThamqHPtu"
      },
      "source": [
        "# General checkpoint\r\n",
        "path_1 = '/content/drive/MyDrive/Colab Notebooks/cifar10_op.pth'\r\n",
        "\r\n",
        "torch.save({\r\n",
        "    'epoch' : 8,\r\n",
        "    'model_state_dict' : net.state_dict(),\r\n",
        "    'optimizer_state_dict' : optimizer.state_dict(),\r\n",
        "    'loss' : 0.9431185791706667,\r\n",
        "\r\n",
        "},path_1)"
      ],
      "execution_count": null,
      "outputs": []
    },
    {
      "cell_type": "code",
      "metadata": {
        "id": "a8YiwOVShVdw",
        "colab": {
          "base_uri": "https://localhost:8080/",
          "height": 542
        },
        "outputId": "b94607a2-86d6-4c1b-a1f4-90923ccf591e"
      },
      "source": [
        "test=iter(testloader)\r\n",
        "test.next()\r\n",
        "# test.next()\r\n",
        "test.next()\r\n",
        "test_input,test_label=test.next()\r\n",
        "imshow(torchvision.utils.make_grid(test_input))\r\n",
        "test_input,test_label = test_input.to(device),test_label.to(device)\r\n",
        "# print('\\n',test_input.size(),'\\n')\r\n",
        "print('\\n Real Label is',' --> '.join('%s'%classes[test_label[j]] for j in range(4)))\r\n",
        "\r\n",
        "with torch.no_grad():\r\n",
        "  test_output=net_1(test_input)\r\n",
        "  # print(test_label)\r\n",
        "  print('\\n',test_output,'\\n')\r\n",
        "  loss=criterion(test_output,test_label)\r\n",
        "  _,predicted=torch.max(test_output,1)\r\n",
        "  print(predicted)\r\n",
        "  print(_,predicted)\r\n",
        "  print('\\n What did it guess?',' --> '.join('%s' % classes[predicted[j]] for j in range(4)))\r\n",
        "  print('\\n Loss : ',loss.item())\r\n",
        "\r\n",
        "  print(f'\\n Test Label : {test_label}\\n')\r\n",
        "  print(f' Predicited test label : {predicted}\\n')\r\n",
        "  print(f' Accuracy : {((predicted==test_label).sum()/len(predicted))*100:.2f}')"
      ],
      "execution_count": null,
      "outputs": [
        {
          "output_type": "display_data",
          "data": {
            "image/png": "[encoded data removed]",
            "text/plain": [
              "<Figure size 432x288 with 1 Axes>"
            ]
          },
          "metadata": {
            "tags": [],
            "needs_background": "light"
          }
        },
        {
          "output_type": "stream",
          "text": [
            "\n",
            " Real Label is bird --> dog --> cat --> car\n",
            "\n",
            " tensor([[ 0.9220, -6.2586,  7.0047,  2.4521,  3.3152,  0.1816,  2.6424, -1.5308,\n",
            "         -1.8764, -7.0263],\n",
            "        [ 1.1008, -1.3535,  0.4484,  2.1110, -1.4561,  1.4377, -1.4704, -1.4751,\n",
            "         -0.3511, -0.7338],\n",
            "        [ 2.4538, -2.5715,  1.3037,  2.9366,  1.1901,  1.9906,  3.9084,  0.3221,\n",
            "         -6.3687, -3.5343],\n",
            "        [ 2.1209,  5.1154, -0.9384, -2.6018, -0.6297, -3.0430,  0.7774, -4.1552,\n",
            "          1.0798,  2.2720]], device='cuda:0') \n",
            "\n",
            "tensor([2, 3, 6, 1], device='cuda:0')\n",
            "tensor([7.0047, 2.1110, 3.9084, 5.1154], device='cuda:0') tensor([2, 3, 6, 1], device='cuda:0')\n",
            "\n",
            " What did it guess? bird --> cat --> frog --> car\n",
            "\n",
            " Loss :  0.8327202200889587\n",
            "\n",
            " Test Label : tensor([2, 5, 3, 1], device='cuda:0')\n",
            "\n",
            " Predicited test label : tensor([2, 3, 6, 1], device='cuda:0')\n",
            "\n",
            " Accuracy : 50.00\n"
          ],
          "name": "stdout"
        }
      ]
    },
    {
      "cell_type": "code",
      "metadata": {
        "id": "0Zv85LVcK9hy",
        "colab": {
          "base_uri": "https://localhost:8080/"
        },
        "outputId": "d6b4f0bc-887a-40f3-9153-f7cacb1c881e"
      },
      "source": [
        "# Label-wise accuracy\r\n",
        "\r\n",
        "class_acc=[0 for i in range(10)]  # Class accuracy of all the labels\r\n",
        "class_tot=[0 for i in range(10)]  # Total no.of classes tested\r\n",
        "\r\n",
        "with torch.no_grad():\r\n",
        "  for data in testloader:\r\n",
        "    images_class,labels_class=data\r\n",
        "    images_class,labels_class=images_class.to(device),labels_class.to(device)\r\n",
        "    output_class=net_1(images_class)\r\n",
        "    _,predicted=torch.max(output_class,1)\r\n",
        "    # print(predicted)\r\n",
        "    c=(predicted==labels_class).squeeze()\r\n",
        "    \r\n",
        "    for i in range(4):\r\n",
        "      labels=labels_class[i]\r\n",
        "      class_tot[labels]+=1\r\n",
        "      class_acc[labels]+=c[i].item()\r\n",
        "\r\n",
        "for i in range(10):\r\n",
        "  print(f'Accuracy of {classes[i]} is : {(class_acc[i]/class_tot[i])*100:.2f}%')\r\n"
      ],
      "execution_count": null,
      "outputs": [
        {
          "output_type": "stream",
          "text": [
            "Accuracy of plane is : 51.00%\n",
            "Accuracy of car is : 80.20%\n",
            "Accuracy of bird is : 60.10%\n",
            "Accuracy of cat is : 45.80%\n",
            "Accuracy of deer is : 46.60%\n",
            "Accuracy of dog is : 39.40%\n",
            "Accuracy of frog is : 64.80%\n",
            "Accuracy of horse is : 67.80%\n",
            "Accuracy of ship is : 82.00%\n",
            "Accuracy of truck is : 69.00%\n"
          ],
          "name": "stdout"
        }
      ]
    },
    {
      "cell_type": "markdown",
      "metadata": {
        "id": "7ptEMr0UxIFM"
      },
      "source": [
        "#ResNet (Residual Neural Network) in PyTorch"
      ]
    },
    {
      "cell_type": "markdown",
      "metadata": {
        "id": "f_VJKwdxxTSp"
      },
      "source": [
        "Resources : \r\n",
        "\r\n",
        "1. https://towardsdatascience.com/residual-network-implementing-resnet-a7da63c7b278"
      ]
    },
    {
      "cell_type": "code",
      "metadata": {
        "id": "u1FwbLycxIQY"
      },
      "source": [
        ""
      ],
      "execution_count": null,
      "outputs": []
    }
  ]
}